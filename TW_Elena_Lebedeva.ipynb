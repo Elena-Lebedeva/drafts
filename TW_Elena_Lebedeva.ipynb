{
  "nbformat": 4,
  "nbformat_minor": 5,
  "metadata": {
    "celltoolbar": "Slideshow",
    "kernelspec": {
      "display_name": "Python 3",
      "language": "python",
      "name": "python3"
    },
    "language_info": {
      "codemirror_mode": {
        "name": "ipython",
        "version": 3
      },
      "file_extension": ".py",
      "mimetype": "text/x-python",
      "name": "python",
      "nbconvert_exporter": "python",
      "pygments_lexer": "ipython3",
      "version": "3.8.8"
    },
    "colab": {
      "name": "TW_Elena_Lebedeva.ipynb",
      "provenance": [],
      "collapsed_sections": [
        "c5f50182",
        "92399472",
        "7cecab1b",
        "5c1d2c53",
        "13015562",
        "be2bdced",
        "aa7ca5da",
        "ce93cbec",
        "c54aa714",
        "5c6e3c4b",
        "a1c74daa"
      ]
    }
  },
  "cells": [
    {
      "cell_type": "markdown",
      "metadata": {
        "id": "922a1d54"
      },
      "source": [
        "# TW - assignment \n",
        "\n",
        "- What are the main issues the CX team have? \n",
        "- Which market is performing best?\n",
        "- Do senior agents perform better?\n",
        "- We have a target of replying within 5 mins, how are we doing?\n",
        "- Notes of other data that would be useful / future ideas"
      ],
      "id": "922a1d54"
    },
    {
      "cell_type": "markdown",
      "metadata": {
        "id": "21d9f952"
      },
      "source": [
        "### Data preparation and cleaning"
      ],
      "id": "21d9f952"
    },
    {
      "cell_type": "code",
      "metadata": {
        "id": "939a5a98"
      },
      "source": [
        "# importing libraries and format needed\n",
        "import pandas as pd\n",
        "pd.options.display.float_format = '{:.2f}'.format\n",
        "%precision %.2f\n",
        "import numpy as np\n",
        "import matplotlib.pyplot as plt\n",
        "import seaborn as sns\n",
        "from datetime import datetime, timedelta\n",
        "sns.set()"
      ],
      "id": "939a5a98",
      "execution_count": null,
      "outputs": []
    },
    {
      "cell_type": "code",
      "metadata": {
        "id": "ccda9e0f"
      },
      "source": [
        "df=pd.read_excel('CX_test.xlsx', header=1)  # opening 1st sheet and saving it as df)"
      ],
      "id": "ccda9e0f",
      "execution_count": null,
      "outputs": []
    },
    {
      "cell_type": "code",
      "metadata": {
        "id": "5f4791d9",
        "outputId": "792ab8a5-31b4-4f4e-9a60-6e4cc905a88f"
      },
      "source": [
        "print('duplicates:', df.duplicated().sum())  # checking dublication, but not taking any action"
      ],
      "id": "5f4791d9",
      "execution_count": null,
      "outputs": [
        {
          "output_type": "stream",
          "text": [
            "duplicates: 8579\n"
          ],
          "name": "stdout"
        }
      ]
    },
    {
      "cell_type": "code",
      "metadata": {
        "id": "2c7a4b73"
      },
      "source": [
        "# changing columns format, deleteng unnecesary column and changing some column names\n",
        "df.columns = df.columns.str.lower().str.replace(' ','_')\n",
        "df = df.drop(columns=['unnamed:_0'])\n",
        "df=df.rename(\n",
        "    columns={'tickets_is_answered_(yes_/_no)':'tickets_is_answered','_ticket_category':'ticket_category','total_time_spent_(s)':'total_time_spent_sec','_agent_is_senior_(yes_/_no)':'agent_is_senior','_first_reply_time_in_minutes_business':'first_reply_time_min', '_first_resolution_time_in_minutes_business':'first_resolution_time_min'})"
      ],
      "id": "2c7a4b73",
      "execution_count": null,
      "outputs": []
    },
    {
      "cell_type": "code",
      "metadata": {
        "id": "7c3e7b05",
        "outputId": "5ada731a-3a2c-4582-a935-988ea6182d70"
      },
      "source": [
        "df.head(5) # checking first 5 rows of the tab"
      ],
      "id": "7c3e7b05",
      "execution_count": null,
      "outputs": [
        {
          "output_type": "execute_result",
          "data": {
            "text/html": [
              "<div>\n",
              "<style scoped>\n",
              "    .dataframe tbody tr th:only-of-type {\n",
              "        vertical-align: middle;\n",
              "    }\n",
              "\n",
              "    .dataframe tbody tr th {\n",
              "        vertical-align: top;\n",
              "    }\n",
              "\n",
              "    .dataframe thead th {\n",
              "        text-align: right;\n",
              "    }\n",
              "</style>\n",
              "<table border=\"1\" class=\"dataframe\">\n",
              "  <thead>\n",
              "    <tr style=\"text-align: right;\">\n",
              "      <th></th>\n",
              "      <th>contact_source</th>\n",
              "      <th>country</th>\n",
              "      <th>tickets_is_answered</th>\n",
              "      <th>ticket_category</th>\n",
              "      <th>total_time_spent_sec</th>\n",
              "      <th>agent_is_senior</th>\n",
              "      <th>first_reply_time_min</th>\n",
              "      <th>first_resolution_time_min</th>\n",
              "    </tr>\n",
              "  </thead>\n",
              "  <tbody>\n",
              "    <tr>\n",
              "      <th>0</th>\n",
              "      <td>email_outbound</td>\n",
              "      <td>United Kingdom</td>\n",
              "      <td>Yes</td>\n",
              "      <td>misc</td>\n",
              "      <td>2639</td>\n",
              "      <td>No</td>\n",
              "      <td>100</td>\n",
              "      <td>2183</td>\n",
              "    </tr>\n",
              "    <tr>\n",
              "      <th>1</th>\n",
              "      <td>email_inbound</td>\n",
              "      <td>Belgium</td>\n",
              "      <td>Yes</td>\n",
              "      <td>finance</td>\n",
              "      <td>360</td>\n",
              "      <td>No</td>\n",
              "      <td>168</td>\n",
              "      <td>1386</td>\n",
              "    </tr>\n",
              "    <tr>\n",
              "      <th>2</th>\n",
              "      <td>call_inbound</td>\n",
              "      <td>United Kingdom</td>\n",
              "      <td>No</td>\n",
              "      <td>spa</td>\n",
              "      <td>2401</td>\n",
              "      <td>No</td>\n",
              "      <td>0</td>\n",
              "      <td>318</td>\n",
              "    </tr>\n",
              "    <tr>\n",
              "      <th>3</th>\n",
              "      <td>call_inbound</td>\n",
              "      <td>Germany</td>\n",
              "      <td>No</td>\n",
              "      <td>finance</td>\n",
              "      <td>117</td>\n",
              "      <td>No</td>\n",
              "      <td>0</td>\n",
              "      <td>2</td>\n",
              "    </tr>\n",
              "    <tr>\n",
              "      <th>4</th>\n",
              "      <td>call_inbound</td>\n",
              "      <td>United Kingdom</td>\n",
              "      <td>No</td>\n",
              "      <td>cancellation</td>\n",
              "      <td>785</td>\n",
              "      <td>No</td>\n",
              "      <td>0</td>\n",
              "      <td>21</td>\n",
              "    </tr>\n",
              "  </tbody>\n",
              "</table>\n",
              "</div>"
            ],
            "text/plain": [
              "   contact_source         country tickets_is_answered ticket_category  \\\n",
              "0  email_outbound  United Kingdom                 Yes            misc   \n",
              "1   email_inbound         Belgium                 Yes         finance   \n",
              "2    call_inbound  United Kingdom                  No             spa   \n",
              "3    call_inbound         Germany                  No         finance   \n",
              "4    call_inbound  United Kingdom                  No    cancellation   \n",
              "\n",
              "   total_time_spent_sec agent_is_senior  first_reply_time_min  \\\n",
              "0                  2639              No                   100   \n",
              "1                   360              No                   168   \n",
              "2                  2401              No                     0   \n",
              "3                   117              No                     0   \n",
              "4                   785              No                     0   \n",
              "\n",
              "   first_resolution_time_min  \n",
              "0                       2183  \n",
              "1                       1386  \n",
              "2                        318  \n",
              "3                          2  \n",
              "4                         21  "
            ]
          },
          "metadata": {
            "tags": []
          },
          "execution_count": 5
        }
      ]
    },
    {
      "cell_type": "code",
      "metadata": {
        "id": "b282e4f6",
        "outputId": "03ffa02f-4bd5-4fb5-84db-9c7ba7140eab"
      },
      "source": [
        "# checking missing data\n",
        "pd.DataFrame(round((df.isna().mean()*100),2)).style.background_gradient('coolwarm')"
      ],
      "id": "b282e4f6",
      "execution_count": null,
      "outputs": [
        {
          "output_type": "execute_result",
          "data": {
            "text/html": [
              "<style  type=\"text/css\" >\n",
              "#T_c93b6_row0_col0,#T_c93b6_row2_col0,#T_c93b6_row4_col0,#T_c93b6_row5_col0,#T_c93b6_row6_col0,#T_c93b6_row7_col0{\n",
              "            background-color:  #3b4cc0;\n",
              "            color:  #f1f1f1;\n",
              "        }#T_c93b6_row1_col0{\n",
              "            background-color:  #5d7ce6;\n",
              "            color:  #000000;\n",
              "        }#T_c93b6_row3_col0{\n",
              "            background-color:  #b40426;\n",
              "            color:  #f1f1f1;\n",
              "        }</style><table id=\"T_c93b6_\" ><thead>    <tr>        <th class=\"blank level0\" ></th>        <th class=\"col_heading level0 col0\" >0</th>    </tr></thead><tbody>\n",
              "                <tr>\n",
              "                        <th id=\"T_c93b6_level0_row0\" class=\"row_heading level0 row0\" >contact_source</th>\n",
              "                        <td id=\"T_c93b6_row0_col0\" class=\"data row0 col0\" >0.000000</td>\n",
              "            </tr>\n",
              "            <tr>\n",
              "                        <th id=\"T_c93b6_level0_row1\" class=\"row_heading level0 row1\" >country</th>\n",
              "                        <td id=\"T_c93b6_row1_col0\" class=\"data row1 col0\" >0.460000</td>\n",
              "            </tr>\n",
              "            <tr>\n",
              "                        <th id=\"T_c93b6_level0_row2\" class=\"row_heading level0 row2\" >tickets_is_answered</th>\n",
              "                        <td id=\"T_c93b6_row2_col0\" class=\"data row2 col0\" >0.000000</td>\n",
              "            </tr>\n",
              "            <tr>\n",
              "                        <th id=\"T_c93b6_level0_row3\" class=\"row_heading level0 row3\" >ticket_category</th>\n",
              "                        <td id=\"T_c93b6_row3_col0\" class=\"data row3 col0\" >4.080000</td>\n",
              "            </tr>\n",
              "            <tr>\n",
              "                        <th id=\"T_c93b6_level0_row4\" class=\"row_heading level0 row4\" >total_time_spent_sec</th>\n",
              "                        <td id=\"T_c93b6_row4_col0\" class=\"data row4 col0\" >0.000000</td>\n",
              "            </tr>\n",
              "            <tr>\n",
              "                        <th id=\"T_c93b6_level0_row5\" class=\"row_heading level0 row5\" >agent_is_senior</th>\n",
              "                        <td id=\"T_c93b6_row5_col0\" class=\"data row5 col0\" >0.000000</td>\n",
              "            </tr>\n",
              "            <tr>\n",
              "                        <th id=\"T_c93b6_level0_row6\" class=\"row_heading level0 row6\" >first_reply_time_min</th>\n",
              "                        <td id=\"T_c93b6_row6_col0\" class=\"data row6 col0\" >0.000000</td>\n",
              "            </tr>\n",
              "            <tr>\n",
              "                        <th id=\"T_c93b6_level0_row7\" class=\"row_heading level0 row7\" >first_resolution_time_min</th>\n",
              "                        <td id=\"T_c93b6_row7_col0\" class=\"data row7 col0\" >0.000000</td>\n",
              "            </tr>\n",
              "    </tbody></table>"
            ],
            "text/plain": [
              "<pandas.io.formats.style.Styler at 0x16e067bc970>"
            ]
          },
          "metadata": {
            "tags": []
          },
          "execution_count": 6
        }
      ]
    },
    {
      "cell_type": "code",
      "metadata": {
        "id": "3056dbc8"
      },
      "source": [
        "df['ticket_category']=df['ticket_category'].fillna('undefined') # chaning missing data in 'ticket_category' to \"undefined\"\n",
        "df=df.dropna(subset=['country']) # deleing rows without information on ' country' (its percentage is very low)"
      ],
      "id": "3056dbc8",
      "execution_count": null,
      "outputs": []
    },
    {
      "cell_type": "code",
      "metadata": {
        "id": "cc7b5702"
      },
      "source": [
        "# here I have been checking on categories, duplicates inside them, it-s hidden as output is quite big\n",
        "#for row in df:\n",
        "    #print(df[row].unique()) \n",
        "    #print(df[row].value_counts()) "
      ],
      "id": "cc7b5702",
      "execution_count": null,
      "outputs": []
    },
    {
      "cell_type": "code",
      "metadata": {
        "id": "5a3e5081"
      },
      "source": [
        "# changing some names in categories after previos exploration\n",
        "df.loc[df['ticket_category'] == 'gift_card_-_e-voucher', 'ticket_category'] = 'gift_card_-_evoucher'\n",
        "df.loc[df['ticket_category'] == 'cancellation_partner_didn‚Äôt_inform_customer_', 'ticket_category'] = 'cancel_partner_not_informed_cust'\n",
        "df.loc[df['contact_source'] == 'other_ticket___dc.submit_request__', 'contact_source'] = 'other_ticket_dc.submit'"
      ],
      "id": "5a3e5081",
      "execution_count": null,
      "outputs": []
    },
    {
      "cell_type": "code",
      "metadata": {
        "id": "76893a8b"
      },
      "source": [
        "# opening 2nd sheet of the file and saving it as df_country, adding % on headcount per country\n",
        "df_country=pd.read_excel('CX_test.xlsx',sheet_name='country data', header=1, index_col=None) \n",
        "df_country.columns = df_country.columns.str.lower().str.replace(' ','_')\n",
        "df_country = df_country.drop(columns=['unnamed:_0','unnamed:_3'])\n",
        "df_country['%_headcount']=(df_country['headcount']/df_country['headcount'].sum()*100)\n",
        "df_country=df_country.sort_values('%_headcount', ascending=False).reset_index(drop=True) \n",
        "df_country.loc[df_country['country'] == 'UK', 'country'] = 'United Kingdom'"
      ],
      "id": "76893a8b",
      "execution_count": null,
      "outputs": []
    },
    {
      "cell_type": "code",
      "metadata": {
        "id": "230fe70f",
        "outputId": "325ca3f1-a03a-4fe8-d178-3bfe35d72d1f"
      },
      "source": [
        "df_country"
      ],
      "id": "230fe70f",
      "execution_count": null,
      "outputs": [
        {
          "output_type": "execute_result",
          "data": {
            "text/html": [
              "<div>\n",
              "<style scoped>\n",
              "    .dataframe tbody tr th:only-of-type {\n",
              "        vertical-align: middle;\n",
              "    }\n",
              "\n",
              "    .dataframe tbody tr th {\n",
              "        vertical-align: top;\n",
              "    }\n",
              "\n",
              "    .dataframe thead th {\n",
              "        text-align: right;\n",
              "    }\n",
              "</style>\n",
              "<table border=\"1\" class=\"dataframe\">\n",
              "  <thead>\n",
              "    <tr style=\"text-align: right;\">\n",
              "      <th></th>\n",
              "      <th>country</th>\n",
              "      <th>headcount</th>\n",
              "      <th>%_headcount</th>\n",
              "    </tr>\n",
              "  </thead>\n",
              "  <tbody>\n",
              "    <tr>\n",
              "      <th>0</th>\n",
              "      <td>Spain</td>\n",
              "      <td>50</td>\n",
              "      <td>33.11</td>\n",
              "    </tr>\n",
              "    <tr>\n",
              "      <th>1</th>\n",
              "      <td>Austria</td>\n",
              "      <td>20</td>\n",
              "      <td>13.25</td>\n",
              "    </tr>\n",
              "    <tr>\n",
              "      <th>2</th>\n",
              "      <td>Lithuania</td>\n",
              "      <td>20</td>\n",
              "      <td>13.25</td>\n",
              "    </tr>\n",
              "    <tr>\n",
              "      <th>3</th>\n",
              "      <td>Ireland</td>\n",
              "      <td>15</td>\n",
              "      <td>9.93</td>\n",
              "    </tr>\n",
              "    <tr>\n",
              "      <th>4</th>\n",
              "      <td>United Kingdom</td>\n",
              "      <td>10</td>\n",
              "      <td>6.62</td>\n",
              "    </tr>\n",
              "    <tr>\n",
              "      <th>5</th>\n",
              "      <td>Belgium</td>\n",
              "      <td>10</td>\n",
              "      <td>6.62</td>\n",
              "    </tr>\n",
              "    <tr>\n",
              "      <th>6</th>\n",
              "      <td>Netherlands</td>\n",
              "      <td>10</td>\n",
              "      <td>6.62</td>\n",
              "    </tr>\n",
              "    <tr>\n",
              "      <th>7</th>\n",
              "      <td>Switzerland</td>\n",
              "      <td>7</td>\n",
              "      <td>4.64</td>\n",
              "    </tr>\n",
              "    <tr>\n",
              "      <th>8</th>\n",
              "      <td>Germany</td>\n",
              "      <td>5</td>\n",
              "      <td>3.31</td>\n",
              "    </tr>\n",
              "    <tr>\n",
              "      <th>9</th>\n",
              "      <td>France</td>\n",
              "      <td>3</td>\n",
              "      <td>1.99</td>\n",
              "    </tr>\n",
              "    <tr>\n",
              "      <th>10</th>\n",
              "      <td>Italy</td>\n",
              "      <td>1</td>\n",
              "      <td>0.66</td>\n",
              "    </tr>\n",
              "  </tbody>\n",
              "</table>\n",
              "</div>"
            ],
            "text/plain": [
              "           country  headcount  %_headcount\n",
              "0            Spain         50        33.11\n",
              "1          Austria         20        13.25\n",
              "2        Lithuania         20        13.25\n",
              "3          Ireland         15         9.93\n",
              "4   United Kingdom         10         6.62\n",
              "5          Belgium         10         6.62\n",
              "6      Netherlands         10         6.62\n",
              "7      Switzerland          7         4.64\n",
              "8          Germany          5         3.31\n",
              "9           France          3         1.99\n",
              "10           Italy          1         0.66"
            ]
          },
          "metadata": {
            "tags": []
          },
          "execution_count": 61
        }
      ]
    },
    {
      "cell_type": "markdown",
      "metadata": {
        "id": "790c7a17"
      },
      "source": [
        ""
      ],
      "id": "790c7a17"
    },
    {
      "cell_type": "markdown",
      "metadata": {
        "id": "8cf2181c"
      },
      "source": [
        "## What are the main issues the CX team have?"
      ],
      "id": "8cf2181c"
    },
    {
      "cell_type": "markdown",
      "metadata": {
        "id": "c5f50182"
      },
      "source": [
        "#### Contact sources"
      ],
      "id": "c5f50182"
    },
    {
      "cell_type": "code",
      "metadata": {
        "id": "926f178d",
        "outputId": "ccc47797-af81-4588-f28e-f1fd581235ef"
      },
      "source": [
        "# contact_source tab\n",
        "contact_source = df.groupby('contact_source')['contact_source'].agg(['count'])\n",
        "contact_source['%_count']=contact_source['count']/contact_source['count'].sum()*100\n",
        "contact_source=contact_source.sort_values('count', ascending=False).reset_index() \n",
        "contact_source"
      ],
      "id": "926f178d",
      "execution_count": null,
      "outputs": [
        {
          "output_type": "execute_result",
          "data": {
            "text/html": [
              "<div>\n",
              "<style scoped>\n",
              "    .dataframe tbody tr th:only-of-type {\n",
              "        vertical-align: middle;\n",
              "    }\n",
              "\n",
              "    .dataframe tbody tr th {\n",
              "        vertical-align: top;\n",
              "    }\n",
              "\n",
              "    .dataframe thead th {\n",
              "        text-align: right;\n",
              "    }\n",
              "</style>\n",
              "<table border=\"1\" class=\"dataframe\">\n",
              "  <thead>\n",
              "    <tr style=\"text-align: right;\">\n",
              "      <th></th>\n",
              "      <th>contact_source</th>\n",
              "      <th>count</th>\n",
              "      <th>%_count</th>\n",
              "    </tr>\n",
              "  </thead>\n",
              "  <tbody>\n",
              "    <tr>\n",
              "      <th>0</th>\n",
              "      <td>call_inbound</td>\n",
              "      <td>20758</td>\n",
              "      <td>48.79</td>\n",
              "    </tr>\n",
              "    <tr>\n",
              "      <th>1</th>\n",
              "      <td>email_inbound</td>\n",
              "      <td>15117</td>\n",
              "      <td>35.53</td>\n",
              "    </tr>\n",
              "    <tr>\n",
              "      <th>2</th>\n",
              "      <td>email_outbound</td>\n",
              "      <td>3928</td>\n",
              "      <td>9.23</td>\n",
              "    </tr>\n",
              "    <tr>\n",
              "      <th>3</th>\n",
              "      <td>call_outbound</td>\n",
              "      <td>916</td>\n",
              "      <td>2.15</td>\n",
              "    </tr>\n",
              "    <tr>\n",
              "      <th>4</th>\n",
              "      <td>other_ticket_chat</td>\n",
              "      <td>646</td>\n",
              "      <td>1.52</td>\n",
              "    </tr>\n",
              "    <tr>\n",
              "      <th>5</th>\n",
              "      <td>other_ticket_nps</td>\n",
              "      <td>514</td>\n",
              "      <td>1.21</td>\n",
              "    </tr>\n",
              "    <tr>\n",
              "      <th>6</th>\n",
              "      <td>other_ticket_</td>\n",
              "      <td>285</td>\n",
              "      <td>0.67</td>\n",
              "    </tr>\n",
              "    <tr>\n",
              "      <th>7</th>\n",
              "      <td>other_ticket_twitter</td>\n",
              "      <td>177</td>\n",
              "      <td>0.42</td>\n",
              "    </tr>\n",
              "    <tr>\n",
              "      <th>8</th>\n",
              "      <td>other_ticket_facebook</td>\n",
              "      <td>155</td>\n",
              "      <td>0.36</td>\n",
              "    </tr>\n",
              "    <tr>\n",
              "      <th>9</th>\n",
              "      <td>other_ticket_dc.submit</td>\n",
              "      <td>47</td>\n",
              "      <td>0.11</td>\n",
              "    </tr>\n",
              "  </tbody>\n",
              "</table>\n",
              "</div>"
            ],
            "text/plain": [
              "           contact_source  count  %_count\n",
              "0            call_inbound  20758    48.79\n",
              "1           email_inbound  15117    35.53\n",
              "2          email_outbound   3928     9.23\n",
              "3           call_outbound    916     2.15\n",
              "4       other_ticket_chat    646     1.52\n",
              "5        other_ticket_nps    514     1.21\n",
              "6           other_ticket_    285     0.67\n",
              "7    other_ticket_twitter    177     0.42\n",
              "8   other_ticket_facebook    155     0.36\n",
              "9  other_ticket_dc.submit     47     0.11"
            ]
          },
          "metadata": {
            "tags": []
          },
          "execution_count": 11
        }
      ]
    },
    {
      "cell_type": "code",
      "metadata": {
        "id": "7f556b56",
        "outputId": "74b2bae4-84a0-4771-82df-3668e9b6b02b"
      },
      "source": [
        "sns.barplot(y=contact_source['contact_source'], x=contact_source['%_count'], palette='Blues_r')\n",
        "plt.title('Tickets per sources')\n",
        "plt.xlabel('%_of_total')\n",
        "plt.ylabel('')\n",
        "plt.show()"
      ],
      "id": "7f556b56",
      "execution_count": null,
      "outputs": [
        {
          "output_type": "display_data",
          "data": {
            "image/png": "[encoded data removed]",
            "text/plain": [
              "<Figure size 432x288 with 1 Axes>"
            ]
          },
          "metadata": {
            "tags": []
          }
        }
      ]
    },
    {
      "cell_type": "markdown",
      "metadata": {
        "id": "edb61de1"
      },
      "source": [
        "Almost 50% of the tickets were created after inbound call, and 36% after inbound email. 9% of the tickets has outbound email as contact source, and 2% has outbound calls as a origin. That means that 11% of the tickets were started from agents side. Chat was contact source in 1.5%.\n",
        "So the preferred way of contact is by phone, followed by email. This means that phone coverage, awating time and average call time are extremely important. "
      ],
      "id": "edb61de1"
    },
    {
      "cell_type": "markdown",
      "metadata": {
        "id": "92399472"
      },
      "source": [
        "#### Countries"
      ],
      "id": "92399472"
    },
    {
      "cell_type": "code",
      "metadata": {
        "id": "47e72c4f",
        "outputId": "2800a395-e1e0-4017-dd2e-52baec4de95e"
      },
      "source": [
        "# creating country tab\n",
        "country = df.groupby('country')['country'].agg(['count'])\n",
        "country['%_count']=country['count']/country['count'].sum()*100\n",
        "country=country.sort_values('count', ascending=False).reset_index() \n",
        "country"
      ],
      "id": "47e72c4f",
      "execution_count": null,
      "outputs": [
        {
          "output_type": "execute_result",
          "data": {
            "text/html": [
              "<div>\n",
              "<style scoped>\n",
              "    .dataframe tbody tr th:only-of-type {\n",
              "        vertical-align: middle;\n",
              "    }\n",
              "\n",
              "    .dataframe tbody tr th {\n",
              "        vertical-align: top;\n",
              "    }\n",
              "\n",
              "    .dataframe thead th {\n",
              "        text-align: right;\n",
              "    }\n",
              "</style>\n",
              "<table border=\"1\" class=\"dataframe\">\n",
              "  <thead>\n",
              "    <tr style=\"text-align: right;\">\n",
              "      <th></th>\n",
              "      <th>country</th>\n",
              "      <th>count</th>\n",
              "      <th>%_count</th>\n",
              "    </tr>\n",
              "  </thead>\n",
              "  <tbody>\n",
              "    <tr>\n",
              "      <th>0</th>\n",
              "      <td>United Kingdom</td>\n",
              "      <td>20971</td>\n",
              "      <td>49.29</td>\n",
              "    </tr>\n",
              "    <tr>\n",
              "      <th>1</th>\n",
              "      <td>Netherlands</td>\n",
              "      <td>5837</td>\n",
              "      <td>13.72</td>\n",
              "    </tr>\n",
              "    <tr>\n",
              "      <th>2</th>\n",
              "      <td>Germany</td>\n",
              "      <td>4890</td>\n",
              "      <td>11.49</td>\n",
              "    </tr>\n",
              "    <tr>\n",
              "      <th>3</th>\n",
              "      <td>France</td>\n",
              "      <td>4415</td>\n",
              "      <td>10.38</td>\n",
              "    </tr>\n",
              "    <tr>\n",
              "      <th>4</th>\n",
              "      <td>Spain</td>\n",
              "      <td>1759</td>\n",
              "      <td>4.13</td>\n",
              "    </tr>\n",
              "    <tr>\n",
              "      <th>5</th>\n",
              "      <td>Belgium</td>\n",
              "      <td>1265</td>\n",
              "      <td>2.97</td>\n",
              "    </tr>\n",
              "    <tr>\n",
              "      <th>6</th>\n",
              "      <td>Italy</td>\n",
              "      <td>972</td>\n",
              "      <td>2.28</td>\n",
              "    </tr>\n",
              "    <tr>\n",
              "      <th>7</th>\n",
              "      <td>Austria</td>\n",
              "      <td>857</td>\n",
              "      <td>2.01</td>\n",
              "    </tr>\n",
              "    <tr>\n",
              "      <th>8</th>\n",
              "      <td>Ireland</td>\n",
              "      <td>652</td>\n",
              "      <td>1.53</td>\n",
              "    </tr>\n",
              "    <tr>\n",
              "      <th>9</th>\n",
              "      <td>Switzerland</td>\n",
              "      <td>618</td>\n",
              "      <td>1.45</td>\n",
              "    </tr>\n",
              "    <tr>\n",
              "      <th>10</th>\n",
              "      <td>Lithuania</td>\n",
              "      <td>307</td>\n",
              "      <td>0.72</td>\n",
              "    </tr>\n",
              "  </tbody>\n",
              "</table>\n",
              "</div>"
            ],
            "text/plain": [
              "           country  count  %_count\n",
              "0   United Kingdom  20971    49.29\n",
              "1      Netherlands   5837    13.72\n",
              "2          Germany   4890    11.49\n",
              "3           France   4415    10.38\n",
              "4            Spain   1759     4.13\n",
              "5          Belgium   1265     2.97\n",
              "6            Italy    972     2.28\n",
              "7          Austria    857     2.01\n",
              "8          Ireland    652     1.53\n",
              "9      Switzerland    618     1.45\n",
              "10       Lithuania    307     0.72"
            ]
          },
          "metadata": {
            "tags": []
          },
          "execution_count": 13
        }
      ]
    },
    {
      "cell_type": "code",
      "metadata": {
        "id": "66dd62e2",
        "outputId": "abed560d-a0cc-4986-f4cf-4c19f383a145"
      },
      "source": [
        "sns.barplot(y=country['country'], x=country['%_count'], palette='Blues_r')\n",
        "plt.title('Tickets per countries')\n",
        "plt.xlabel('%_of_total')\n",
        "plt.ylabel('')\n",
        "plt.show()"
      ],
      "id": "66dd62e2",
      "execution_count": null,
      "outputs": [
        {
          "output_type": "display_data",
          "data": {
            "image/png": "[encoded data removed]",
            "text/plain": [
              "<Figure size 432x288 with 1 Axes>"
            ]
          },
          "metadata": {
            "tags": []
          }
        }
      ]
    },
    {
      "cell_type": "markdown",
      "metadata": {
        "id": "bf1dd765"
      },
      "source": [
        "Half of all tickets were from UK users (49%), followed by users from Netherlands (14%), Germany (12%) and France (10%)."
      ],
      "id": "bf1dd765"
    },
    {
      "cell_type": "code",
      "metadata": {
        "id": "d0a022e0",
        "outputId": "b04efc0f-c3d6-4480-a2be-1dfe224a2326"
      },
      "source": [
        "# merging previous tab with tab on headcounts in order to compare tickets% and headcount per country\n",
        "country_total=country.merge(df_country, on='country').sort_values('%_count', ascending=False).drop(columns=['headcount'])\n",
        "country_total"
      ],
      "id": "d0a022e0",
      "execution_count": null,
      "outputs": [
        {
          "output_type": "execute_result",
          "data": {
            "text/html": [
              "<div>\n",
              "<style scoped>\n",
              "    .dataframe tbody tr th:only-of-type {\n",
              "        vertical-align: middle;\n",
              "    }\n",
              "\n",
              "    .dataframe tbody tr th {\n",
              "        vertical-align: top;\n",
              "    }\n",
              "\n",
              "    .dataframe thead th {\n",
              "        text-align: right;\n",
              "    }\n",
              "</style>\n",
              "<table border=\"1\" class=\"dataframe\">\n",
              "  <thead>\n",
              "    <tr style=\"text-align: right;\">\n",
              "      <th></th>\n",
              "      <th>country</th>\n",
              "      <th>count</th>\n",
              "      <th>%_count</th>\n",
              "      <th>%_headcount</th>\n",
              "    </tr>\n",
              "  </thead>\n",
              "  <tbody>\n",
              "    <tr>\n",
              "      <th>0</th>\n",
              "      <td>United Kingdom</td>\n",
              "      <td>20971</td>\n",
              "      <td>49.29</td>\n",
              "      <td>6.62</td>\n",
              "    </tr>\n",
              "    <tr>\n",
              "      <th>1</th>\n",
              "      <td>Netherlands</td>\n",
              "      <td>5837</td>\n",
              "      <td>13.72</td>\n",
              "      <td>6.62</td>\n",
              "    </tr>\n",
              "    <tr>\n",
              "      <th>2</th>\n",
              "      <td>Germany</td>\n",
              "      <td>4890</td>\n",
              "      <td>11.49</td>\n",
              "      <td>3.31</td>\n",
              "    </tr>\n",
              "    <tr>\n",
              "      <th>3</th>\n",
              "      <td>France</td>\n",
              "      <td>4415</td>\n",
              "      <td>10.38</td>\n",
              "      <td>1.99</td>\n",
              "    </tr>\n",
              "    <tr>\n",
              "      <th>4</th>\n",
              "      <td>Spain</td>\n",
              "      <td>1759</td>\n",
              "      <td>4.13</td>\n",
              "      <td>33.11</td>\n",
              "    </tr>\n",
              "    <tr>\n",
              "      <th>5</th>\n",
              "      <td>Belgium</td>\n",
              "      <td>1265</td>\n",
              "      <td>2.97</td>\n",
              "      <td>6.62</td>\n",
              "    </tr>\n",
              "    <tr>\n",
              "      <th>6</th>\n",
              "      <td>Italy</td>\n",
              "      <td>972</td>\n",
              "      <td>2.28</td>\n",
              "      <td>0.66</td>\n",
              "    </tr>\n",
              "    <tr>\n",
              "      <th>7</th>\n",
              "      <td>Austria</td>\n",
              "      <td>857</td>\n",
              "      <td>2.01</td>\n",
              "      <td>13.25</td>\n",
              "    </tr>\n",
              "    <tr>\n",
              "      <th>8</th>\n",
              "      <td>Ireland</td>\n",
              "      <td>652</td>\n",
              "      <td>1.53</td>\n",
              "      <td>9.93</td>\n",
              "    </tr>\n",
              "    <tr>\n",
              "      <th>9</th>\n",
              "      <td>Switzerland</td>\n",
              "      <td>618</td>\n",
              "      <td>1.45</td>\n",
              "      <td>4.64</td>\n",
              "    </tr>\n",
              "    <tr>\n",
              "      <th>10</th>\n",
              "      <td>Lithuania</td>\n",
              "      <td>307</td>\n",
              "      <td>0.72</td>\n",
              "      <td>13.25</td>\n",
              "    </tr>\n",
              "  </tbody>\n",
              "</table>\n",
              "</div>"
            ],
            "text/plain": [
              "           country  count  %_count  %_headcount\n",
              "0   United Kingdom  20971    49.29         6.62\n",
              "1      Netherlands   5837    13.72         6.62\n",
              "2          Germany   4890    11.49         3.31\n",
              "3           France   4415    10.38         1.99\n",
              "4            Spain   1759     4.13        33.11\n",
              "5          Belgium   1265     2.97         6.62\n",
              "6            Italy    972     2.28         0.66\n",
              "7          Austria    857     2.01        13.25\n",
              "8          Ireland    652     1.53         9.93\n",
              "9      Switzerland    618     1.45         4.64\n",
              "10       Lithuania    307     0.72        13.25"
            ]
          },
          "metadata": {
            "tags": []
          },
          "execution_count": 15
        }
      ]
    },
    {
      "cell_type": "code",
      "metadata": {
        "id": "8b2440ff",
        "outputId": "1296729b-f600-4658-eb83-db43d041189a"
      },
      "source": [
        "country_total.sort_values('%_count').plot.barh(x='country', y=['%_count','%_headcount',], title=\"Countries: tickets volume and headcount\")\n",
        "plt.xlabel('');"
      ],
      "id": "8b2440ff",
      "execution_count": null,
      "outputs": [
        {
          "output_type": "display_data",
          "data": {
            "image/png": "[encoded data removed]",
            "text/plain": [
              "<Figure size 432x288 with 1 Axes>"
            ]
          },
          "metadata": {
            "tags": []
          }
        }
      ]
    },
    {
      "cell_type": "markdown",
      "metadata": {
        "id": "131e1f3f"
      },
      "source": [
        "Tickets from users from UK, Netherlands, Germany and France have more volumes that the headcount proportions for these countries, and the opposite is happening with Spain and Lithuania. Belgium, Austria, Ireland and Switzerland surely are covering needs of the markets with less native agents, but probably not completely and some language tickets can have more waiting time. For the full undersanding we need more information on laguages of agents and ticket language."
      ],
      "id": "131e1f3f"
    },
    {
      "cell_type": "markdown",
      "metadata": {
        "id": "7cecab1b"
      },
      "source": [
        "#### Ticket categories"
      ],
      "id": "7cecab1b"
    },
    {
      "cell_type": "code",
      "metadata": {
        "id": "06d5aadb",
        "outputId": "2823174c-cc44-4079-dea3-65683836de7b"
      },
      "source": [
        "# ticket_category tab\n",
        "ticket_category = df.groupby('ticket_category')['ticket_category'].agg(['count'])\n",
        "ticket_category['%_count']=ticket_category['count']/contact_source['count'].sum()*100\n",
        "ticket_category=ticket_category.sort_values('count', ascending=False).reset_index() \n",
        "ticket_category.head(10)"
      ],
      "id": "06d5aadb",
      "execution_count": null,
      "outputs": [
        {
          "output_type": "execute_result",
          "data": {
            "text/html": [
              "<div>\n",
              "<style scoped>\n",
              "    .dataframe tbody tr th:only-of-type {\n",
              "        vertical-align: middle;\n",
              "    }\n",
              "\n",
              "    .dataframe tbody tr th {\n",
              "        vertical-align: top;\n",
              "    }\n",
              "\n",
              "    .dataframe thead th {\n",
              "        text-align: right;\n",
              "    }\n",
              "</style>\n",
              "<table border=\"1\" class=\"dataframe\">\n",
              "  <thead>\n",
              "    <tr style=\"text-align: right;\">\n",
              "      <th></th>\n",
              "      <th>ticket_category</th>\n",
              "      <th>count</th>\n",
              "      <th>%_count</th>\n",
              "    </tr>\n",
              "  </thead>\n",
              "  <tbody>\n",
              "    <tr>\n",
              "      <th>0</th>\n",
              "      <td>cancellation</td>\n",
              "      <td>11521</td>\n",
              "      <td>27.08</td>\n",
              "    </tr>\n",
              "    <tr>\n",
              "      <th>1</th>\n",
              "      <td>profile</td>\n",
              "      <td>7079</td>\n",
              "      <td>16.64</td>\n",
              "    </tr>\n",
              "    <tr>\n",
              "      <th>2</th>\n",
              "      <td>misc</td>\n",
              "      <td>5799</td>\n",
              "      <td>13.63</td>\n",
              "    </tr>\n",
              "    <tr>\n",
              "      <th>3</th>\n",
              "      <td>finance</td>\n",
              "      <td>3310</td>\n",
              "      <td>7.78</td>\n",
              "    </tr>\n",
              "    <tr>\n",
              "      <th>4</th>\n",
              "      <td>complaint</td>\n",
              "      <td>2617</td>\n",
              "      <td>6.15</td>\n",
              "    </tr>\n",
              "    <tr>\n",
              "      <th>5</th>\n",
              "      <td>other</td>\n",
              "      <td>2001</td>\n",
              "      <td>4.70</td>\n",
              "    </tr>\n",
              "    <tr>\n",
              "      <th>6</th>\n",
              "      <td>new_or_existing_order</td>\n",
              "      <td>1656</td>\n",
              "      <td>3.89</td>\n",
              "    </tr>\n",
              "    <tr>\n",
              "      <th>7</th>\n",
              "      <td>undefined</td>\n",
              "      <td>1544</td>\n",
              "      <td>3.63</td>\n",
              "    </tr>\n",
              "    <tr>\n",
              "      <th>8</th>\n",
              "      <td>spa</td>\n",
              "      <td>1301</td>\n",
              "      <td>3.06</td>\n",
              "    </tr>\n",
              "    <tr>\n",
              "      <th>9</th>\n",
              "      <td>promo_code</td>\n",
              "      <td>1009</td>\n",
              "      <td>2.37</td>\n",
              "    </tr>\n",
              "  </tbody>\n",
              "</table>\n",
              "</div>"
            ],
            "text/plain": [
              "         ticket_category  count  %_count\n",
              "0           cancellation  11521    27.08\n",
              "1                profile   7079    16.64\n",
              "2                   misc   5799    13.63\n",
              "3                finance   3310     7.78\n",
              "4              complaint   2617     6.15\n",
              "5                  other   2001     4.70\n",
              "6  new_or_existing_order   1656     3.89\n",
              "7              undefined   1544     3.63\n",
              "8                    spa   1301     3.06\n",
              "9             promo_code   1009     2.37"
            ]
          },
          "metadata": {
            "tags": []
          },
          "execution_count": 17
        }
      ]
    },
    {
      "cell_type": "code",
      "metadata": {
        "id": "6c9ea2b1",
        "outputId": "ff3f9ba6-8755-4dca-f42c-6f0ea9fc8f7d"
      },
      "source": [
        "sns.barplot(y=ticket_category['ticket_category'], x=ticket_category['%_count'], palette='Blues_r')\n",
        "plt.title('Tickets per category')\n",
        "plt.xlabel('%_of_total')\n",
        "plt.ylabel('')\n",
        "plt.show()"
      ],
      "id": "6c9ea2b1",
      "execution_count": null,
      "outputs": [
        {
          "output_type": "display_data",
          "data": {
            "image/png": "[encoded data removed]",
            "text/plain": [
              "<Figure size 432x288 with 1 Axes>"
            ]
          },
          "metadata": {
            "tags": []
          }
        }
      ]
    },
    {
      "cell_type": "markdown",
      "metadata": {
        "id": "62a7a7f5"
      },
      "source": [
        "The most popular ticket category is cancellation, with 27% from all tickets, followed by tickets related to profile questions with 17%. The third most frequent category is misclassified, with 13.63%. It should be noticed, that the is also \"other\" category with 4.7 and \"undefined\" (which is the label for missing values) with 3.63%. All together unknown ticket topics sums 22%, which is quite high and we might have to look better into the ticket categorization and ticket topics. \n",
        "It should be noted that cancellation tickets can be more time consuming and increase handling time."
      ],
      "id": "62a7a7f5"
    },
    {
      "cell_type": "markdown",
      "metadata": {
        "id": "5c1d2c53"
      },
      "source": [
        "#### Agents tenure"
      ],
      "id": "5c1d2c53"
    },
    {
      "cell_type": "code",
      "metadata": {
        "id": "f506456b",
        "outputId": "28b7a935-cc93-4117-f9e7-c5785eb7d25d"
      },
      "source": [
        "agent = df.groupby('agent_is_senior')['agent_is_senior'].agg(['count'])\n",
        "agent['%_count']=agent['count']/agent['count'].sum()*100\n",
        "agent.sort_values('count', ascending=False)"
      ],
      "id": "f506456b",
      "execution_count": null,
      "outputs": [
        {
          "output_type": "execute_result",
          "data": {
            "text/html": [
              "<div>\n",
              "<style scoped>\n",
              "    .dataframe tbody tr th:only-of-type {\n",
              "        vertical-align: middle;\n",
              "    }\n",
              "\n",
              "    .dataframe tbody tr th {\n",
              "        vertical-align: top;\n",
              "    }\n",
              "\n",
              "    .dataframe thead th {\n",
              "        text-align: right;\n",
              "    }\n",
              "</style>\n",
              "<table border=\"1\" class=\"dataframe\">\n",
              "  <thead>\n",
              "    <tr style=\"text-align: right;\">\n",
              "      <th></th>\n",
              "      <th>count</th>\n",
              "      <th>%_count</th>\n",
              "    </tr>\n",
              "    <tr>\n",
              "      <th>agent_is_senior</th>\n",
              "      <th></th>\n",
              "      <th></th>\n",
              "    </tr>\n",
              "  </thead>\n",
              "  <tbody>\n",
              "    <tr>\n",
              "      <th>No</th>\n",
              "      <td>38709</td>\n",
              "      <td>90.99</td>\n",
              "    </tr>\n",
              "    <tr>\n",
              "      <th>Yes</th>\n",
              "      <td>3834</td>\n",
              "      <td>9.01</td>\n",
              "    </tr>\n",
              "  </tbody>\n",
              "</table>\n",
              "</div>"
            ],
            "text/plain": [
              "                 count  %_count\n",
              "agent_is_senior                \n",
              "No               38709    90.99\n",
              "Yes               3834     9.01"
            ]
          },
          "metadata": {
            "tags": []
          },
          "execution_count": 19
        }
      ]
    },
    {
      "cell_type": "markdown",
      "metadata": {
        "id": "288dfc4f"
      },
      "source": [
        "9% of all tickets were handled by senior agents."
      ],
      "id": "288dfc4f"
    },
    {
      "cell_type": "markdown",
      "metadata": {
        "id": "13015562"
      },
      "source": [
        "#### Answered tickets"
      ],
      "id": "13015562"
    },
    {
      "cell_type": "code",
      "metadata": {
        "id": "5e6ea60e",
        "outputId": "ad41a7af-b7d8-4f31-9d4a-6a6ef877648c"
      },
      "source": [
        "tickets_is_answered = df.groupby('tickets_is_answered')['tickets_is_answered'].agg(['count'])\n",
        "tickets_is_answered['%_count']=tickets_is_answered['count']/tickets_is_answered['count'].sum()*100\n",
        "tickets_is_answered.sort_values('count', ascending=False)"
      ],
      "id": "5e6ea60e",
      "execution_count": null,
      "outputs": [
        {
          "output_type": "execute_result",
          "data": {
            "text/html": [
              "<div>\n",
              "<style scoped>\n",
              "    .dataframe tbody tr th:only-of-type {\n",
              "        vertical-align: middle;\n",
              "    }\n",
              "\n",
              "    .dataframe tbody tr th {\n",
              "        vertical-align: top;\n",
              "    }\n",
              "\n",
              "    .dataframe thead th {\n",
              "        text-align: right;\n",
              "    }\n",
              "</style>\n",
              "<table border=\"1\" class=\"dataframe\">\n",
              "  <thead>\n",
              "    <tr style=\"text-align: right;\">\n",
              "      <th></th>\n",
              "      <th>count</th>\n",
              "      <th>%_count</th>\n",
              "    </tr>\n",
              "    <tr>\n",
              "      <th>tickets_is_answered</th>\n",
              "      <th></th>\n",
              "      <th></th>\n",
              "    </tr>\n",
              "  </thead>\n",
              "  <tbody>\n",
              "    <tr>\n",
              "      <th>No</th>\n",
              "      <td>28510</td>\n",
              "      <td>67.01</td>\n",
              "    </tr>\n",
              "    <tr>\n",
              "      <th>Yes</th>\n",
              "      <td>14033</td>\n",
              "      <td>32.99</td>\n",
              "    </tr>\n",
              "  </tbody>\n",
              "</table>\n",
              "</div>"
            ],
            "text/plain": [
              "                     count  %_count\n",
              "tickets_is_answered                \n",
              "No                   28510    67.01\n",
              "Yes                  14033    32.99"
            ]
          },
          "metadata": {
            "tags": []
          },
          "execution_count": 20
        }
      ]
    },
    {
      "cell_type": "markdown",
      "metadata": {
        "id": "09729ab0"
      },
      "source": [
        "33% of all tickets are answered, that means that the vast majority are so called 'no follow-up tickets', created and solved without the written answer from the agent. This can be a sigh of high efficency if all the issues were corretly addressed. These tickets should have lower handling time, which is to be checked."
      ],
      "id": "09729ab0"
    },
    {
      "cell_type": "markdown",
      "metadata": {
        "id": "be2bdced"
      },
      "source": [
        "#### Total time spent "
      ],
      "id": "be2bdced"
    },
    {
      "cell_type": "code",
      "metadata": {
        "id": "ea6287dc"
      },
      "source": [
        "# adding column total_time_spent_min in minutes\n",
        "df['total_time_spent_min']=df['total_time_spent_sec']/60"
      ],
      "id": "ea6287dc",
      "execution_count": null,
      "outputs": []
    },
    {
      "cell_type": "code",
      "metadata": {
        "id": "1abdca34",
        "outputId": "c7b41156-6f1d-4eef-da0e-bc6ca05c7330"
      },
      "source": [
        "df[['total_time_spent_min']].describe()"
      ],
      "id": "1abdca34",
      "execution_count": null,
      "outputs": [
        {
          "output_type": "execute_result",
          "data": {
            "text/html": [
              "<div>\n",
              "<style scoped>\n",
              "    .dataframe tbody tr th:only-of-type {\n",
              "        vertical-align: middle;\n",
              "    }\n",
              "\n",
              "    .dataframe tbody tr th {\n",
              "        vertical-align: top;\n",
              "    }\n",
              "\n",
              "    .dataframe thead th {\n",
              "        text-align: right;\n",
              "    }\n",
              "</style>\n",
              "<table border=\"1\" class=\"dataframe\">\n",
              "  <thead>\n",
              "    <tr style=\"text-align: right;\">\n",
              "      <th></th>\n",
              "      <th>total_time_spent_min</th>\n",
              "    </tr>\n",
              "  </thead>\n",
              "  <tbody>\n",
              "    <tr>\n",
              "      <th>count</th>\n",
              "      <td>42543.00</td>\n",
              "    </tr>\n",
              "    <tr>\n",
              "      <th>mean</th>\n",
              "      <td>6.35</td>\n",
              "    </tr>\n",
              "    <tr>\n",
              "      <th>std</th>\n",
              "      <td>19.72</td>\n",
              "    </tr>\n",
              "    <tr>\n",
              "      <th>min</th>\n",
              "      <td>0.00</td>\n",
              "    </tr>\n",
              "    <tr>\n",
              "      <th>25%</th>\n",
              "      <td>0.82</td>\n",
              "    </tr>\n",
              "    <tr>\n",
              "      <th>50%</th>\n",
              "      <td>2.80</td>\n",
              "    </tr>\n",
              "    <tr>\n",
              "      <th>75%</th>\n",
              "      <td>6.73</td>\n",
              "    </tr>\n",
              "    <tr>\n",
              "      <th>max</th>\n",
              "      <td>2284.22</td>\n",
              "    </tr>\n",
              "  </tbody>\n",
              "</table>\n",
              "</div>"
            ],
            "text/plain": [
              "       total_time_spent_min\n",
              "count              42543.00\n",
              "mean                   6.35\n",
              "std                   19.72\n",
              "min                    0.00\n",
              "25%                    0.82\n",
              "50%                    2.80\n",
              "75%                    6.73\n",
              "max                 2284.22"
            ]
          },
          "metadata": {
            "tags": []
          },
          "execution_count": 22
        }
      ]
    },
    {
      "cell_type": "code",
      "metadata": {
        "id": "b43e941d",
        "outputId": "92504903-baa9-4848-94bb-cd6271542c51"
      },
      "source": [
        "# % of total spent time on ticket with more than 20 minutes \n",
        "df[df['total_time_spent_min']>20]['total_time_spent_min'].count()/df['total_time_spent_min'].count()*100"
      ],
      "id": "b43e941d",
      "execution_count": null,
      "outputs": [
        {
          "output_type": "execute_result",
          "data": {
            "text/plain": [
              "6.109113132595256"
            ]
          },
          "metadata": {
            "tags": []
          },
          "execution_count": 23
        }
      ]
    },
    {
      "cell_type": "markdown",
      "metadata": {
        "id": "86e0d460"
      },
      "source": [
        "Total time spent on ticket counts the active time agent works on the open ticket. Here we observe ouliers (maximum time is 38 hours, which could have been a technical issue or a very special case), so better metrics ot reflect the average time spent on ticket is median (and not the mean), it's 2.8 minutes. Around 6% of the tickets needed more than 20 minutes. We have to identify the ouliers and investigate what happened with the tickets with the extreme high total spent time."
      ],
      "id": "86e0d460"
    },
    {
      "cell_type": "code",
      "metadata": {
        "id": "cbde4a09",
        "outputId": "baed4d57-b514-4ef8-d13f-ad922eb32d44"
      },
      "source": [
        "# comparing total spent time by country (with removed from plot outliers)\n",
        "df.boxplot(column=['total_time_spent_min'], by='country',figsize=(14,6),showmeans=True, showfliers=False )\n",
        "plt.ylabel('minutes')\n",
        "plt.xlabel('')\n",
        "plt.title('Total time spent per ticket in minutes')\n",
        "plt.suptitle(\"\")\n",
        "plt.show()"
      ],
      "id": "cbde4a09",
      "execution_count": null,
      "outputs": [
        {
          "output_type": "display_data",
          "data": {
            "image/png": "[encoded data removed]",
            "text/plain": [
              "<Figure size 1008x432 with 1 Axes>"
            ]
          },
          "metadata": {
            "tags": []
          }
        }
      ]
    },
    {
      "cell_type": "code",
      "metadata": {
        "scrolled": true,
        "id": "eff1ea4d",
        "outputId": "5d151d17-cfd1-435b-b461-92719e7b01a9"
      },
      "source": [
        "country_total_time_spent_min=df.pivot_table(index=['country'], values='total_time_spent_min', aggfunc=(\n",
        "    'median', 'mean')).sort_values('median', ascending=False)\n",
        "country_total_time_spent_min"
      ],
      "id": "eff1ea4d",
      "execution_count": null,
      "outputs": [
        {
          "output_type": "execute_result",
          "data": {
            "text/html": [
              "<div>\n",
              "<style scoped>\n",
              "    .dataframe tbody tr th:only-of-type {\n",
              "        vertical-align: middle;\n",
              "    }\n",
              "\n",
              "    .dataframe tbody tr th {\n",
              "        vertical-align: top;\n",
              "    }\n",
              "\n",
              "    .dataframe thead th {\n",
              "        text-align: right;\n",
              "    }\n",
              "</style>\n",
              "<table border=\"1\" class=\"dataframe\">\n",
              "  <thead>\n",
              "    <tr style=\"text-align: right;\">\n",
              "      <th></th>\n",
              "      <th>mean</th>\n",
              "      <th>median</th>\n",
              "    </tr>\n",
              "    <tr>\n",
              "      <th>country</th>\n",
              "      <th></th>\n",
              "      <th></th>\n",
              "    </tr>\n",
              "  </thead>\n",
              "  <tbody>\n",
              "    <tr>\n",
              "      <th>Spain</th>\n",
              "      <td>6.64</td>\n",
              "      <td>3.78</td>\n",
              "    </tr>\n",
              "    <tr>\n",
              "      <th>United Kingdom</th>\n",
              "      <td>6.98</td>\n",
              "      <td>3.27</td>\n",
              "    </tr>\n",
              "    <tr>\n",
              "      <th>France</th>\n",
              "      <td>7.21</td>\n",
              "      <td>3.15</td>\n",
              "    </tr>\n",
              "    <tr>\n",
              "      <th>Netherlands</th>\n",
              "      <td>6.05</td>\n",
              "      <td>2.45</td>\n",
              "    </tr>\n",
              "    <tr>\n",
              "      <th>Belgium</th>\n",
              "      <td>7.58</td>\n",
              "      <td>2.38</td>\n",
              "    </tr>\n",
              "    <tr>\n",
              "      <th>Italy</th>\n",
              "      <td>4.79</td>\n",
              "      <td>2.35</td>\n",
              "    </tr>\n",
              "    <tr>\n",
              "      <th>Lithuania</th>\n",
              "      <td>6.15</td>\n",
              "      <td>2.12</td>\n",
              "    </tr>\n",
              "    <tr>\n",
              "      <th>Germany</th>\n",
              "      <td>4.25</td>\n",
              "      <td>1.83</td>\n",
              "    </tr>\n",
              "    <tr>\n",
              "      <th>Ireland</th>\n",
              "      <td>4.25</td>\n",
              "      <td>1.55</td>\n",
              "    </tr>\n",
              "    <tr>\n",
              "      <th>Austria</th>\n",
              "      <td>3.53</td>\n",
              "      <td>1.52</td>\n",
              "    </tr>\n",
              "    <tr>\n",
              "      <th>Switzerland</th>\n",
              "      <td>3.64</td>\n",
              "      <td>1.47</td>\n",
              "    </tr>\n",
              "  </tbody>\n",
              "</table>\n",
              "</div>"
            ],
            "text/plain": [
              "                mean  median\n",
              "country                     \n",
              "Spain           6.64    3.78\n",
              "United Kingdom  6.98    3.27\n",
              "France          7.21    3.15\n",
              "Netherlands     6.05    2.45\n",
              "Belgium         7.58    2.38\n",
              "Italy           4.79    2.35\n",
              "Lithuania       6.15    2.12\n",
              "Germany         4.25    1.83\n",
              "Ireland         4.25    1.55\n",
              "Austria         3.53    1.52\n",
              "Switzerland     3.64    1.47"
            ]
          },
          "metadata": {
            "tags": []
          },
          "execution_count": 25
        }
      ]
    },
    {
      "cell_type": "markdown",
      "metadata": {
        "id": "b4d3b0f0"
      },
      "source": [
        "Spain, UK and France have higher median time spent per ticket, being more than 3 minutes. Switzerland, Austria and Ireland are the quickest with around 1.5 minutes."
      ],
      "id": "b4d3b0f0"
    },
    {
      "cell_type": "code",
      "metadata": {
        "id": "875ca4c1",
        "outputId": "bc74fed3-8a44-4a9e-cfdc-1d777577644a"
      },
      "source": [
        "df.pivot_table(index=['agent_is_senior'], values='total_time_spent_min', aggfunc=('median', 'mean')).sort_values('median', ascending=False)"
      ],
      "id": "875ca4c1",
      "execution_count": null,
      "outputs": [
        {
          "output_type": "execute_result",
          "data": {
            "text/html": [
              "<div>\n",
              "<style scoped>\n",
              "    .dataframe tbody tr th:only-of-type {\n",
              "        vertical-align: middle;\n",
              "    }\n",
              "\n",
              "    .dataframe tbody tr th {\n",
              "        vertical-align: top;\n",
              "    }\n",
              "\n",
              "    .dataframe thead th {\n",
              "        text-align: right;\n",
              "    }\n",
              "</style>\n",
              "<table border=\"1\" class=\"dataframe\">\n",
              "  <thead>\n",
              "    <tr style=\"text-align: right;\">\n",
              "      <th></th>\n",
              "      <th>mean</th>\n",
              "      <th>median</th>\n",
              "    </tr>\n",
              "    <tr>\n",
              "      <th>agent_is_senior</th>\n",
              "      <th></th>\n",
              "      <th></th>\n",
              "    </tr>\n",
              "  </thead>\n",
              "  <tbody>\n",
              "    <tr>\n",
              "      <th>No</th>\n",
              "      <td>6.45</td>\n",
              "      <td>2.88</td>\n",
              "    </tr>\n",
              "    <tr>\n",
              "      <th>Yes</th>\n",
              "      <td>5.37</td>\n",
              "      <td>2.05</td>\n",
              "    </tr>\n",
              "  </tbody>\n",
              "</table>\n",
              "</div>"
            ],
            "text/plain": [
              "                 mean  median\n",
              "agent_is_senior              \n",
              "No               6.45    2.88\n",
              "Yes              5.37    2.05"
            ]
          },
          "metadata": {
            "tags": []
          },
          "execution_count": 26
        }
      ]
    },
    {
      "cell_type": "code",
      "metadata": {
        "id": "45048960",
        "outputId": "597c16cd-e6f8-45b0-85e2-44c71d93cf91"
      },
      "source": [
        "# comparing total spent time by tenure (with removed from plot outliers)\n",
        "df.boxplot(column=['total_time_spent_min'], by='agent_is_senior',showmeans=True, showfliers=False)\n",
        "plt.ylabel('minutes')\n",
        "plt.xlabel('agent is senior')\n",
        "plt.title('Total time spent tenure')\n",
        "plt.suptitle(\"\")\n",
        "plt.show()"
      ],
      "id": "45048960",
      "execution_count": null,
      "outputs": [
        {
          "output_type": "display_data",
          "data": {
            "image/png": "[encoded data removed]",
            "text/plain": [
              "<Figure size 432x288 with 1 Axes>"
            ]
          },
          "metadata": {
            "tags": []
          }
        }
      ]
    },
    {
      "cell_type": "markdown",
      "metadata": {
        "id": "ab62361d"
      },
      "source": [
        "Seniour agents are quicker that agents in terms of total spent time on ticket, with a difference of 50 seconds."
      ],
      "id": "ab62361d"
    },
    {
      "cell_type": "markdown",
      "metadata": {
        "id": "aa7ca5da"
      },
      "source": [
        "### Response time"
      ],
      "id": "aa7ca5da"
    },
    {
      "cell_type": "code",
      "metadata": {
        "id": "d22014e3",
        "outputId": "cff0a549-9526-4948-da0d-9b4cec5463e2"
      },
      "source": [
        "df[['first_reply_time_min']].describe()"
      ],
      "id": "d22014e3",
      "execution_count": null,
      "outputs": [
        {
          "output_type": "execute_result",
          "data": {
            "text/html": [
              "<div>\n",
              "<style scoped>\n",
              "    .dataframe tbody tr th:only-of-type {\n",
              "        vertical-align: middle;\n",
              "    }\n",
              "\n",
              "    .dataframe tbody tr th {\n",
              "        vertical-align: top;\n",
              "    }\n",
              "\n",
              "    .dataframe thead th {\n",
              "        text-align: right;\n",
              "    }\n",
              "</style>\n",
              "<table border=\"1\" class=\"dataframe\">\n",
              "  <thead>\n",
              "    <tr style=\"text-align: right;\">\n",
              "      <th></th>\n",
              "      <th>first_reply_time_min</th>\n",
              "    </tr>\n",
              "  </thead>\n",
              "  <tbody>\n",
              "    <tr>\n",
              "      <th>count</th>\n",
              "      <td>42543.00</td>\n",
              "    </tr>\n",
              "    <tr>\n",
              "      <th>mean</th>\n",
              "      <td>153.32</td>\n",
              "    </tr>\n",
              "    <tr>\n",
              "      <th>std</th>\n",
              "      <td>510.69</td>\n",
              "    </tr>\n",
              "    <tr>\n",
              "      <th>min</th>\n",
              "      <td>0.00</td>\n",
              "    </tr>\n",
              "    <tr>\n",
              "      <th>25%</th>\n",
              "      <td>0.00</td>\n",
              "    </tr>\n",
              "    <tr>\n",
              "      <th>50%</th>\n",
              "      <td>0.00</td>\n",
              "    </tr>\n",
              "    <tr>\n",
              "      <th>75%</th>\n",
              "      <td>53.00</td>\n",
              "    </tr>\n",
              "    <tr>\n",
              "      <th>max</th>\n",
              "      <td>30018.00</td>\n",
              "    </tr>\n",
              "  </tbody>\n",
              "</table>\n",
              "</div>"
            ],
            "text/plain": [
              "       first_reply_time_min\n",
              "count              42543.00\n",
              "mean                 153.32\n",
              "std                  510.69\n",
              "min                    0.00\n",
              "25%                    0.00\n",
              "50%                    0.00\n",
              "75%                   53.00\n",
              "max                30018.00"
            ]
          },
          "metadata": {
            "tags": []
          },
          "execution_count": 28
        }
      ]
    },
    {
      "cell_type": "code",
      "metadata": {
        "id": "61133055",
        "outputId": "fda58c4d-40ec-4b79-896e-8c28bb8e1280"
      },
      "source": [
        "# tickets replied within 5 minutes or less\n",
        "df[df['first_reply_time_min']<5]['first_reply_time_min'].count()/df['first_reply_time_min'].count()*100"
      ],
      "id": "61133055",
      "execution_count": null,
      "outputs": [
        {
          "output_type": "execute_result",
          "data": {
            "text/plain": [
              "67.64215029499564"
            ]
          },
          "metadata": {
            "tags": []
          },
          "execution_count": 29
        }
      ]
    },
    {
      "cell_type": "code",
      "metadata": {
        "id": "572bfa03",
        "outputId": "4c472942-0269-439b-8c90-bcd92c08e709"
      },
      "source": [
        "# tickets replied within 60  minutes or more\n",
        "df[df['first_reply_time_min']>60]['first_reply_time_min'].count()/df['first_reply_time_min'].count()*100"
      ],
      "id": "572bfa03",
      "execution_count": null,
      "outputs": [
        {
          "output_type": "execute_result",
          "data": {
            "text/plain": [
              "24.398843523023764"
            ]
          },
          "metadata": {
            "tags": []
          },
          "execution_count": 30
        }
      ]
    },
    {
      "cell_type": "code",
      "metadata": {
        "id": "76839ef7",
        "outputId": "6a63d82a-3637-49f6-b6d3-7c3a7ac67faa"
      },
      "source": [
        "# tickets replied within 12  hours or more\n",
        "df[df['first_reply_time_min']>12*60]['first_reply_time_min'].count()/df['first_reply_time_min'].count()*100"
      ],
      "id": "76839ef7",
      "execution_count": null,
      "outputs": [
        {
          "output_type": "execute_result",
          "data": {
            "text/plain": [
              "7.914345485743836"
            ]
          },
          "metadata": {
            "tags": []
          },
          "execution_count": 31
        }
      ]
    },
    {
      "cell_type": "code",
      "metadata": {
        "id": "9f0f4197",
        "outputId": "3d92f2bf-b015-456e-a676-a66b423cb28e"
      },
      "source": [
        "df.boxplot(column=['first_reply_time_min'],showmeans=True, showfliers=False)\n",
        "plt.show()"
      ],
      "id": "9f0f4197",
      "execution_count": null,
      "outputs": [
        {
          "output_type": "display_data",
          "data": {
            "image/png": "[encoded data removed]",
            "text/plain": [
              "<Figure size 432x288 with 1 Axes>"
            ]
          },
          "metadata": {
            "tags": []
          }
        }
      ]
    },
    {
      "cell_type": "markdown",
      "metadata": {
        "id": "5e00ad61"
      },
      "source": [
        "Here we also obsereve a lot of outliers, and average reply time is 153, because of it. Maximum is 20 days, this could have beean a technical issue or an extraordinary case. Again, the median time is better and it's a 0 which means in less than 0 minte, which is great response time.\n",
        "\n",
        "As the target is 5 minutes, we are doing quite well. More than 67% of the tickets were replied within 5 minutes or less, which is great.\n",
        "However, almost 25% of the tickets were replied within more than 1 hour, and 8% of the tickets within more than 12 hours.\n",
        "We should check out the outliers and take an action in order to reduce the response time, as it's a crucial indicator for customer satisfacion. "
      ],
      "id": "5e00ad61"
    },
    {
      "cell_type": "code",
      "metadata": {
        "id": "b51d63bc",
        "outputId": "a6775162-7a4b-452d-dade-f3df7b078acf"
      },
      "source": [
        "# comparing resonse time by country (with removed from plot outliers)\n",
        "df.boxplot(column=['first_reply_time_min'], by='country',figsize=(14,6),showmeans=True, showfliers=False)\n",
        "plt.ylabel('minutes')\n",
        "plt.xlabel('')\n",
        "plt.title('first_reply_time_min')\n",
        "plt.suptitle(\"\")\n",
        "plt.show()"
      ],
      "id": "b51d63bc",
      "execution_count": null,
      "outputs": [
        {
          "output_type": "display_data",
          "data": {
            "image/png": "[encoded data removed]",
            "text/plain": [
              "<Figure size 1008x432 with 1 Axes>"
            ]
          },
          "metadata": {
            "tags": []
          }
        }
      ]
    },
    {
      "cell_type": "code",
      "metadata": {
        "id": "6660ddba",
        "outputId": "ffc1b4b7-0f86-4739-e48f-b596ed86b324"
      },
      "source": [
        "countries_first_reply_time_min=df.pivot_table(index=['country'], values='first_reply_time_min', aggfunc=(\n",
        "    'median', 'mean')).sort_values('mean', ascending=False)\n",
        "countries_first_reply_time_min"
      ],
      "id": "6660ddba",
      "execution_count": null,
      "outputs": [
        {
          "output_type": "execute_result",
          "data": {
            "text/html": [
              "<div>\n",
              "<style scoped>\n",
              "    .dataframe tbody tr th:only-of-type {\n",
              "        vertical-align: middle;\n",
              "    }\n",
              "\n",
              "    .dataframe tbody tr th {\n",
              "        vertical-align: top;\n",
              "    }\n",
              "\n",
              "    .dataframe thead th {\n",
              "        text-align: right;\n",
              "    }\n",
              "</style>\n",
              "<table border=\"1\" class=\"dataframe\">\n",
              "  <thead>\n",
              "    <tr style=\"text-align: right;\">\n",
              "      <th></th>\n",
              "      <th>mean</th>\n",
              "      <th>median</th>\n",
              "    </tr>\n",
              "    <tr>\n",
              "      <th>country</th>\n",
              "      <th></th>\n",
              "      <th></th>\n",
              "    </tr>\n",
              "  </thead>\n",
              "  <tbody>\n",
              "    <tr>\n",
              "      <th>United Kingdom</th>\n",
              "      <td>246.02</td>\n",
              "      <td>0.00</td>\n",
              "    </tr>\n",
              "    <tr>\n",
              "      <th>Ireland</th>\n",
              "      <td>111.60</td>\n",
              "      <td>0.00</td>\n",
              "    </tr>\n",
              "    <tr>\n",
              "      <th>Netherlands</th>\n",
              "      <td>92.89</td>\n",
              "      <td>0.00</td>\n",
              "    </tr>\n",
              "    <tr>\n",
              "      <th>Lithuania</th>\n",
              "      <td>72.27</td>\n",
              "      <td>15.00</td>\n",
              "    </tr>\n",
              "    <tr>\n",
              "      <th>Belgium</th>\n",
              "      <td>67.35</td>\n",
              "      <td>0.00</td>\n",
              "    </tr>\n",
              "    <tr>\n",
              "      <th>Italy</th>\n",
              "      <td>63.19</td>\n",
              "      <td>0.00</td>\n",
              "    </tr>\n",
              "    <tr>\n",
              "      <th>France</th>\n",
              "      <td>57.64</td>\n",
              "      <td>0.00</td>\n",
              "    </tr>\n",
              "    <tr>\n",
              "      <th>Germany</th>\n",
              "      <td>48.87</td>\n",
              "      <td>0.00</td>\n",
              "    </tr>\n",
              "    <tr>\n",
              "      <th>Switzerland</th>\n",
              "      <td>37.66</td>\n",
              "      <td>0.00</td>\n",
              "    </tr>\n",
              "    <tr>\n",
              "      <th>Spain</th>\n",
              "      <td>28.29</td>\n",
              "      <td>0.00</td>\n",
              "    </tr>\n",
              "    <tr>\n",
              "      <th>Austria</th>\n",
              "      <td>15.16</td>\n",
              "      <td>0.00</td>\n",
              "    </tr>\n",
              "  </tbody>\n",
              "</table>\n",
              "</div>"
            ],
            "text/plain": [
              "                 mean  median\n",
              "country                      \n",
              "United Kingdom 246.02    0.00\n",
              "Ireland        111.60    0.00\n",
              "Netherlands     92.89    0.00\n",
              "Lithuania       72.27   15.00\n",
              "Belgium         67.35    0.00\n",
              "Italy           63.19    0.00\n",
              "France          57.64    0.00\n",
              "Germany         48.87    0.00\n",
              "Switzerland     37.66    0.00\n",
              "Spain           28.29    0.00\n",
              "Austria         15.16    0.00"
            ]
          },
          "metadata": {
            "tags": []
          },
          "execution_count": 34
        }
      ]
    },
    {
      "cell_type": "markdown",
      "metadata": {
        "id": "a19f7eb3"
      },
      "source": [
        "We observe, that the only country wich has median more than 0 minues is Lithuania, so this market should be checked. It's a small market in terms of tickets (307, less than 1% of all tickets), and it has much more written interactions than calls, which impacted the median.\n",
        "The boxplots per countries show that Austria is the quickest market to be replied, followed by Switzerland and Belgium.\n",
        "UK market is a way different from the rest, it's time of response in the majority of cases were quite longer than for other markets, its maximum values (without outliers) are near 500 minutes"
      ],
      "id": "a19f7eb3"
    },
    {
      "cell_type": "code",
      "metadata": {
        "id": "df6b6299"
      },
      "source": [
        "# *checking on Lithuania tickets distribution of response time per channel\n",
        "#df[df['country']=='Lithuania' ].groupby(\n",
        "#    'contact_source')['first_reply_time_min'].agg(['sum','count']).sort_values('sum', ascending=False)"
      ],
      "id": "df6b6299",
      "execution_count": null,
      "outputs": []
    },
    {
      "cell_type": "code",
      "metadata": {
        "id": "632a3ada",
        "outputId": "dd33634d-c913-408c-b2fb-3455c8426798"
      },
      "source": [
        "df.pivot_table(index=['agent_is_senior'], values='first_reply_time_min', aggfunc=('median', 'mean')).sort_values('median', ascending=False)"
      ],
      "id": "632a3ada",
      "execution_count": null,
      "outputs": [
        {
          "output_type": "execute_result",
          "data": {
            "text/html": [
              "<div>\n",
              "<style scoped>\n",
              "    .dataframe tbody tr th:only-of-type {\n",
              "        vertical-align: middle;\n",
              "    }\n",
              "\n",
              "    .dataframe tbody tr th {\n",
              "        vertical-align: top;\n",
              "    }\n",
              "\n",
              "    .dataframe thead th {\n",
              "        text-align: right;\n",
              "    }\n",
              "</style>\n",
              "<table border=\"1\" class=\"dataframe\">\n",
              "  <thead>\n",
              "    <tr style=\"text-align: right;\">\n",
              "      <th></th>\n",
              "      <th>mean</th>\n",
              "      <th>median</th>\n",
              "    </tr>\n",
              "    <tr>\n",
              "      <th>agent_is_senior</th>\n",
              "      <th></th>\n",
              "      <th></th>\n",
              "    </tr>\n",
              "  </thead>\n",
              "  <tbody>\n",
              "    <tr>\n",
              "      <th>Yes</th>\n",
              "      <td>214.01</td>\n",
              "      <td>10.00</td>\n",
              "    </tr>\n",
              "    <tr>\n",
              "      <th>No</th>\n",
              "      <td>147.31</td>\n",
              "      <td>0.00</td>\n",
              "    </tr>\n",
              "  </tbody>\n",
              "</table>\n",
              "</div>"
            ],
            "text/plain": [
              "                  mean  median\n",
              "agent_is_senior               \n",
              "Yes             214.01   10.00\n",
              "No              147.31    0.00"
            ]
          },
          "metadata": {
            "tags": []
          },
          "execution_count": 36
        }
      ]
    },
    {
      "cell_type": "code",
      "metadata": {
        "id": "ca0085f6",
        "outputId": "47029023-eece-4c1b-d52a-1bb41b067cce"
      },
      "source": [
        "# comparing response time by tenure (with removed from plot outliers)\n",
        "df.boxplot(column=['first_reply_time_min'], by='agent_is_senior',showmeans=True, showfliers=False)\n",
        "plt.ylabel('minutes')\n",
        "plt.xlabel('agent is senior')\n",
        "plt.title('Time response per tenure')\n",
        "plt.suptitle(\"\")\n",
        "plt.show()"
      ],
      "id": "ca0085f6",
      "execution_count": null,
      "outputs": [
        {
          "output_type": "display_data",
          "data": {
            "image/png": "[encoded data removed]",
            "text/plain": [
              "<Figure size 432x288 with 1 Axes>"
            ]
          },
          "metadata": {
            "tags": []
          }
        }
      ]
    },
    {
      "cell_type": "markdown",
      "metadata": {
        "id": "2b9dc184"
      },
      "source": [
        "Tickets handled by seniour agents had quite much higher time response than of not tenured agens. Seniour have 10 minutes as median while agents have 0. Both groups have outliers, however the vast majority of seniour tickets were replied within more time comparing to the agents. This should be investigated further, as for now we have no information if the tickets seniours were handling are more complex, for example, or there is a lack of motivation and decrease of efficiency among most tenuered agents."
      ],
      "id": "2b9dc184"
    },
    {
      "cell_type": "markdown",
      "metadata": {
        "id": "ce93cbec"
      },
      "source": [
        "#### First resolution time"
      ],
      "id": "ce93cbec"
    },
    {
      "cell_type": "code",
      "metadata": {
        "id": "0efb390c",
        "outputId": "befb6836-c651-43e1-ab12-de6685d0301b"
      },
      "source": [
        "df[['first_resolution_time_min']].describe()"
      ],
      "id": "0efb390c",
      "execution_count": null,
      "outputs": [
        {
          "output_type": "execute_result",
          "data": {
            "text/html": [
              "<div>\n",
              "<style scoped>\n",
              "    .dataframe tbody tr th:only-of-type {\n",
              "        vertical-align: middle;\n",
              "    }\n",
              "\n",
              "    .dataframe tbody tr th {\n",
              "        vertical-align: top;\n",
              "    }\n",
              "\n",
              "    .dataframe thead th {\n",
              "        text-align: right;\n",
              "    }\n",
              "</style>\n",
              "<table border=\"1\" class=\"dataframe\">\n",
              "  <thead>\n",
              "    <tr style=\"text-align: right;\">\n",
              "      <th></th>\n",
              "      <th>first_resolution_time_min</th>\n",
              "    </tr>\n",
              "  </thead>\n",
              "  <tbody>\n",
              "    <tr>\n",
              "      <th>count</th>\n",
              "      <td>42543.00</td>\n",
              "    </tr>\n",
              "    <tr>\n",
              "      <th>mean</th>\n",
              "      <td>380.71</td>\n",
              "    </tr>\n",
              "    <tr>\n",
              "      <th>std</th>\n",
              "      <td>1168.58</td>\n",
              "    </tr>\n",
              "    <tr>\n",
              "      <th>min</th>\n",
              "      <td>0.00</td>\n",
              "    </tr>\n",
              "    <tr>\n",
              "      <th>25%</th>\n",
              "      <td>2.00</td>\n",
              "    </tr>\n",
              "    <tr>\n",
              "      <th>50%</th>\n",
              "      <td>7.00</td>\n",
              "    </tr>\n",
              "    <tr>\n",
              "      <th>75%</th>\n",
              "      <td>155.00</td>\n",
              "    </tr>\n",
              "    <tr>\n",
              "      <th>max</th>\n",
              "      <td>30018.00</td>\n",
              "    </tr>\n",
              "  </tbody>\n",
              "</table>\n",
              "</div>"
            ],
            "text/plain": [
              "       first_resolution_time_min\n",
              "count                   42543.00\n",
              "mean                      380.71\n",
              "std                      1168.58\n",
              "min                         0.00\n",
              "25%                         2.00\n",
              "50%                         7.00\n",
              "75%                       155.00\n",
              "max                     30018.00"
            ]
          },
          "metadata": {
            "tags": []
          },
          "execution_count": 38
        }
      ]
    },
    {
      "cell_type": "markdown",
      "metadata": {
        "id": "bef9f50b"
      },
      "source": [
        "First resolution time is the time passed from the ticket creation till agent solves the ticket for the first time (however, reopens can be possible, so it's not necessary the same that the total resolution time). The average is 380 minutes, however the median is 7 minutes, so there are a lot of outliers here as well. 75% of the tickets are solved for the first time within 155 minutes or less. In order to better evalute the results, we need to have some more information on targets, and how resolution works (does the ticket closes authomatically after solving, or some time should pass, are agents encouraged to put tickets on pending in case of dubt etc.). "
      ],
      "id": "bef9f50b"
    },
    {
      "cell_type": "code",
      "metadata": {
        "id": "ee7b3e97",
        "outputId": "6d13c56b-5c67-455b-d1c6-d772d34b0eb9"
      },
      "source": [
        "# comparing first resolution time by country (with removed from plot outliers)\n",
        "df.boxplot(column=['first_resolution_time_min'], by='country',figsize=(12,6),showmeans=True, showfliers=False)\n",
        "plt.ylabel('minutes')\n",
        "plt.xlabel('')\n",
        "plt.title('First resolution time')\n",
        "plt.suptitle(\"\")\n",
        "plt.show()"
      ],
      "id": "ee7b3e97",
      "execution_count": null,
      "outputs": [
        {
          "output_type": "display_data",
          "data": {
            "image/png": "[encoded data removed]",
            "text/plain": [
              "<Figure size 864x432 with 1 Axes>"
            ]
          },
          "metadata": {
            "tags": []
          }
        }
      ]
    },
    {
      "cell_type": "code",
      "metadata": {
        "id": "ab3e2779",
        "outputId": "315983b7-94aa-44af-bd7f-151445f6e0e5"
      },
      "source": [
        "country_first_resolution_time_min=df.pivot_table(index=['country'], values='first_resolution_time_min', aggfunc=(\n",
        "    'median', 'mean')).sort_values('median', ascending=False)\n",
        "country_first_resolution_time_min"
      ],
      "id": "ab3e2779",
      "execution_count": null,
      "outputs": [
        {
          "output_type": "execute_result",
          "data": {
            "text/html": [
              "<div>\n",
              "<style scoped>\n",
              "    .dataframe tbody tr th:only-of-type {\n",
              "        vertical-align: middle;\n",
              "    }\n",
              "\n",
              "    .dataframe tbody tr th {\n",
              "        vertical-align: top;\n",
              "    }\n",
              "\n",
              "    .dataframe thead th {\n",
              "        text-align: right;\n",
              "    }\n",
              "</style>\n",
              "<table border=\"1\" class=\"dataframe\">\n",
              "  <thead>\n",
              "    <tr style=\"text-align: right;\">\n",
              "      <th></th>\n",
              "      <th>mean</th>\n",
              "      <th>median</th>\n",
              "    </tr>\n",
              "    <tr>\n",
              "      <th>country</th>\n",
              "      <th></th>\n",
              "      <th></th>\n",
              "    </tr>\n",
              "  </thead>\n",
              "  <tbody>\n",
              "    <tr>\n",
              "      <th>Lithuania</th>\n",
              "      <td>153.83</td>\n",
              "      <td>25.00</td>\n",
              "    </tr>\n",
              "    <tr>\n",
              "      <th>Ireland</th>\n",
              "      <td>247.09</td>\n",
              "      <td>10.00</td>\n",
              "    </tr>\n",
              "    <tr>\n",
              "      <th>United Kingdom</th>\n",
              "      <td>528.59</td>\n",
              "      <td>10.00</td>\n",
              "    </tr>\n",
              "    <tr>\n",
              "      <th>France</th>\n",
              "      <td>175.44</td>\n",
              "      <td>9.00</td>\n",
              "    </tr>\n",
              "    <tr>\n",
              "      <th>Italy</th>\n",
              "      <td>237.07</td>\n",
              "      <td>8.00</td>\n",
              "    </tr>\n",
              "    <tr>\n",
              "      <th>Spain</th>\n",
              "      <td>166.66</td>\n",
              "      <td>8.00</td>\n",
              "    </tr>\n",
              "    <tr>\n",
              "      <th>Netherlands</th>\n",
              "      <td>422.12</td>\n",
              "      <td>6.00</td>\n",
              "    </tr>\n",
              "    <tr>\n",
              "      <th>Germany</th>\n",
              "      <td>157.56</td>\n",
              "      <td>4.00</td>\n",
              "    </tr>\n",
              "    <tr>\n",
              "      <th>Austria</th>\n",
              "      <td>70.23</td>\n",
              "      <td>3.00</td>\n",
              "    </tr>\n",
              "    <tr>\n",
              "      <th>Switzerland</th>\n",
              "      <td>148.65</td>\n",
              "      <td>3.00</td>\n",
              "    </tr>\n",
              "    <tr>\n",
              "      <th>Belgium</th>\n",
              "      <td>172.82</td>\n",
              "      <td>2.00</td>\n",
              "    </tr>\n",
              "  </tbody>\n",
              "</table>\n",
              "</div>"
            ],
            "text/plain": [
              "                 mean  median\n",
              "country                      \n",
              "Lithuania      153.83   25.00\n",
              "Ireland        247.09   10.00\n",
              "United Kingdom 528.59   10.00\n",
              "France         175.44    9.00\n",
              "Italy          237.07    8.00\n",
              "Spain          166.66    8.00\n",
              "Netherlands    422.12    6.00\n",
              "Germany        157.56    4.00\n",
              "Austria         70.23    3.00\n",
              "Switzerland    148.65    3.00\n",
              "Belgium        172.82    2.00"
            ]
          },
          "metadata": {
            "tags": []
          },
          "execution_count": 40
        }
      ]
    },
    {
      "cell_type": "markdown",
      "metadata": {
        "id": "228690d9"
      },
      "source": [
        "Countries with the highest median time for the first resolutions are Lithuania, Ireland (the amount of tickets for these countries is low), UK and France, which both need some attention. The quickest resolutions countries are Belgium, Switzerland, Austria and Germany with median of 4 minutes or less."
      ],
      "id": "228690d9"
    },
    {
      "cell_type": "code",
      "metadata": {
        "id": "ae192b20",
        "outputId": "2436cafd-d1b3-445d-f052-69fec264ba8f"
      },
      "source": [
        "df.pivot_table(index=['agent_is_senior'], values='first_resolution_time_min', aggfunc=('median', 'mean')).sort_values('median', ascending=False)"
      ],
      "id": "ae192b20",
      "execution_count": null,
      "outputs": [
        {
          "output_type": "execute_result",
          "data": {
            "text/html": [
              "<div>\n",
              "<style scoped>\n",
              "    .dataframe tbody tr th:only-of-type {\n",
              "        vertical-align: middle;\n",
              "    }\n",
              "\n",
              "    .dataframe tbody tr th {\n",
              "        vertical-align: top;\n",
              "    }\n",
              "\n",
              "    .dataframe thead th {\n",
              "        text-align: right;\n",
              "    }\n",
              "</style>\n",
              "<table border=\"1\" class=\"dataframe\">\n",
              "  <thead>\n",
              "    <tr style=\"text-align: right;\">\n",
              "      <th></th>\n",
              "      <th>mean</th>\n",
              "      <th>median</th>\n",
              "    </tr>\n",
              "    <tr>\n",
              "      <th>agent_is_senior</th>\n",
              "      <th></th>\n",
              "      <th></th>\n",
              "    </tr>\n",
              "  </thead>\n",
              "  <tbody>\n",
              "    <tr>\n",
              "      <th>Yes</th>\n",
              "      <td>511.65</td>\n",
              "      <td>74.50</td>\n",
              "    </tr>\n",
              "    <tr>\n",
              "      <th>No</th>\n",
              "      <td>367.74</td>\n",
              "      <td>6.00</td>\n",
              "    </tr>\n",
              "  </tbody>\n",
              "</table>\n",
              "</div>"
            ],
            "text/plain": [
              "                  mean  median\n",
              "agent_is_senior               \n",
              "Yes             511.65   74.50\n",
              "No              367.74    6.00"
            ]
          },
          "metadata": {
            "tags": []
          },
          "execution_count": 41
        }
      ]
    },
    {
      "cell_type": "code",
      "metadata": {
        "id": "14aedfad",
        "outputId": "fa2c0154-12f5-47cd-8f94-4cccb8ebe4d0"
      },
      "source": [
        "# comparing first resolution time by country (with removed from plot outliers)\n",
        "df.boxplot(column=['first_resolution_time_min'], by='agent_is_senior',showmeans=True, showfliers=False)\n",
        "plt.ylabel('minutes')\n",
        "plt.xlabel('agent is senior')\n",
        "plt.title('First resolution time per tenure')\n",
        "plt.suptitle(\"\")\n",
        "plt.show()"
      ],
      "id": "14aedfad",
      "execution_count": null,
      "outputs": [
        {
          "output_type": "display_data",
          "data": {
            "image/png": "[encoded data removed]",
            "text/plain": [
              "<Figure size 432x288 with 1 Axes>"
            ]
          },
          "metadata": {
            "tags": []
          }
        }
      ]
    },
    {
      "cell_type": "markdown",
      "metadata": {
        "id": "bbd86e5d"
      },
      "source": [
        "Seniour agents takes more time for the first resolution, with a median time 75 minutes against 6 minutes for agents. There is a big difference, so we need to investigate the causes of this behaviour."
      ],
      "id": "bbd86e5d"
    },
    {
      "cell_type": "markdown",
      "metadata": {
        "id": "c54aa714"
      },
      "source": [
        "### General tabs for conclusions on timing per country and timing per agents"
      ],
      "id": "c54aa714"
    },
    {
      "cell_type": "code",
      "metadata": {
        "id": "00b30470"
      },
      "source": [
        "country_total_time=df.pivot_table(index=['country'], values=(\n",
        "    'first_resolution_time_min','total_time_spent_min','first_reply_time_min'), aggfunc=(\n",
        "    'median', 'mean')).sort_values(('first_resolution_time_min', 'median'))\n",
        "with pd.option_context('display.precision', 2):\n",
        "    country_total_time_gradient=country_total_time.style.background_gradient(cmap = 'Blues')"
      ],
      "id": "00b30470",
      "execution_count": null,
      "outputs": []
    },
    {
      "cell_type": "code",
      "metadata": {
        "id": "7be63e4f"
      },
      "source": [
        "agent_total_time=df.pivot_table(index=['agent_is_senior'], values=(\n",
        "    'first_resolution_time_min','total_time_spent_min','first_reply_time_min'), aggfunc=(\n",
        "    'median', 'mean')).sort_values(('first_resolution_time_min', 'median'))\n",
        "with pd.option_context('display.precision', 2):\n",
        "    agent_total_time_gradient=agent_total_time.style.background_gradient(cmap = 'Blues')"
      ],
      "id": "7be63e4f",
      "execution_count": null,
      "outputs": []
    },
    {
      "cell_type": "markdown",
      "metadata": {
        "id": "31d10bec"
      },
      "source": [
        "## Conclusions"
      ],
      "id": "31d10bec"
    },
    {
      "cell_type": "markdown",
      "metadata": {
        "id": "16888c0d"
      },
      "source": [
        "*General findings and the main issues the CX team have*\n",
        "- 50% of the tickets were created after inbound call, and 36% after inbound email. \n",
        "- 9% of the tickets has outbound email, 2% has outbound calls as an origin. \n",
        "\n",
        "- 49%  tickets were from UK users, 14% from Netherlands, 12% Germany and 10% France.\n",
        "- More ticket volumes than the headcount proportions, the opposite for Spain and Lithuania. \n",
        "\n",
        "- Cancellation ticket category is 27% from all, profile questions - 17%. \n",
        "- 22% of tickets have no clear ticket topic. \n",
        "\n",
        "- 9% of all tickets were handled by senior agents.\n",
        "\n",
        "- 33% of all tickets were answered, the rest are \"no follow-up tickets\", created and solved without the written answer from the agent."
      ],
      "id": "16888c0d"
    },
    {
      "cell_type": "code",
      "metadata": {
        "id": "1b2879a1",
        "outputId": "9092eced-03e2-4ebb-cb57-82163a784b20"
      },
      "source": [
        "country_total.sort_values('%_count').plot.barh(x='country', y=['%_count','%_headcount',], title=\"Countries: tickets volume and headcount\")\n",
        "plt.xlabel('');"
      ],
      "id": "1b2879a1",
      "execution_count": null,
      "outputs": [
        {
          "output_type": "display_data",
          "data": {
            "image/png": "[encoded data removed]",
            "text/plain": [
              "<Figure size 432x288 with 1 Axes>"
            ]
          },
          "metadata": {
            "tags": []
          }
        }
      ]
    },
    {
      "cell_type": "code",
      "metadata": {
        "id": "45732d7c",
        "outputId": "87aa2e9c-dc50-4c75-9dbd-c51047c01185"
      },
      "source": [
        "sns.barplot(y=contact_source['contact_source'], x=contact_source['%_count'], palette='Blues_r')\n",
        "plt.title('Tickets per sources')\n",
        "plt.xlabel('%_of_total')\n",
        "plt.ylabel('')\n",
        "plt.show()"
      ],
      "id": "45732d7c",
      "execution_count": null,
      "outputs": [
        {
          "output_type": "display_data",
          "data": {
            "image/png": "[encoded data removed]",
            "text/plain": [
              "<Figure size 432x288 with 1 Axes>"
            ]
          },
          "metadata": {
            "tags": []
          }
        }
      ]
    },
    {
      "cell_type": "code",
      "metadata": {
        "id": "85ab8679",
        "outputId": "1adc937a-8933-4526-9cc1-0c29031e5f50"
      },
      "source": [
        "sns.barplot(y=ticket_category['ticket_category'], x=ticket_category['%_count'], palette='Blues_r')\n",
        "plt.title('Tickets per category')\n",
        "plt.xlabel('%_of_total')\n",
        "plt.ylabel('')\n",
        "plt.show()"
      ],
      "id": "85ab8679",
      "execution_count": null,
      "outputs": [
        {
          "output_type": "display_data",
          "data": {
            "image/png": "[encoded data removed]",
            "text/plain": [
              "<Figure size 432x288 with 1 Axes>"
            ]
          },
          "metadata": {
            "tags": []
          }
        }
      ]
    },
    {
      "cell_type": "markdown",
      "metadata": {
        "id": "91050802"
      },
      "source": [
        "*Which market is performing best?*\n",
        "- Data on ticket countires, not the country/market of handling agents. KPIs per ticket countries analysis.\n",
        "- Austria is the quickest to be replied, followed by Switzerland and Belgium. \n",
        "- The quickest resolutions countries are Belgium, Switzerland, Austria and Germany. - - UK tickets time of response in the majority of cases were quite longer than for other markets.\n",
        "- Spain, UK and France have higher median time spent per ticket, being more than 3 minutes. Switzerland, Austria and Ireland are the quickest with around 1.5 minutes."
      ],
      "id": "91050802"
    },
    {
      "cell_type": "code",
      "metadata": {
        "id": "7a36f5cf",
        "outputId": "fa866074-3d55-4470-8f78-9eb013ae9891"
      },
      "source": [
        "country_total_time_gradient"
      ],
      "id": "7a36f5cf",
      "execution_count": null,
      "outputs": [
        {
          "output_type": "execute_result",
          "data": {
            "text/html": [
              "<style  type=\"text/css\" >\n",
              "#T_a99bf_row0_col0,#T_a99bf_row0_col2{\n",
              "            background-color:  #cbdef1;\n",
              "            color:  #000000;\n",
              "            background-color:  #cbdef1;\n",
              "            color:  #000000;\n",
              "        }#T_a99bf_row0_col1,#T_a99bf_row0_col3,#T_a99bf_row1_col0,#T_a99bf_row1_col1,#T_a99bf_row1_col2,#T_a99bf_row1_col4,#T_a99bf_row2_col1,#T_a99bf_row2_col5,#T_a99bf_row3_col1,#T_a99bf_row4_col1,#T_a99bf_row5_col1,#T_a99bf_row6_col1,#T_a99bf_row7_col1,#T_a99bf_row8_col1,#T_a99bf_row9_col1{\n",
              "            background-color:  #f7fbff;\n",
              "            color:  #000000;\n",
              "            background-color:  #f7fbff;\n",
              "            color:  #000000;\n",
              "        }#T_a99bf_row0_col4,#T_a99bf_row6_col5,#T_a99bf_row9_col0,#T_a99bf_row9_col2,#T_a99bf_row10_col1,#T_a99bf_row10_col3{\n",
              "            background-color:  #08306b;\n",
              "            color:  #f1f1f1;\n",
              "            background-color:  #08306b;\n",
              "            color:  #f1f1f1;\n",
              "        }#T_a99bf_row0_col5{\n",
              "            background-color:  #95c5df;\n",
              "            color:  #000000;\n",
              "            background-color:  #95c5df;\n",
              "            color:  #000000;\n",
              "        }#T_a99bf_row1_col3,#T_a99bf_row2_col3{\n",
              "            background-color:  #eef5fc;\n",
              "            color:  #000000;\n",
              "            background-color:  #eef5fc;\n",
              "            color:  #000000;\n",
              "        }#T_a99bf_row1_col5{\n",
              "            background-color:  #f3f8fe;\n",
              "            color:  #000000;\n",
              "            background-color:  #f3f8fe;\n",
              "            color:  #000000;\n",
              "        }#T_a99bf_row2_col0{\n",
              "            background-color:  #e4eff9;\n",
              "            color:  #000000;\n",
              "            background-color:  #e4eff9;\n",
              "            color:  #000000;\n",
              "        }#T_a99bf_row2_col2{\n",
              "            background-color:  #d6e5f4;\n",
              "            color:  #000000;\n",
              "            background-color:  #d6e5f4;\n",
              "            color:  #000000;\n",
              "        }#T_a99bf_row2_col4{\n",
              "            background-color:  #f2f8fd;\n",
              "            color:  #000000;\n",
              "            background-color:  #f2f8fd;\n",
              "            color:  #000000;\n",
              "        }#T_a99bf_row3_col0{\n",
              "            background-color:  #dae8f6;\n",
              "            color:  #000000;\n",
              "            background-color:  #dae8f6;\n",
              "            color:  #000000;\n",
              "        }#T_a99bf_row3_col2{\n",
              "            background-color:  #d2e3f3;\n",
              "            color:  #000000;\n",
              "            background-color:  #d2e3f3;\n",
              "            color:  #000000;\n",
              "        }#T_a99bf_row3_col3{\n",
              "            background-color:  #e6f0f9;\n",
              "            color:  #000000;\n",
              "            background-color:  #e6f0f9;\n",
              "            color:  #000000;\n",
              "        }#T_a99bf_row3_col4,#T_a99bf_row8_col4{\n",
              "            background-color:  #d4e4f4;\n",
              "            color:  #000000;\n",
              "            background-color:  #d4e4f4;\n",
              "            color:  #000000;\n",
              "        }#T_a99bf_row3_col5{\n",
              "            background-color:  #d8e7f5;\n",
              "            color:  #000000;\n",
              "            background-color:  #d8e7f5;\n",
              "            color:  #000000;\n",
              "        }#T_a99bf_row4_col0{\n",
              "            background-color:  #aacfe5;\n",
              "            color:  #000000;\n",
              "            background-color:  #aacfe5;\n",
              "            color:  #000000;\n",
              "        }#T_a99bf_row4_col2,#T_a99bf_row6_col4{\n",
              "            background-color:  #1d6cb1;\n",
              "            color:  #f1f1f1;\n",
              "            background-color:  #1d6cb1;\n",
              "            color:  #f1f1f1;\n",
              "        }#T_a99bf_row4_col3{\n",
              "            background-color:  #d5e5f4;\n",
              "            color:  #000000;\n",
              "            background-color:  #d5e5f4;\n",
              "            color:  #000000;\n",
              "        }#T_a99bf_row4_col4{\n",
              "            background-color:  #4292c6;\n",
              "            color:  #000000;\n",
              "            background-color:  #4292c6;\n",
              "            color:  #000000;\n",
              "        }#T_a99bf_row4_col5{\n",
              "            background-color:  #8abfdd;\n",
              "            color:  #000000;\n",
              "            background-color:  #8abfdd;\n",
              "            color:  #000000;\n",
              "        }#T_a99bf_row5_col0,#T_a99bf_row6_col2{\n",
              "            background-color:  #cee0f2;\n",
              "            color:  #000000;\n",
              "            background-color:  #cee0f2;\n",
              "            color:  #000000;\n",
              "        }#T_a99bf_row5_col2{\n",
              "            background-color:  #a1cbe2;\n",
              "            color:  #000000;\n",
              "            background-color:  #a1cbe2;\n",
              "            color:  #000000;\n",
              "        }#T_a99bf_row5_col3,#T_a99bf_row6_col3{\n",
              "            background-color:  #c3daee;\n",
              "            color:  #000000;\n",
              "            background-color:  #c3daee;\n",
              "            color:  #000000;\n",
              "        }#T_a99bf_row5_col4{\n",
              "            background-color:  #b3d3e8;\n",
              "            color:  #000000;\n",
              "            background-color:  #b3d3e8;\n",
              "            color:  #000000;\n",
              "        }#T_a99bf_row5_col5{\n",
              "            background-color:  #9cc9e1;\n",
              "            color:  #000000;\n",
              "            background-color:  #9cc9e1;\n",
              "            color:  #000000;\n",
              "        }#T_a99bf_row6_col0{\n",
              "            background-color:  #ecf4fb;\n",
              "            color:  #000000;\n",
              "            background-color:  #ecf4fb;\n",
              "            color:  #000000;\n",
              "        }#T_a99bf_row7_col0{\n",
              "            background-color:  #d3e3f3;\n",
              "            color:  #000000;\n",
              "            background-color:  #d3e3f3;\n",
              "            color:  #000000;\n",
              "        }#T_a99bf_row7_col2{\n",
              "            background-color:  #cadef0;\n",
              "            color:  #000000;\n",
              "            background-color:  #cadef0;\n",
              "            color:  #000000;\n",
              "        }#T_a99bf_row7_col3{\n",
              "            background-color:  #b5d4e9;\n",
              "            color:  #000000;\n",
              "            background-color:  #b5d4e9;\n",
              "            color:  #000000;\n",
              "        }#T_a99bf_row7_col4{\n",
              "            background-color:  #08478d;\n",
              "            color:  #f1f1f1;\n",
              "            background-color:  #08478d;\n",
              "            color:  #f1f1f1;\n",
              "        }#T_a99bf_row7_col5{\n",
              "            background-color:  #2676b8;\n",
              "            color:  #000000;\n",
              "            background-color:  #2676b8;\n",
              "            color:  #000000;\n",
              "        }#T_a99bf_row8_col0{\n",
              "            background-color:  #8dc1dd;\n",
              "            color:  #000000;\n",
              "            background-color:  #8dc1dd;\n",
              "            color:  #000000;\n",
              "        }#T_a99bf_row8_col2{\n",
              "            background-color:  #9ac8e0;\n",
              "            color:  #000000;\n",
              "            background-color:  #9ac8e0;\n",
              "            color:  #000000;\n",
              "        }#T_a99bf_row8_col3,#T_a99bf_row9_col3{\n",
              "            background-color:  #a6cee4;\n",
              "            color:  #000000;\n",
              "            background-color:  #a6cee4;\n",
              "            color:  #000000;\n",
              "        }#T_a99bf_row8_col5{\n",
              "            background-color:  #f0f6fd;\n",
              "            color:  #000000;\n",
              "            background-color:  #f0f6fd;\n",
              "            color:  #000000;\n",
              "        }#T_a99bf_row9_col4{\n",
              "            background-color:  #0d57a1;\n",
              "            color:  #f1f1f1;\n",
              "            background-color:  #0d57a1;\n",
              "            color:  #f1f1f1;\n",
              "        }#T_a99bf_row9_col5{\n",
              "            background-color:  #1c6ab0;\n",
              "            color:  #f1f1f1;\n",
              "            background-color:  #1c6ab0;\n",
              "            color:  #f1f1f1;\n",
              "        }#T_a99bf_row10_col0{\n",
              "            background-color:  #c7dbef;\n",
              "            color:  #000000;\n",
              "            background-color:  #c7dbef;\n",
              "            color:  #000000;\n",
              "        }#T_a99bf_row10_col2{\n",
              "            background-color:  #d3e4f3;\n",
              "            color:  #000000;\n",
              "            background-color:  #d3e4f3;\n",
              "            color:  #000000;\n",
              "        }#T_a99bf_row10_col4{\n",
              "            background-color:  #3c8cc3;\n",
              "            color:  #000000;\n",
              "            background-color:  #3c8cc3;\n",
              "            color:  #000000;\n",
              "        }#T_a99bf_row10_col5{\n",
              "            background-color:  #bdd7ec;\n",
              "            color:  #000000;\n",
              "            background-color:  #bdd7ec;\n",
              "            color:  #000000;\n",
              "        }</style><table id=\"T_a99bf_\" ><thead>    <tr>        <th class=\"blank level0\" ></th>        <th class=\"col_heading level0 col0\" colspan=\"2\">first_reply_time_min</th>        <th class=\"col_heading level0 col2\" colspan=\"2\">first_resolution_time_min</th>        <th class=\"col_heading level0 col4\" colspan=\"2\">total_time_spent_min</th>    </tr>    <tr>        <th class=\"blank level1\" ></th>        <th class=\"col_heading level1 col0\" >mean</th>        <th class=\"col_heading level1 col1\" >median</th>        <th class=\"col_heading level1 col2\" >mean</th>        <th class=\"col_heading level1 col3\" >median</th>        <th class=\"col_heading level1 col4\" >mean</th>        <th class=\"col_heading level1 col5\" >median</th>    </tr>    <tr>        <th class=\"index_name level0\" >country</th>        <th class=\"blank\" ></th>        <th class=\"blank\" ></th>        <th class=\"blank\" ></th>        <th class=\"blank\" ></th>        <th class=\"blank\" ></th>        <th class=\"blank\" ></th>    </tr></thead><tbody>\n",
              "                <tr>\n",
              "                        <th id=\"T_a99bf_level0_row0\" class=\"row_heading level0 row0\" >Belgium</th>\n",
              "                        <td id=\"T_a99bf_row0_col0\" class=\"data row0 col0\" >67.35</td>\n",
              "                        <td id=\"T_a99bf_row0_col1\" class=\"data row0 col1\" >0.00</td>\n",
              "                        <td id=\"T_a99bf_row0_col2\" class=\"data row0 col2\" >172.82</td>\n",
              "                        <td id=\"T_a99bf_row0_col3\" class=\"data row0 col3\" >2.00</td>\n",
              "                        <td id=\"T_a99bf_row0_col4\" class=\"data row0 col4\" >7.58</td>\n",
              "                        <td id=\"T_a99bf_row0_col5\" class=\"data row0 col5\" >2.38</td>\n",
              "            </tr>\n",
              "            <tr>\n",
              "                        <th id=\"T_a99bf_level0_row1\" class=\"row_heading level0 row1\" >Austria</th>\n",
              "                        <td id=\"T_a99bf_row1_col0\" class=\"data row1 col0\" >15.16</td>\n",
              "                        <td id=\"T_a99bf_row1_col1\" class=\"data row1 col1\" >0.00</td>\n",
              "                        <td id=\"T_a99bf_row1_col2\" class=\"data row1 col2\" >70.23</td>\n",
              "                        <td id=\"T_a99bf_row1_col3\" class=\"data row1 col3\" >3.00</td>\n",
              "                        <td id=\"T_a99bf_row1_col4\" class=\"data row1 col4\" >3.53</td>\n",
              "                        <td id=\"T_a99bf_row1_col5\" class=\"data row1 col5\" >1.52</td>\n",
              "            </tr>\n",
              "            <tr>\n",
              "                        <th id=\"T_a99bf_level0_row2\" class=\"row_heading level0 row2\" >Switzerland</th>\n",
              "                        <td id=\"T_a99bf_row2_col0\" class=\"data row2 col0\" >37.66</td>\n",
              "                        <td id=\"T_a99bf_row2_col1\" class=\"data row2 col1\" >0.00</td>\n",
              "                        <td id=\"T_a99bf_row2_col2\" class=\"data row2 col2\" >148.65</td>\n",
              "                        <td id=\"T_a99bf_row2_col3\" class=\"data row2 col3\" >3.00</td>\n",
              "                        <td id=\"T_a99bf_row2_col4\" class=\"data row2 col4\" >3.64</td>\n",
              "                        <td id=\"T_a99bf_row2_col5\" class=\"data row2 col5\" >1.47</td>\n",
              "            </tr>\n",
              "            <tr>\n",
              "                        <th id=\"T_a99bf_level0_row3\" class=\"row_heading level0 row3\" >Germany</th>\n",
              "                        <td id=\"T_a99bf_row3_col0\" class=\"data row3 col0\" >48.87</td>\n",
              "                        <td id=\"T_a99bf_row3_col1\" class=\"data row3 col1\" >0.00</td>\n",
              "                        <td id=\"T_a99bf_row3_col2\" class=\"data row3 col2\" >157.56</td>\n",
              "                        <td id=\"T_a99bf_row3_col3\" class=\"data row3 col3\" >4.00</td>\n",
              "                        <td id=\"T_a99bf_row3_col4\" class=\"data row3 col4\" >4.25</td>\n",
              "                        <td id=\"T_a99bf_row3_col5\" class=\"data row3 col5\" >1.83</td>\n",
              "            </tr>\n",
              "            <tr>\n",
              "                        <th id=\"T_a99bf_level0_row4\" class=\"row_heading level0 row4\" >Netherlands</th>\n",
              "                        <td id=\"T_a99bf_row4_col0\" class=\"data row4 col0\" >92.89</td>\n",
              "                        <td id=\"T_a99bf_row4_col1\" class=\"data row4 col1\" >0.00</td>\n",
              "                        <td id=\"T_a99bf_row4_col2\" class=\"data row4 col2\" >422.12</td>\n",
              "                        <td id=\"T_a99bf_row4_col3\" class=\"data row4 col3\" >6.00</td>\n",
              "                        <td id=\"T_a99bf_row4_col4\" class=\"data row4 col4\" >6.05</td>\n",
              "                        <td id=\"T_a99bf_row4_col5\" class=\"data row4 col5\" >2.45</td>\n",
              "            </tr>\n",
              "            <tr>\n",
              "                        <th id=\"T_a99bf_level0_row5\" class=\"row_heading level0 row5\" >Italy</th>\n",
              "                        <td id=\"T_a99bf_row5_col0\" class=\"data row5 col0\" >63.19</td>\n",
              "                        <td id=\"T_a99bf_row5_col1\" class=\"data row5 col1\" >0.00</td>\n",
              "                        <td id=\"T_a99bf_row5_col2\" class=\"data row5 col2\" >237.07</td>\n",
              "                        <td id=\"T_a99bf_row5_col3\" class=\"data row5 col3\" >8.00</td>\n",
              "                        <td id=\"T_a99bf_row5_col4\" class=\"data row5 col4\" >4.79</td>\n",
              "                        <td id=\"T_a99bf_row5_col5\" class=\"data row5 col5\" >2.35</td>\n",
              "            </tr>\n",
              "            <tr>\n",
              "                        <th id=\"T_a99bf_level0_row6\" class=\"row_heading level0 row6\" >Spain</th>\n",
              "                        <td id=\"T_a99bf_row6_col0\" class=\"data row6 col0\" >28.29</td>\n",
              "                        <td id=\"T_a99bf_row6_col1\" class=\"data row6 col1\" >0.00</td>\n",
              "                        <td id=\"T_a99bf_row6_col2\" class=\"data row6 col2\" >166.66</td>\n",
              "                        <td id=\"T_a99bf_row6_col3\" class=\"data row6 col3\" >8.00</td>\n",
              "                        <td id=\"T_a99bf_row6_col4\" class=\"data row6 col4\" >6.64</td>\n",
              "                        <td id=\"T_a99bf_row6_col5\" class=\"data row6 col5\" >3.78</td>\n",
              "            </tr>\n",
              "            <tr>\n",
              "                        <th id=\"T_a99bf_level0_row7\" class=\"row_heading level0 row7\" >France</th>\n",
              "                        <td id=\"T_a99bf_row7_col0\" class=\"data row7 col0\" >57.64</td>\n",
              "                        <td id=\"T_a99bf_row7_col1\" class=\"data row7 col1\" >0.00</td>\n",
              "                        <td id=\"T_a99bf_row7_col2\" class=\"data row7 col2\" >175.44</td>\n",
              "                        <td id=\"T_a99bf_row7_col3\" class=\"data row7 col3\" >9.00</td>\n",
              "                        <td id=\"T_a99bf_row7_col4\" class=\"data row7 col4\" >7.21</td>\n",
              "                        <td id=\"T_a99bf_row7_col5\" class=\"data row7 col5\" >3.15</td>\n",
              "            </tr>\n",
              "            <tr>\n",
              "                        <th id=\"T_a99bf_level0_row8\" class=\"row_heading level0 row8\" >Ireland</th>\n",
              "                        <td id=\"T_a99bf_row8_col0\" class=\"data row8 col0\" >111.60</td>\n",
              "                        <td id=\"T_a99bf_row8_col1\" class=\"data row8 col1\" >0.00</td>\n",
              "                        <td id=\"T_a99bf_row8_col2\" class=\"data row8 col2\" >247.09</td>\n",
              "                        <td id=\"T_a99bf_row8_col3\" class=\"data row8 col3\" >10.00</td>\n",
              "                        <td id=\"T_a99bf_row8_col4\" class=\"data row8 col4\" >4.25</td>\n",
              "                        <td id=\"T_a99bf_row8_col5\" class=\"data row8 col5\" >1.55</td>\n",
              "            </tr>\n",
              "            <tr>\n",
              "                        <th id=\"T_a99bf_level0_row9\" class=\"row_heading level0 row9\" >United Kingdom</th>\n",
              "                        <td id=\"T_a99bf_row9_col0\" class=\"data row9 col0\" >246.02</td>\n",
              "                        <td id=\"T_a99bf_row9_col1\" class=\"data row9 col1\" >0.00</td>\n",
              "                        <td id=\"T_a99bf_row9_col2\" class=\"data row9 col2\" >528.59</td>\n",
              "                        <td id=\"T_a99bf_row9_col3\" class=\"data row9 col3\" >10.00</td>\n",
              "                        <td id=\"T_a99bf_row9_col4\" class=\"data row9 col4\" >6.98</td>\n",
              "                        <td id=\"T_a99bf_row9_col5\" class=\"data row9 col5\" >3.27</td>\n",
              "            </tr>\n",
              "            <tr>\n",
              "                        <th id=\"T_a99bf_level0_row10\" class=\"row_heading level0 row10\" >Lithuania</th>\n",
              "                        <td id=\"T_a99bf_row10_col0\" class=\"data row10 col0\" >72.27</td>\n",
              "                        <td id=\"T_a99bf_row10_col1\" class=\"data row10 col1\" >15.00</td>\n",
              "                        <td id=\"T_a99bf_row10_col2\" class=\"data row10 col2\" >153.83</td>\n",
              "                        <td id=\"T_a99bf_row10_col3\" class=\"data row10 col3\" >25.00</td>\n",
              "                        <td id=\"T_a99bf_row10_col4\" class=\"data row10 col4\" >6.15</td>\n",
              "                        <td id=\"T_a99bf_row10_col5\" class=\"data row10 col5\" >2.12</td>\n",
              "            </tr>\n",
              "    </tbody></table>"
            ],
            "text/plain": [
              "<pandas.io.formats.style.Styler at 0x16e0bbe3820>"
            ]
          },
          "metadata": {
            "tags": []
          },
          "execution_count": 68
        }
      ]
    },
    {
      "cell_type": "code",
      "metadata": {
        "id": "a8745ec1",
        "outputId": "dbd8deec-23f9-4c08-c07d-3c5a7bed6c59"
      },
      "source": [
        "# comparing first resolution time by country (with removed from plot outliers)\n",
        "df.boxplot(column=['first_resolution_time_min'], by='country',figsize=(12,6),showmeans=True, showfliers=False)\n",
        "plt.ylabel('minutes')\n",
        "plt.xlabel('')\n",
        "plt.title('First resolution time')\n",
        "plt.suptitle(\"\")\n",
        "plt.show()"
      ],
      "id": "a8745ec1",
      "execution_count": null,
      "outputs": [
        {
          "output_type": "display_data",
          "data": {
            "image/png": "[encoded data removed]",
            "text/plain": [
              "<Figure size 864x432 with 1 Axes>"
            ]
          },
          "metadata": {
            "tags": []
          }
        }
      ]
    },
    {
      "cell_type": "markdown",
      "metadata": {
        "id": "c809d027"
      },
      "source": [
        "*Do senior agents perform better?*\n",
        "- Seniour agents are better only in total time spent on tickets, median time is around 50 seconds less\n",
        "- More tenured agents are much slower in first reply and in first resolution time, this should be investigated and adressed"
      ],
      "id": "c809d027"
    },
    {
      "cell_type": "code",
      "metadata": {
        "id": "6eff1fed",
        "outputId": "6dacdb56-342d-419a-a391-66bce44a8eff"
      },
      "source": [
        "agent_total_time_gradient"
      ],
      "id": "6eff1fed",
      "execution_count": null,
      "outputs": [
        {
          "output_type": "execute_result",
          "data": {
            "text/html": [
              "<style  type=\"text/css\" >\n",
              "#T_349c1_row0_col0,#T_349c1_row0_col1,#T_349c1_row0_col2,#T_349c1_row0_col3,#T_349c1_row1_col4,#T_349c1_row1_col5{\n",
              "            background-color:  #f7fbff;\n",
              "            color:  #000000;\n",
              "            background-color:  #f7fbff;\n",
              "            color:  #000000;\n",
              "        }#T_349c1_row0_col4,#T_349c1_row0_col5,#T_349c1_row1_col0,#T_349c1_row1_col1,#T_349c1_row1_col2,#T_349c1_row1_col3{\n",
              "            background-color:  #08306b;\n",
              "            color:  #f1f1f1;\n",
              "            background-color:  #08306b;\n",
              "            color:  #f1f1f1;\n",
              "        }</style><table id=\"T_349c1_\" ><thead>    <tr>        <th class=\"blank level0\" ></th>        <th class=\"col_heading level0 col0\" colspan=\"2\">first_reply_time_min</th>        <th class=\"col_heading level0 col2\" colspan=\"2\">first_resolution_time_min</th>        <th class=\"col_heading level0 col4\" colspan=\"2\">total_time_spent_min</th>    </tr>    <tr>        <th class=\"blank level1\" ></th>        <th class=\"col_heading level1 col0\" >mean</th>        <th class=\"col_heading level1 col1\" >median</th>        <th class=\"col_heading level1 col2\" >mean</th>        <th class=\"col_heading level1 col3\" >median</th>        <th class=\"col_heading level1 col4\" >mean</th>        <th class=\"col_heading level1 col5\" >median</th>    </tr>    <tr>        <th class=\"index_name level0\" >agent_is_senior</th>        <th class=\"blank\" ></th>        <th class=\"blank\" ></th>        <th class=\"blank\" ></th>        <th class=\"blank\" ></th>        <th class=\"blank\" ></th>        <th class=\"blank\" ></th>    </tr></thead><tbody>\n",
              "                <tr>\n",
              "                        <th id=\"T_349c1_level0_row0\" class=\"row_heading level0 row0\" >No</th>\n",
              "                        <td id=\"T_349c1_row0_col0\" class=\"data row0 col0\" >147.31</td>\n",
              "                        <td id=\"T_349c1_row0_col1\" class=\"data row0 col1\" >0.00</td>\n",
              "                        <td id=\"T_349c1_row0_col2\" class=\"data row0 col2\" >367.74</td>\n",
              "                        <td id=\"T_349c1_row0_col3\" class=\"data row0 col3\" >6.00</td>\n",
              "                        <td id=\"T_349c1_row0_col4\" class=\"data row0 col4\" >6.45</td>\n",
              "                        <td id=\"T_349c1_row0_col5\" class=\"data row0 col5\" >2.88</td>\n",
              "            </tr>\n",
              "            <tr>\n",
              "                        <th id=\"T_349c1_level0_row1\" class=\"row_heading level0 row1\" >Yes</th>\n",
              "                        <td id=\"T_349c1_row1_col0\" class=\"data row1 col0\" >214.01</td>\n",
              "                        <td id=\"T_349c1_row1_col1\" class=\"data row1 col1\" >10.00</td>\n",
              "                        <td id=\"T_349c1_row1_col2\" class=\"data row1 col2\" >511.65</td>\n",
              "                        <td id=\"T_349c1_row1_col3\" class=\"data row1 col3\" >74.50</td>\n",
              "                        <td id=\"T_349c1_row1_col4\" class=\"data row1 col4\" >5.37</td>\n",
              "                        <td id=\"T_349c1_row1_col5\" class=\"data row1 col5\" >2.05</td>\n",
              "            </tr>\n",
              "    </tbody></table>"
            ],
            "text/plain": [
              "<pandas.io.formats.style.Styler at 0x16e0be62970>"
            ]
          },
          "metadata": {
            "tags": []
          },
          "execution_count": 70
        }
      ]
    },
    {
      "cell_type": "markdown",
      "metadata": {
        "id": "d020d013"
      },
      "source": [
        "We have a target of replying within 5 mins, how are we doing?\n",
        "\n",
        "- Average reply time is 153 min because of outliers. Maximum is 20 days, this could have beean a technical issue \n",
        "- Median time is better metrics here, it's a 0 minutes, which is great response time.\n",
        "- More than 67% of the tickets were replied within 5 minutes or less, which is great.\n",
        "- Almost 25% of the tickets were replied within more than 1 hour, and 8% of the tickets within more than 12 hours.\n",
        "- We should check out the outliers and take an action in order to reduce the response time, as it's a crucial indicator for customer satisfacion. \n"
      ],
      "id": "d020d013"
    },
    {
      "cell_type": "code",
      "metadata": {
        "id": "20e9e6ad",
        "outputId": "bbf41416-8745-4fe5-f4d5-d4ea7c9d7d2e"
      },
      "source": [
        "df[['first_reply_time_min']].describe()"
      ],
      "id": "20e9e6ad",
      "execution_count": null,
      "outputs": [
        {
          "output_type": "execute_result",
          "data": {
            "text/html": [
              "<div>\n",
              "<style scoped>\n",
              "    .dataframe tbody tr th:only-of-type {\n",
              "        vertical-align: middle;\n",
              "    }\n",
              "\n",
              "    .dataframe tbody tr th {\n",
              "        vertical-align: top;\n",
              "    }\n",
              "\n",
              "    .dataframe thead th {\n",
              "        text-align: right;\n",
              "    }\n",
              "</style>\n",
              "<table border=\"1\" class=\"dataframe\">\n",
              "  <thead>\n",
              "    <tr style=\"text-align: right;\">\n",
              "      <th></th>\n",
              "      <th>first_reply_time_min</th>\n",
              "    </tr>\n",
              "  </thead>\n",
              "  <tbody>\n",
              "    <tr>\n",
              "      <th>count</th>\n",
              "      <td>42543.00</td>\n",
              "    </tr>\n",
              "    <tr>\n",
              "      <th>mean</th>\n",
              "      <td>153.32</td>\n",
              "    </tr>\n",
              "    <tr>\n",
              "      <th>std</th>\n",
              "      <td>510.69</td>\n",
              "    </tr>\n",
              "    <tr>\n",
              "      <th>min</th>\n",
              "      <td>0.00</td>\n",
              "    </tr>\n",
              "    <tr>\n",
              "      <th>25%</th>\n",
              "      <td>0.00</td>\n",
              "    </tr>\n",
              "    <tr>\n",
              "      <th>50%</th>\n",
              "      <td>0.00</td>\n",
              "    </tr>\n",
              "    <tr>\n",
              "      <th>75%</th>\n",
              "      <td>53.00</td>\n",
              "    </tr>\n",
              "    <tr>\n",
              "      <th>max</th>\n",
              "      <td>30018.00</td>\n",
              "    </tr>\n",
              "  </tbody>\n",
              "</table>\n",
              "</div>"
            ],
            "text/plain": [
              "       first_reply_time_min\n",
              "count              42543.00\n",
              "mean                 153.32\n",
              "std                  510.69\n",
              "min                    0.00\n",
              "25%                    0.00\n",
              "50%                    0.00\n",
              "75%                   53.00\n",
              "max                30018.00"
            ]
          },
          "metadata": {
            "tags": []
          },
          "execution_count": 71
        }
      ]
    },
    {
      "cell_type": "code",
      "metadata": {
        "id": "ff1bdd8a",
        "outputId": "19756f1c-7da8-4f0a-ae89-ec63fe1baee4"
      },
      "source": [
        "df.boxplot(column=['first_reply_time_min'],showmeans=True, showfliers=True)\n",
        "plt.show()"
      ],
      "id": "ff1bdd8a",
      "execution_count": null,
      "outputs": [
        {
          "output_type": "display_data",
          "data": {
            "image/png": "[encoded data removed]",
            "text/plain": [
              "<Figure size 432x288 with 1 Axes>"
            ]
          },
          "metadata": {
            "tags": []
          }
        }
      ]
    },
    {
      "cell_type": "code",
      "metadata": {
        "id": "dd2073f7",
        "outputId": "32d06e8e-5b7b-481c-c613-4a912fe41bf0"
      },
      "source": [
        "df.boxplot(column=['first_reply_time_min'],showmeans=True, showfliers=False)\n",
        "plt.show()"
      ],
      "id": "dd2073f7",
      "execution_count": null,
      "outputs": [
        {
          "output_type": "display_data",
          "data": {
            "image/png": "[encoded data removed]",
            "text/plain": [
              "<Figure size 432x288 with 1 Axes>"
            ]
          },
          "metadata": {
            "tags": []
          }
        }
      ]
    },
    {
      "cell_type": "code",
      "metadata": {
        "id": "329296e0",
        "outputId": "8b2d76f4-59cc-448a-b639-d8ec66656b35"
      },
      "source": [
        "# comparing resonse time by country (with removed from plot outliers)\n",
        "df.boxplot(column=['first_reply_time_min'], by='country',figsize=(14,6),showmeans=True, showfliers=False)\n",
        "plt.ylabel('minutes')\n",
        "plt.xlabel('')\n",
        "plt.title('first_reply_time_min')\n",
        "plt.suptitle(\"\")\n",
        "plt.show()"
      ],
      "id": "329296e0",
      "execution_count": null,
      "outputs": [
        {
          "output_type": "display_data",
          "data": {
            "image/png": "[encoded data removed]",
            "text/plain": [
              "<Figure size 1008x432 with 1 Axes>"
            ]
          },
          "metadata": {
            "tags": []
          }
        }
      ]
    },
    {
      "cell_type": "markdown",
      "metadata": {
        "id": "d454f7a4"
      },
      "source": [
        "*Please include notes of other data that would be useful / future ideas:*\n",
        "- Additional: KPIs and tickets source\n",
        "- Additional: KPIs and ticket category\n",
        "\n",
        "- Future ideas: NPS, language markets, call metrics"
      ],
      "id": "d454f7a4"
    },
    {
      "cell_type": "code",
      "metadata": {
        "id": "713f8068"
      },
      "source": [
        "source_total_time=df.pivot_table(index=['contact_source'], values=(\n",
        "    'first_resolution_time_min','total_time_spent_min','first_reply_time_min'), aggfunc=(\n",
        "    'median', 'mean')).sort_values(('first_resolution_time_min', 'median'), ascending=False)\n",
        "\n",
        "with pd.option_context('display.precision', 2):\n",
        "    source_total_time_gradient=source_total_time.style.background_gradient(cmap = 'Blues')"
      ],
      "id": "713f8068",
      "execution_count": null,
      "outputs": []
    },
    {
      "cell_type": "code",
      "metadata": {
        "id": "01fdb45f",
        "outputId": "e572cc8c-ac0b-47b7-c40f-5073a881080d"
      },
      "source": [
        "source_total_time_gradient"
      ],
      "id": "01fdb45f",
      "execution_count": null,
      "outputs": [
        {
          "output_type": "execute_result",
          "data": {
            "text/html": [
              "<style  type=\"text/css\" >\n",
              "#T_ebda0_row0_col0,#T_ebda0_row0_col1,#T_ebda0_row0_col2,#T_ebda0_row0_col3,#T_ebda0_row7_col4,#T_ebda0_row7_col5{\n",
              "            background-color:  #08306b;\n",
              "            color:  #f1f1f1;\n",
              "        }#T_ebda0_row0_col4{\n",
              "            background-color:  #084184;\n",
              "            color:  #f1f1f1;\n",
              "        }#T_ebda0_row0_col5{\n",
              "            background-color:  #2b7bba;\n",
              "            color:  #000000;\n",
              "        }#T_ebda0_row1_col0{\n",
              "            background-color:  #9fcae1;\n",
              "            color:  #000000;\n",
              "        }#T_ebda0_row1_col1{\n",
              "            background-color:  #dfecf7;\n",
              "            color:  #000000;\n",
              "        }#T_ebda0_row1_col2{\n",
              "            background-color:  #08519c;\n",
              "            color:  #f1f1f1;\n",
              "        }#T_ebda0_row1_col3{\n",
              "            background-color:  #add0e6;\n",
              "            color:  #000000;\n",
              "        }#T_ebda0_row1_col4{\n",
              "            background-color:  #2272b6;\n",
              "            color:  #f1f1f1;\n",
              "        }#T_ebda0_row1_col5{\n",
              "            background-color:  #084082;\n",
              "            color:  #f1f1f1;\n",
              "        }#T_ebda0_row2_col0{\n",
              "            background-color:  #66abd4;\n",
              "            color:  #000000;\n",
              "        }#T_ebda0_row2_col1{\n",
              "            background-color:  #d9e8f5;\n",
              "            color:  #000000;\n",
              "        }#T_ebda0_row2_col2{\n",
              "            background-color:  #2777b8;\n",
              "            color:  #000000;\n",
              "        }#T_ebda0_row2_col3{\n",
              "            background-color:  #caddf0;\n",
              "            color:  #000000;\n",
              "        }#T_ebda0_row2_col4{\n",
              "            background-color:  #3383be;\n",
              "            color:  #000000;\n",
              "        }#T_ebda0_row2_col5{\n",
              "            background-color:  #56a0ce;\n",
              "            color:  #000000;\n",
              "        }#T_ebda0_row3_col0{\n",
              "            background-color:  #d0e1f2;\n",
              "            color:  #000000;\n",
              "        }#T_ebda0_row3_col1{\n",
              "            background-color:  #eaf3fb;\n",
              "            color:  #000000;\n",
              "        }#T_ebda0_row3_col2{\n",
              "            background-color:  #7db8da;\n",
              "            color:  #000000;\n",
              "        }#T_ebda0_row3_col3{\n",
              "            background-color:  #cfe1f2;\n",
              "            color:  #000000;\n",
              "        }#T_ebda0_row3_col4{\n",
              "            background-color:  #549fcd;\n",
              "            color:  #000000;\n",
              "        }#T_ebda0_row3_col5{\n",
              "            background-color:  #4f9bcb;\n",
              "            color:  #000000;\n",
              "        }#T_ebda0_row4_col0{\n",
              "            background-color:  #e5eff9;\n",
              "            color:  #000000;\n",
              "        }#T_ebda0_row4_col1,#T_ebda0_row5_col0,#T_ebda0_row5_col1,#T_ebda0_row5_col2,#T_ebda0_row6_col1,#T_ebda0_row6_col3,#T_ebda0_row7_col1,#T_ebda0_row7_col3,#T_ebda0_row8_col1,#T_ebda0_row8_col3,#T_ebda0_row8_col4,#T_ebda0_row8_col5,#T_ebda0_row9_col1,#T_ebda0_row9_col3,#T_ebda0_row9_col5{\n",
              "            background-color:  #f7fbff;\n",
              "            color:  #000000;\n",
              "        }#T_ebda0_row4_col2{\n",
              "            background-color:  #d9e7f5;\n",
              "            color:  #000000;\n",
              "        }#T_ebda0_row4_col3{\n",
              "            background-color:  #f3f8fe;\n",
              "            color:  #000000;\n",
              "        }#T_ebda0_row4_col4{\n",
              "            background-color:  #d8e7f5;\n",
              "            color:  #000000;\n",
              "        }#T_ebda0_row4_col5{\n",
              "            background-color:  #ecf4fb;\n",
              "            color:  #000000;\n",
              "        }#T_ebda0_row5_col3{\n",
              "            background-color:  #f6faff;\n",
              "            color:  #000000;\n",
              "        }#T_ebda0_row5_col4{\n",
              "            background-color:  #9dcae1;\n",
              "            color:  #000000;\n",
              "        }#T_ebda0_row5_col5{\n",
              "            background-color:  #92c4de;\n",
              "            color:  #000000;\n",
              "        }#T_ebda0_row6_col0,#T_ebda0_row6_col2,#T_ebda0_row8_col2{\n",
              "            background-color:  #f2f8fd;\n",
              "            color:  #000000;\n",
              "        }#T_ebda0_row6_col4{\n",
              "            background-color:  #c7dbef;\n",
              "            color:  #000000;\n",
              "        }#T_ebda0_row6_col5{\n",
              "            background-color:  #d1e2f3;\n",
              "            color:  #000000;\n",
              "        }#T_ebda0_row7_col0{\n",
              "            background-color:  #3f8fc5;\n",
              "            color:  #000000;\n",
              "        }#T_ebda0_row7_col2{\n",
              "            background-color:  #083370;\n",
              "            color:  #f1f1f1;\n",
              "        }#T_ebda0_row8_col0{\n",
              "            background-color:  #f0f6fd;\n",
              "            color:  #000000;\n",
              "        }#T_ebda0_row9_col0{\n",
              "            background-color:  #c9ddf0;\n",
              "            color:  #000000;\n",
              "        }#T_ebda0_row9_col2{\n",
              "            background-color:  #6aaed6;\n",
              "            color:  #000000;\n",
              "        }#T_ebda0_row9_col4{\n",
              "            background-color:  #deebf7;\n",
              "            color:  #000000;\n",
              "        }</style><table id=\"T_ebda0_\" ><thead>    <tr>        <th class=\"blank level0\" ></th>        <th class=\"col_heading level0 col0\" colspan=\"2\">first_reply_time_min</th>        <th class=\"col_heading level0 col2\" colspan=\"2\">first_resolution_time_min</th>        <th class=\"col_heading level0 col4\" colspan=\"2\">total_time_spent_min</th>    </tr>    <tr>        <th class=\"blank level1\" ></th>        <th class=\"col_heading level1 col0\" >mean</th>        <th class=\"col_heading level1 col1\" >median</th>        <th class=\"col_heading level1 col2\" >mean</th>        <th class=\"col_heading level1 col3\" >median</th>        <th class=\"col_heading level1 col4\" >mean</th>        <th class=\"col_heading level1 col5\" >median</th>    </tr>    <tr>        <th class=\"index_name level0\" >contact_source</th>        <th class=\"blank\" ></th>        <th class=\"blank\" ></th>        <th class=\"blank\" ></th>        <th class=\"blank\" ></th>        <th class=\"blank\" ></th>        <th class=\"blank\" ></th>    </tr></thead><tbody>\n",
              "                <tr>\n",
              "                        <th id=\"T_ebda0_level0_row0\" class=\"row_heading level0 row0\" >other_ticket_dc.submit</th>\n",
              "                        <td id=\"T_ebda0_row0_col0\" class=\"data row0 col0\" >611.28</td>\n",
              "                        <td id=\"T_ebda0_row0_col1\" class=\"data row0 col1\" >597.00</td>\n",
              "                        <td id=\"T_ebda0_row0_col2\" class=\"data row0 col2\" >1014.60</td>\n",
              "                        <td id=\"T_ebda0_row0_col3\" class=\"data row0 col3\" >871.00</td>\n",
              "                        <td id=\"T_ebda0_row0_col4\" class=\"data row0 col4\" >11.11</td>\n",
              "                        <td id=\"T_ebda0_row0_col5\" class=\"data row0 col5\" >4.32</td>\n",
              "            </tr>\n",
              "            <tr>\n",
              "                        <th id=\"T_ebda0_level0_row1\" class=\"row_heading level0 row1\" >other_ticket_facebook</th>\n",
              "                        <td id=\"T_ebda0_row1_col0\" class=\"data row1 col0\" >228.21</td>\n",
              "                        <td id=\"T_ebda0_row1_col1\" class=\"data row1 col1\" >72.00</td>\n",
              "                        <td id=\"T_ebda0_row1_col2\" class=\"data row1 col2\" >888.31</td>\n",
              "                        <td id=\"T_ebda0_row1_col3\" class=\"data row1 col3\" >286.00</td>\n",
              "                        <td id=\"T_ebda0_row1_col4\" class=\"data row1 col4\" >8.85</td>\n",
              "                        <td id=\"T_ebda0_row1_col5\" class=\"data row1 col5\" >5.70</td>\n",
              "            </tr>\n",
              "            <tr>\n",
              "                        <th id=\"T_ebda0_level0_row2\" class=\"row_heading level0 row2\" >email_inbound</th>\n",
              "                        <td id=\"T_ebda0_row2_col0\" class=\"data row2 col0\" >315.17</td>\n",
              "                        <td id=\"T_ebda0_row2_col1\" class=\"data row2 col1\" >89.00</td>\n",
              "                        <td id=\"T_ebda0_row2_col2\" class=\"data row2 col2\" >738.59</td>\n",
              "                        <td id=\"T_ebda0_row2_col3\" class=\"data row2 col3\" >201.00</td>\n",
              "                        <td id=\"T_ebda0_row2_col4\" class=\"data row2 col4\" >8.10</td>\n",
              "                        <td id=\"T_ebda0_row2_col5\" class=\"data row2 col5\" >3.42</td>\n",
              "            </tr>\n",
              "            <tr>\n",
              "                        <th id=\"T_ebda0_level0_row3\" class=\"row_heading level0 row3\" >other_ticket_twitter</th>\n",
              "                        <td id=\"T_ebda0_row3_col0\" class=\"data row3 col0\" >124.57</td>\n",
              "                        <td id=\"T_ebda0_row3_col1\" class=\"data row3 col1\" >39.00</td>\n",
              "                        <td id=\"T_ebda0_row3_col2\" class=\"data row3 col2\" >472.78</td>\n",
              "                        <td id=\"T_ebda0_row3_col3\" class=\"data row3 col3\" >179.00</td>\n",
              "                        <td id=\"T_ebda0_row3_col4\" class=\"data row3 col4\" >6.73</td>\n",
              "                        <td id=\"T_ebda0_row3_col5\" class=\"data row3 col5\" >3.55</td>\n",
              "            </tr>\n",
              "            <tr>\n",
              "                        <th id=\"T_ebda0_level0_row4\" class=\"row_heading level0 row4\" >other_ticket_chat</th>\n",
              "                        <td id=\"T_ebda0_row4_col0\" class=\"data row4 col0\" >56.96</td>\n",
              "                        <td id=\"T_ebda0_row4_col1\" class=\"data row4 col1\" >0.00</td>\n",
              "                        <td id=\"T_ebda0_row4_col2\" class=\"data row4 col2\" >171.56</td>\n",
              "                        <td id=\"T_ebda0_row4_col3\" class=\"data row4 col3\" >18.00</td>\n",
              "                        <td id=\"T_ebda0_row4_col4\" class=\"data row4 col4\" >1.92</td>\n",
              "                        <td id=\"T_ebda0_row4_col5\" class=\"data row4 col5\" >0.33</td>\n",
              "            </tr>\n",
              "            <tr>\n",
              "                        <th id=\"T_ebda0_level0_row5\" class=\"row_heading level0 row5\" >call_inbound</th>\n",
              "                        <td id=\"T_ebda0_row5_col0\" class=\"data row5 col0\" >0.52</td>\n",
              "                        <td id=\"T_ebda0_row5_col1\" class=\"data row5 col1\" >0.00</td>\n",
              "                        <td id=\"T_ebda0_row5_col2\" class=\"data row5 col2\" >19.01</td>\n",
              "                        <td id=\"T_ebda0_row5_col3\" class=\"data row5 col3\" >4.00</td>\n",
              "                        <td id=\"T_ebda0_row5_col4\" class=\"data row5 col4\" >4.49</td>\n",
              "                        <td id=\"T_ebda0_row5_col5\" class=\"data row5 col5\" >2.45</td>\n",
              "            </tr>\n",
              "            <tr>\n",
              "                        <th id=\"T_ebda0_level0_row6\" class=\"row_heading level0 row6\" >call_outbound</th>\n",
              "                        <td id=\"T_ebda0_row6_col0\" class=\"data row6 col0\" >16.87</td>\n",
              "                        <td id=\"T_ebda0_row6_col1\" class=\"data row6 col1\" >0.00</td>\n",
              "                        <td id=\"T_ebda0_row6_col2\" class=\"data row6 col2\" >45.49</td>\n",
              "                        <td id=\"T_ebda0_row6_col3\" class=\"data row6 col3\" >3.00</td>\n",
              "                        <td id=\"T_ebda0_row6_col4\" class=\"data row6 col4\" >2.99</td>\n",
              "                        <td id=\"T_ebda0_row6_col5\" class=\"data row6 col5\" >1.18</td>\n",
              "            </tr>\n",
              "            <tr>\n",
              "                        <th id=\"T_ebda0_level0_row7\" class=\"row_heading level0 row7\" >email_outbound</th>\n",
              "                        <td id=\"T_ebda0_row7_col0\" class=\"data row7 col0\" >388.89</td>\n",
              "                        <td id=\"T_ebda0_row7_col1\" class=\"data row7 col1\" >0.00</td>\n",
              "                        <td id=\"T_ebda0_row7_col2\" class=\"data row7 col2\" >1001.98</td>\n",
              "                        <td id=\"T_ebda0_row7_col3\" class=\"data row7 col3\" >1.00</td>\n",
              "                        <td id=\"T_ebda0_row7_col4\" class=\"data row7 col4\" >11.85</td>\n",
              "                        <td id=\"T_ebda0_row7_col5\" class=\"data row7 col5\" >6.07</td>\n",
              "            </tr>\n",
              "            <tr>\n",
              "                        <th id=\"T_ebda0_level0_row8\" class=\"row_heading level0 row8\" >other_ticket_</th>\n",
              "                        <td id=\"T_ebda0_row8_col0\" class=\"data row8 col0\" >22.53</td>\n",
              "                        <td id=\"T_ebda0_row8_col1\" class=\"data row8 col1\" >0.00</td>\n",
              "                        <td id=\"T_ebda0_row8_col2\" class=\"data row8 col2\" >44.39</td>\n",
              "                        <td id=\"T_ebda0_row8_col3\" class=\"data row8 col3\" >0.00</td>\n",
              "                        <td id=\"T_ebda0_row8_col4\" class=\"data row8 col4\" >0.05</td>\n",
              "                        <td id=\"T_ebda0_row8_col5\" class=\"data row8 col5\" >0.00</td>\n",
              "            </tr>\n",
              "            <tr>\n",
              "                        <th id=\"T_ebda0_level0_row9\" class=\"row_heading level0 row9\" >other_ticket_nps</th>\n",
              "                        <td id=\"T_ebda0_row9_col0\" class=\"data row9 col0\" >146.00</td>\n",
              "                        <td id=\"T_ebda0_row9_col1\" class=\"data row9 col1\" >0.00</td>\n",
              "                        <td id=\"T_ebda0_row9_col2\" class=\"data row9 col2\" >519.12</td>\n",
              "                        <td id=\"T_ebda0_row9_col3\" class=\"data row9 col3\" >0.00</td>\n",
              "                        <td id=\"T_ebda0_row9_col4\" class=\"data row9 col4\" >1.56</td>\n",
              "                        <td id=\"T_ebda0_row9_col5\" class=\"data row9 col5\" >0.00</td>\n",
              "            </tr>\n",
              "    </tbody></table>"
            ],
            "text/plain": [
              "<pandas.io.formats.style.Styler at 0x16e0be76520>"
            ]
          },
          "metadata": {
            "tags": []
          },
          "execution_count": 75
        }
      ]
    },
    {
      "cell_type": "code",
      "metadata": {
        "id": "1651c681"
      },
      "source": [
        "category_total_time=df.pivot_table(index=['ticket_category'], values=(\n",
        "    'first_resolution_time_min','total_time_spent_min','first_reply_time_min'), aggfunc=(\n",
        "    'median', 'mean')).sort_values(('first_resolution_time_min', 'median'), ascending=False)\n",
        "with pd.option_context('display.precision', 2):\n",
        "    category_total_time_gradient=category_total_time.style.background_gradient(cmap = 'Blues')"
      ],
      "id": "1651c681",
      "execution_count": null,
      "outputs": []
    },
    {
      "cell_type": "code",
      "metadata": {
        "id": "53352537",
        "outputId": "71434a8c-b4d7-46f9-c5ee-6e4f64b2573e"
      },
      "source": [
        "category_total_time_gradient"
      ],
      "id": "53352537",
      "execution_count": null,
      "outputs": [
        {
          "output_type": "execute_result",
          "data": {
            "text/html": [
              "<style  type=\"text/css\" >\n",
              "#T_14fed_row0_col0{\n",
              "            background-color:  #68acd5;\n",
              "            color:  #000000;\n",
              "        }#T_14fed_row0_col1,#T_14fed_row14_col4{\n",
              "            background-color:  #4493c7;\n",
              "            color:  #000000;\n",
              "        }#T_14fed_row0_col2{\n",
              "            background-color:  #2d7dbb;\n",
              "            color:  #000000;\n",
              "        }#T_14fed_row0_col3,#T_14fed_row1_col1,#T_14fed_row2_col0,#T_14fed_row2_col2,#T_14fed_row3_col4,#T_14fed_row3_col5{\n",
              "            background-color:  #08306b;\n",
              "            color:  #f1f1f1;\n",
              "        }#T_14fed_row0_col4{\n",
              "            background-color:  #60a7d2;\n",
              "            color:  #000000;\n",
              "        }#T_14fed_row0_col5{\n",
              "            background-color:  #61a7d2;\n",
              "            color:  #000000;\n",
              "        }#T_14fed_row1_col0{\n",
              "            background-color:  #2070b4;\n",
              "            color:  #f1f1f1;\n",
              "        }#T_14fed_row1_col2{\n",
              "            background-color:  #a5cde3;\n",
              "            color:  #000000;\n",
              "        }#T_14fed_row1_col3{\n",
              "            background-color:  #3989c1;\n",
              "            color:  #000000;\n",
              "        }#T_14fed_row1_col4,#T_14fed_row9_col5{\n",
              "            background-color:  #66abd4;\n",
              "            color:  #000000;\n",
              "        }#T_14fed_row1_col5{\n",
              "            background-color:  #71b1d7;\n",
              "            color:  #000000;\n",
              "        }#T_14fed_row2_col1{\n",
              "            background-color:  #dfebf7;\n",
              "            color:  #000000;\n",
              "        }#T_14fed_row2_col3,#T_14fed_row8_col0{\n",
              "            background-color:  #9dcae1;\n",
              "            color:  #000000;\n",
              "        }#T_14fed_row2_col4{\n",
              "            background-color:  #083370;\n",
              "            color:  #f1f1f1;\n",
              "        }#T_14fed_row2_col5{\n",
              "            background-color:  #08468b;\n",
              "            color:  #f1f1f1;\n",
              "        }#T_14fed_row3_col0{\n",
              "            background-color:  #4b98ca;\n",
              "            color:  #000000;\n",
              "        }#T_14fed_row3_col1{\n",
              "            background-color:  #d9e7f5;\n",
              "            color:  #000000;\n",
              "        }#T_14fed_row3_col2,#T_14fed_row10_col5{\n",
              "            background-color:  #57a0ce;\n",
              "            color:  #000000;\n",
              "        }#T_14fed_row3_col3{\n",
              "            background-color:  #c7dbef;\n",
              "            color:  #000000;\n",
              "        }#T_14fed_row4_col0,#T_14fed_row4_col4{\n",
              "            background-color:  #4695c8;\n",
              "            color:  #000000;\n",
              "        }#T_14fed_row4_col1{\n",
              "            background-color:  #cbdef1;\n",
              "            color:  #000000;\n",
              "        }#T_14fed_row4_col2,#T_14fed_row14_col0{\n",
              "            background-color:  #b4d3e9;\n",
              "            color:  #000000;\n",
              "        }#T_14fed_row4_col3{\n",
              "            background-color:  #d0e1f2;\n",
              "            color:  #000000;\n",
              "        }#T_14fed_row4_col5{\n",
              "            background-color:  #4d99ca;\n",
              "            color:  #000000;\n",
              "        }#T_14fed_row5_col0,#T_14fed_row14_col5{\n",
              "            background-color:  #3a8ac2;\n",
              "            color:  #000000;\n",
              "        }#T_14fed_row5_col1{\n",
              "            background-color:  #deebf7;\n",
              "            color:  #000000;\n",
              "        }#T_14fed_row5_col2{\n",
              "            background-color:  #7cb7da;\n",
              "            color:  #000000;\n",
              "        }#T_14fed_row5_col3{\n",
              "            background-color:  #e2edf8;\n",
              "            color:  #000000;\n",
              "        }#T_14fed_row5_col4{\n",
              "            background-color:  #1b69af;\n",
              "            color:  #f1f1f1;\n",
              "        }#T_14fed_row5_col5{\n",
              "            background-color:  #2f7fbc;\n",
              "            color:  #000000;\n",
              "        }#T_14fed_row6_col0,#T_14fed_row6_col1,#T_14fed_row7_col1,#T_14fed_row8_col1,#T_14fed_row9_col1,#T_14fed_row10_col1,#T_14fed_row11_col1,#T_14fed_row12_col1,#T_14fed_row13_col1,#T_14fed_row14_col1,#T_14fed_row15_col1,#T_14fed_row16_col1,#T_14fed_row17_col1,#T_14fed_row18_col1,#T_14fed_row18_col3,#T_14fed_row18_col5,#T_14fed_row19_col1,#T_14fed_row19_col2,#T_14fed_row19_col3,#T_14fed_row19_col4,#T_14fed_row19_col5{\n",
              "            background-color:  #f7fbff;\n",
              "            color:  #000000;\n",
              "        }#T_14fed_row6_col2{\n",
              "            background-color:  #f1f7fd;\n",
              "            color:  #000000;\n",
              "        }#T_14fed_row6_col3{\n",
              "            background-color:  #e6f0f9;\n",
              "            color:  #000000;\n",
              "        }#T_14fed_row6_col4{\n",
              "            background-color:  #f2f7fd;\n",
              "            color:  #000000;\n",
              "        }#T_14fed_row6_col5,#T_14fed_row7_col3,#T_14fed_row17_col2{\n",
              "            background-color:  #eef5fc;\n",
              "            color:  #000000;\n",
              "        }#T_14fed_row7_col0,#T_14fed_row10_col2{\n",
              "            background-color:  #b8d5ea;\n",
              "            color:  #000000;\n",
              "        }#T_14fed_row7_col2,#T_14fed_row15_col0{\n",
              "            background-color:  #d4e4f4;\n",
              "            color:  #000000;\n",
              "        }#T_14fed_row7_col4{\n",
              "            background-color:  #64a9d3;\n",
              "            color:  #000000;\n",
              "        }#T_14fed_row7_col5{\n",
              "            background-color:  #1663aa;\n",
              "            color:  #f1f1f1;\n",
              "        }#T_14fed_row8_col2{\n",
              "            background-color:  #c4daee;\n",
              "            color:  #000000;\n",
              "        }#T_14fed_row8_col3,#T_14fed_row9_col3,#T_14fed_row10_col3,#T_14fed_row11_col3{\n",
              "            background-color:  #f2f8fd;\n",
              "            color:  #000000;\n",
              "        }#T_14fed_row8_col4{\n",
              "            background-color:  #77b5d9;\n",
              "            color:  #000000;\n",
              "        }#T_14fed_row8_col5{\n",
              "            background-color:  #69add5;\n",
              "            color:  #000000;\n",
              "        }#T_14fed_row9_col0{\n",
              "            background-color:  #c3daee;\n",
              "            color:  #000000;\n",
              "        }#T_14fed_row9_col2,#T_14fed_row13_col2{\n",
              "            background-color:  #d6e6f4;\n",
              "            color:  #000000;\n",
              "        }#T_14fed_row9_col4{\n",
              "            background-color:  #79b5d9;\n",
              "            color:  #000000;\n",
              "        }#T_14fed_row10_col0{\n",
              "            background-color:  #bad6eb;\n",
              "            color:  #000000;\n",
              "        }#T_14fed_row10_col4{\n",
              "            background-color:  #3c8cc3;\n",
              "            color:  #000000;\n",
              "        }#T_14fed_row11_col0{\n",
              "            background-color:  #bed8ec;\n",
              "            color:  #000000;\n",
              "        }#T_14fed_row11_col2{\n",
              "            background-color:  #d8e7f5;\n",
              "            color:  #000000;\n",
              "        }#T_14fed_row11_col4,#T_14fed_row12_col4{\n",
              "            background-color:  #72b2d8;\n",
              "            color:  #000000;\n",
              "        }#T_14fed_row11_col5{\n",
              "            background-color:  #75b4d8;\n",
              "            color:  #000000;\n",
              "        }#T_14fed_row12_col0{\n",
              "            background-color:  #d0e2f2;\n",
              "            color:  #000000;\n",
              "        }#T_14fed_row12_col2{\n",
              "            background-color:  #d9e8f5;\n",
              "            color:  #000000;\n",
              "        }#T_14fed_row12_col3,#T_14fed_row13_col3,#T_14fed_row14_col3,#T_14fed_row18_col4{\n",
              "            background-color:  #f3f8fe;\n",
              "            color:  #000000;\n",
              "        }#T_14fed_row12_col5{\n",
              "            background-color:  #5ba3d0;\n",
              "            color:  #000000;\n",
              "        }#T_14fed_row13_col0{\n",
              "            background-color:  #c1d9ed;\n",
              "            color:  #000000;\n",
              "        }#T_14fed_row13_col4{\n",
              "            background-color:  #5ca4d0;\n",
              "            color:  #000000;\n",
              "        }#T_14fed_row13_col5{\n",
              "            background-color:  #5aa2cf;\n",
              "            color:  #000000;\n",
              "        }#T_14fed_row14_col2{\n",
              "            background-color:  #d7e6f5;\n",
              "            color:  #000000;\n",
              "        }#T_14fed_row15_col2{\n",
              "            background-color:  #dceaf6;\n",
              "            color:  #000000;\n",
              "        }#T_14fed_row15_col3{\n",
              "            background-color:  #f4f9fe;\n",
              "            color:  #000000;\n",
              "        }#T_14fed_row15_col4{\n",
              "            background-color:  #529dcc;\n",
              "            color:  #000000;\n",
              "        }#T_14fed_row15_col5{\n",
              "            background-color:  #539ecd;\n",
              "            color:  #000000;\n",
              "        }#T_14fed_row16_col0{\n",
              "            background-color:  #e7f1fa;\n",
              "            color:  #000000;\n",
              "        }#T_14fed_row16_col2{\n",
              "            background-color:  #ebf3fb;\n",
              "            color:  #000000;\n",
              "        }#T_14fed_row16_col3,#T_14fed_row17_col3{\n",
              "            background-color:  #f5f9fe;\n",
              "            color:  #000000;\n",
              "        }#T_14fed_row16_col4{\n",
              "            background-color:  #bfd8ed;\n",
              "            color:  #000000;\n",
              "        }#T_14fed_row16_col5{\n",
              "            background-color:  #dbe9f6;\n",
              "            color:  #000000;\n",
              "        }#T_14fed_row17_col0{\n",
              "            background-color:  #dce9f6;\n",
              "            color:  #000000;\n",
              "        }#T_14fed_row17_col4{\n",
              "            background-color:  #b2d2e8;\n",
              "            color:  #000000;\n",
              "        }#T_14fed_row17_col5{\n",
              "            background-color:  #7fb9da;\n",
              "            color:  #000000;\n",
              "        }#T_14fed_row18_col0{\n",
              "            background-color:  #eaf3fb;\n",
              "            color:  #000000;\n",
              "        }#T_14fed_row18_col2{\n",
              "            background-color:  #f0f6fd;\n",
              "            color:  #000000;\n",
              "        }#T_14fed_row19_col0{\n",
              "            background-color:  #e4eff9;\n",
              "            color:  #000000;\n",
              "        }</style><table id=\"T_14fed_\" ><thead>    <tr>        <th class=\"blank level0\" ></th>        <th class=\"col_heading level0 col0\" colspan=\"2\">first_reply_time_min</th>        <th class=\"col_heading level0 col2\" colspan=\"2\">first_resolution_time_min</th>        <th class=\"col_heading level0 col4\" colspan=\"2\">total_time_spent_min</th>    </tr>    <tr>        <th class=\"blank level1\" ></th>        <th class=\"col_heading level1 col0\" >mean</th>        <th class=\"col_heading level1 col1\" >median</th>        <th class=\"col_heading level1 col2\" >mean</th>        <th class=\"col_heading level1 col3\" >median</th>        <th class=\"col_heading level1 col4\" >mean</th>        <th class=\"col_heading level1 col5\" >median</th>    </tr>    <tr>        <th class=\"index_name level0\" >ticket_category</th>        <th class=\"blank\" ></th>        <th class=\"blank\" ></th>        <th class=\"blank\" ></th>        <th class=\"blank\" ></th>        <th class=\"blank\" ></th>        <th class=\"blank\" ></th>    </tr></thead><tbody>\n",
              "                <tr>\n",
              "                        <th id=\"T_14fed_level0_row0\" class=\"row_heading level0 row0\" >account</th>\n",
              "                        <td id=\"T_14fed_row0_col0\" class=\"data row0 col0\" >285.03</td>\n",
              "                        <td id=\"T_14fed_row0_col1\" class=\"data row0 col1\" >91.50</td>\n",
              "                        <td id=\"T_14fed_row0_col2\" class=\"data row0 col2\" >1173.87</td>\n",
              "                        <td id=\"T_14fed_row0_col3\" class=\"data row0 col3\" >336.00</td>\n",
              "                        <td id=\"T_14fed_row0_col4\" class=\"data row0 col4\" >6.90</td>\n",
              "                        <td id=\"T_14fed_row0_col5\" class=\"data row0 col5\" >3.58</td>\n",
              "            </tr>\n",
              "            <tr>\n",
              "                        <th id=\"T_14fed_level0_row1\" class=\"row_heading level0 row1\" >review_code</th>\n",
              "                        <td id=\"T_14fed_row1_col0\" class=\"data row1 col0\" >421.36</td>\n",
              "                        <td id=\"T_14fed_row1_col1\" class=\"data row1 col1\" >147.50</td>\n",
              "                        <td id=\"T_14fed_row1_col2\" class=\"data row1 col2\" >623.99</td>\n",
              "                        <td id=\"T_14fed_row1_col3\" class=\"data row1 col3\" >220.50</td>\n",
              "                        <td id=\"T_14fed_row1_col4\" class=\"data row1 col4\" >6.69</td>\n",
              "                        <td id=\"T_14fed_row1_col5\" class=\"data row1 col5\" >3.29</td>\n",
              "            </tr>\n",
              "            <tr>\n",
              "                        <th id=\"T_14fed_level0_row2\" class=\"row_heading level0 row2\" >spa</th>\n",
              "                        <td id=\"T_14fed_row2_col0\" class=\"data row2 col0\" >558.69</td>\n",
              "                        <td id=\"T_14fed_row2_col1\" class=\"data row2 col1\" >18.00</td>\n",
              "                        <td id=\"T_14fed_row2_col2\" class=\"data row2 col2\" >1635.09</td>\n",
              "                        <td id=\"T_14fed_row2_col3\" class=\"data row2 col3\" >127.00</td>\n",
              "                        <td id=\"T_14fed_row2_col4\" class=\"data row2 col4\" >12.66</td>\n",
              "                        <td id=\"T_14fed_row2_col5\" class=\"data row2 col5\" >6.18</td>\n",
              "            </tr>\n",
              "            <tr>\n",
              "                        <th id=\"T_14fed_level0_row3\" class=\"row_heading level0 row3\" >complaint</th>\n",
              "                        <td id=\"T_14fed_row3_col0\" class=\"data row3 col0\" >333.53</td>\n",
              "                        <td id=\"T_14fed_row3_col1\" class=\"data row3 col1\" >23.00</td>\n",
              "                        <td id=\"T_14fed_row3_col2\" class=\"data row3 col2\" >950.02</td>\n",
              "                        <td id=\"T_14fed_row3_col3\" class=\"data row3 col3\" >83.00</td>\n",
              "                        <td id=\"T_14fed_row3_col4\" class=\"data row3 col4\" >12.83</td>\n",
              "                        <td id=\"T_14fed_row3_col5\" class=\"data row3 col5\" >6.75</td>\n",
              "            </tr>\n",
              "            <tr>\n",
              "                        <th id=\"T_14fed_level0_row4\" class=\"row_heading level0 row4\" >promo_code</th>\n",
              "                        <td id=\"T_14fed_row4_col0\" class=\"data row4 col0\" >341.95</td>\n",
              "                        <td id=\"T_14fed_row4_col1\" class=\"data row4 col1\" >33.00</td>\n",
              "                        <td id=\"T_14fed_row4_col2\" class=\"data row4 col2\" >549.76</td>\n",
              "                        <td id=\"T_14fed_row4_col3\" class=\"data row4 col3\" >67.00</td>\n",
              "                        <td id=\"T_14fed_row4_col4\" class=\"data row4 col4\" >7.89</td>\n",
              "                        <td id=\"T_14fed_row4_col5\" class=\"data row4 col5\" >3.98</td>\n",
              "            </tr>\n",
              "            <tr>\n",
              "                        <th id=\"T_14fed_level0_row5\" class=\"row_heading level0 row5\" >nps</th>\n",
              "                        <td id=\"T_14fed_row5_col0\" class=\"data row5 col0\" >364.89</td>\n",
              "                        <td id=\"T_14fed_row5_col1\" class=\"data row5 col1\" >19.00</td>\n",
              "                        <td id=\"T_14fed_row5_col2\" class=\"data row5 col2\" >791.52</td>\n",
              "                        <td id=\"T_14fed_row5_col3\" class=\"data row5 col3\" >36.00</td>\n",
              "                        <td id=\"T_14fed_row5_col4\" class=\"data row5 col4\" >10.04</td>\n",
              "                        <td id=\"T_14fed_row5_col5\" class=\"data row5 col5\" >4.70</td>\n",
              "            </tr>\n",
              "            <tr>\n",
              "                        <th id=\"T_14fed_level0_row6\" class=\"row_heading level0 row6\" >spam</th>\n",
              "                        <td id=\"T_14fed_row6_col0\" class=\"data row6 col0\" >1.20</td>\n",
              "                        <td id=\"T_14fed_row6_col1\" class=\"data row6 col1\" >0.00</td>\n",
              "                        <td id=\"T_14fed_row6_col2\" class=\"data row6 col2\" >123.84</td>\n",
              "                        <td id=\"T_14fed_row6_col3\" class=\"data row6 col3\" >30.00</td>\n",
              "                        <td id=\"T_14fed_row6_col4\" class=\"data row6 col4\" >0.53</td>\n",
              "                        <td id=\"T_14fed_row6_col5\" class=\"data row6 col5\" >0.33</td>\n",
              "            </tr>\n",
              "            <tr>\n",
              "                        <th id=\"T_14fed_level0_row7\" class=\"row_heading level0 row7\" >cancel_partner_not_informed_cust</th>\n",
              "                        <td id=\"T_14fed_row7_col0\" class=\"data row7 col0\" >165.62</td>\n",
              "                        <td id=\"T_14fed_row7_col1\" class=\"data row7 col1\" >0.00</td>\n",
              "                        <td id=\"T_14fed_row7_col2\" class=\"data row7 col2\" >354.32</td>\n",
              "                        <td id=\"T_14fed_row7_col3\" class=\"data row7 col3\" >16.00</td>\n",
              "                        <td id=\"T_14fed_row7_col4\" class=\"data row7 col4\" >6.78</td>\n",
              "                        <td id=\"T_14fed_row7_col5\" class=\"data row7 col5\" >5.42</td>\n",
              "            </tr>\n",
              "            <tr>\n",
              "                        <th id=\"T_14fed_level0_row8\" class=\"row_heading level0 row8\" >gift_card_-_evoucher</th>\n",
              "                        <td id=\"T_14fed_row8_col0\" class=\"data row8 col0\" >211.29</td>\n",
              "                        <td id=\"T_14fed_row8_col1\" class=\"data row8 col1\" >0.00</td>\n",
              "                        <td id=\"T_14fed_row8_col2\" class=\"data row8 col2\" >474.83</td>\n",
              "                        <td id=\"T_14fed_row8_col3\" class=\"data row8 col3\" >9.00</td>\n",
              "                        <td id=\"T_14fed_row8_col4\" class=\"data row8 col4\" >6.13</td>\n",
              "                        <td id=\"T_14fed_row8_col5\" class=\"data row8 col5\" >3.41</td>\n",
              "            </tr>\n",
              "            <tr>\n",
              "                        <th id=\"T_14fed_level0_row9\" class=\"row_heading level0 row9\" >new_or_existing_order</th>\n",
              "                        <td id=\"T_14fed_row9_col0\" class=\"data row9 col0\" >146.33</td>\n",
              "                        <td id=\"T_14fed_row9_col1\" class=\"data row9 col1\" >0.00</td>\n",
              "                        <td id=\"T_14fed_row9_col2\" class=\"data row9 col2\" >335.08</td>\n",
              "                        <td id=\"T_14fed_row9_col3\" class=\"data row9 col3\" >8.00</td>\n",
              "                        <td id=\"T_14fed_row9_col4\" class=\"data row9 col4\" >6.06</td>\n",
              "                        <td id=\"T_14fed_row9_col5\" class=\"data row9 col5\" >3.48</td>\n",
              "            </tr>\n",
              "            <tr>\n",
              "                        <th id=\"T_14fed_level0_row10\" class=\"row_heading level0 row10\" >tech_issues</th>\n",
              "                        <td id=\"T_14fed_row10_col0\" class=\"data row10 col0\" >161.38</td>\n",
              "                        <td id=\"T_14fed_row10_col1\" class=\"data row10 col1\" >0.00</td>\n",
              "                        <td id=\"T_14fed_row10_col2\" class=\"data row10 col2\" >535.36</td>\n",
              "                        <td id=\"T_14fed_row10_col3\" class=\"data row10 col3\" >8.00</td>\n",
              "                        <td id=\"T_14fed_row10_col4\" class=\"data row10 col4\" >8.36</td>\n",
              "                        <td id=\"T_14fed_row10_col5\" class=\"data row10 col5\" >3.78</td>\n",
              "            </tr>\n",
              "            <tr>\n",
              "                        <th id=\"T_14fed_level0_row11\" class=\"row_heading level0 row11\" >cancellation</th>\n",
              "                        <td id=\"T_14fed_row11_col0\" class=\"data row11 col0\" >154.54</td>\n",
              "                        <td id=\"T_14fed_row11_col1\" class=\"data row11 col1\" >0.00</td>\n",
              "                        <td id=\"T_14fed_row11_col2\" class=\"data row11 col2\" >321.26</td>\n",
              "                        <td id=\"T_14fed_row11_col3\" class=\"data row11 col3\" >8.00</td>\n",
              "                        <td id=\"T_14fed_row11_col4\" class=\"data row11 col4\" >6.30</td>\n",
              "                        <td id=\"T_14fed_row11_col5\" class=\"data row11 col5\" >3.20</td>\n",
              "            </tr>\n",
              "            <tr>\n",
              "                        <th id=\"T_14fed_level0_row12\" class=\"row_heading level0 row12\" >reschedule</th>\n",
              "                        <td id=\"T_14fed_row12_col0\" class=\"data row12 col0\" >110.31</td>\n",
              "                        <td id=\"T_14fed_row12_col1\" class=\"data row12 col1\" >0.00</td>\n",
              "                        <td id=\"T_14fed_row12_col2\" class=\"data row12 col2\" >311.62</td>\n",
              "                        <td id=\"T_14fed_row12_col3\" class=\"data row12 col3\" >7.00</td>\n",
              "                        <td id=\"T_14fed_row12_col4\" class=\"data row12 col4\" >6.26</td>\n",
              "                        <td id=\"T_14fed_row12_col5\" class=\"data row12 col5\" >3.72</td>\n",
              "            </tr>\n",
              "            <tr>\n",
              "                        <th id=\"T_14fed_level0_row13\" class=\"row_heading level0 row13\" >finance</th>\n",
              "                        <td id=\"T_14fed_row13_col0\" class=\"data row13 col0\" >149.96</td>\n",
              "                        <td id=\"T_14fed_row13_col1\" class=\"data row13 col1\" >0.00</td>\n",
              "                        <td id=\"T_14fed_row13_col2\" class=\"data row13 col2\" >334.43</td>\n",
              "                        <td id=\"T_14fed_row13_col3\" class=\"data row13 col3\" >7.00</td>\n",
              "                        <td id=\"T_14fed_row13_col4\" class=\"data row13 col4\" >7.06</td>\n",
              "                        <td id=\"T_14fed_row13_col5\" class=\"data row13 col5\" >3.73</td>\n",
              "            </tr>\n",
              "            <tr>\n",
              "                        <th id=\"T_14fed_level0_row14\" class=\"row_heading level0 row14\" >reviews</th>\n",
              "                        <td id=\"T_14fed_row14_col0\" class=\"data row14 col0\" >173.03</td>\n",
              "                        <td id=\"T_14fed_row14_col1\" class=\"data row14 col1\" >0.00</td>\n",
              "                        <td id=\"T_14fed_row14_col2\" class=\"data row14 col2\" >326.16</td>\n",
              "                        <td id=\"T_14fed_row14_col3\" class=\"data row14 col3\" >7.00</td>\n",
              "                        <td id=\"T_14fed_row14_col4\" class=\"data row14 col4\" >8.03</td>\n",
              "                        <td id=\"T_14fed_row14_col5\" class=\"data row14 col5\" >4.41</td>\n",
              "            </tr>\n",
              "            <tr>\n",
              "                        <th id=\"T_14fed_level0_row15\" class=\"row_heading level0 row15\" >profile</th>\n",
              "                        <td id=\"T_14fed_row15_col0\" class=\"data row15 col0\" >100.62</td>\n",
              "                        <td id=\"T_14fed_row15_col1\" class=\"data row15 col1\" >0.00</td>\n",
              "                        <td id=\"T_14fed_row15_col2\" class=\"data row15 col2\" >282.72</td>\n",
              "                        <td id=\"T_14fed_row15_col3\" class=\"data row15 col3\" >6.00</td>\n",
              "                        <td id=\"T_14fed_row15_col4\" class=\"data row15 col4\" >7.45</td>\n",
              "                        <td id=\"T_14fed_row15_col5\" class=\"data row15 col5\" >3.87</td>\n",
              "            </tr>\n",
              "            <tr>\n",
              "                        <th id=\"T_14fed_level0_row16\" class=\"row_heading level0 row16\" >misc</th>\n",
              "                        <td id=\"T_14fed_row16_col0\" class=\"data row16 col0\" >46.26</td>\n",
              "                        <td id=\"T_14fed_row16_col1\" class=\"data row16 col1\" >0.00</td>\n",
              "                        <td id=\"T_14fed_row16_col2\" class=\"data row16 col2\" >166.77</td>\n",
              "                        <td id=\"T_14fed_row16_col3\" class=\"data row16 col3\" >5.00</td>\n",
              "                        <td id=\"T_14fed_row16_col4\" class=\"data row16 col4\" >3.62</td>\n",
              "                        <td id=\"T_14fed_row16_col5\" class=\"data row16 col5\" >0.95</td>\n",
              "            </tr>\n",
              "            <tr>\n",
              "                        <th id=\"T_14fed_level0_row17\" class=\"row_heading level0 row17\" >new_business</th>\n",
              "                        <td id=\"T_14fed_row17_col0\" class=\"data row17 col0\" >78.62</td>\n",
              "                        <td id=\"T_14fed_row17_col1\" class=\"data row17 col1\" >0.00</td>\n",
              "                        <td id=\"T_14fed_row17_col2\" class=\"data row17 col2\" >142.39</td>\n",
              "                        <td id=\"T_14fed_row17_col3\" class=\"data row17 col3\" >5.00</td>\n",
              "                        <td id=\"T_14fed_row17_col4\" class=\"data row17 col4\" >4.15</td>\n",
              "                        <td id=\"T_14fed_row17_col5\" class=\"data row17 col5\" >3.05</td>\n",
              "            </tr>\n",
              "            <tr>\n",
              "                        <th id=\"T_14fed_level0_row18\" class=\"row_heading level0 row18\" >other</th>\n",
              "                        <td id=\"T_14fed_row18_col0\" class=\"data row18 col0\" >37.56</td>\n",
              "                        <td id=\"T_14fed_row18_col1\" class=\"data row18 col1\" >0.00</td>\n",
              "                        <td id=\"T_14fed_row18_col2\" class=\"data row18 col2\" >133.63</td>\n",
              "                        <td id=\"T_14fed_row18_col3\" class=\"data row18 col3\" >0.00</td>\n",
              "                        <td id=\"T_14fed_row18_col4\" class=\"data row18 col4\" >0.45</td>\n",
              "                        <td id=\"T_14fed_row18_col5\" class=\"data row18 col5\" >0.00</td>\n",
              "            </tr>\n",
              "            <tr>\n",
              "                        <th id=\"T_14fed_level0_row19\" class=\"row_heading level0 row19\" >undefined</th>\n",
              "                        <td id=\"T_14fed_row19_col0\" class=\"data row19 col0\" >54.69</td>\n",
              "                        <td id=\"T_14fed_row19_col1\" class=\"data row19 col1\" >0.00</td>\n",
              "                        <td id=\"T_14fed_row19_col2\" class=\"data row19 col2\" >74.06</td>\n",
              "                        <td id=\"T_14fed_row19_col3\" class=\"data row19 col3\" >0.00</td>\n",
              "                        <td id=\"T_14fed_row19_col4\" class=\"data row19 col4\" >0.17</td>\n",
              "                        <td id=\"T_14fed_row19_col5\" class=\"data row19 col5\" >0.00</td>\n",
              "            </tr>\n",
              "    </tbody></table>"
            ],
            "text/plain": [
              "<pandas.io.formats.style.Styler at 0x16e067b8d30>"
            ]
          },
          "metadata": {
            "tags": []
          },
          "execution_count": 57
        }
      ]
    },
    {
      "cell_type": "markdown",
      "metadata": {
        "id": "5c6e3c4b"
      },
      "source": [
        "### Questions?"
      ],
      "id": "5c6e3c4b"
    },
    {
      "cell_type": "markdown",
      "metadata": {
        "id": "a1c74daa"
      },
      "source": [
        "### Thank you very much!"
      ],
      "id": "a1c74daa"
    }
  ]
}