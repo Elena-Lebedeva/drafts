{
  "nbformat": 4,
  "nbformat_minor": 0,
  "metadata": {
    "colab": {
      "name": "TIPS.ipynb",
      "provenance": [],
      "mount_file_id": "1gfD0y513r3pNUxbF_2TppXhWrJH1R5gP",
      "authorship_tag": "ABX9TyMcNxQeP2gDRjhd/Vbq6an0"
    },
    "kernelspec": {
      "name": "python3",
      "display_name": "Python 3"
    },
    "language_info": {
      "name": "python"
    }
  },
  "cells": [
    {
      "cell_type": "code",
      "metadata": {
        "id": "GW1IHqCe8q5L"
      },
      "source": [
        "Чтобы посмотреть статистику по нечисловым признакам, нужно явно указать интересующие нас типы в параметре include.\n",
        "\n",
        "\n",
        "df.describe(include=['object', 'bool'])import pandas as pd\n",
        "import numpy as np"
      ],
      "execution_count": null,
      "outputs": []
    },
    {
      "cell_type": "code",
      "metadata": {
        "colab": {
          "base_uri": "https://localhost:8080/",
          "height": 203
        },
        "id": "V1Ww55rYwWFj",
        "outputId": "6187de9d-433e-4116-dd01-e9108320d968"
      },
      "source": [
        "df = pd.read_csv('https://code.s3.yandex.net/datasets/data.csv') # how to open a data file in colab if you have a link\n",
        "df.head()"
      ],
      "execution_count": null,
      "outputs": [
        {
          "output_type": "execute_result",
          "data": {
            "text/html": [
              "<div>\n",
              "<style scoped>\n",
              "    .dataframe tbody tr th:only-of-type {\n",
              "        vertical-align: middle;\n",
              "    }\n",
              "\n",
              "    .dataframe tbody tr th {\n",
              "        vertical-align: top;\n",
              "    }\n",
              "\n",
              "    .dataframe thead th {\n",
              "        text-align: right;\n",
              "    }\n",
              "</style>\n",
              "<table border=\"1\" class=\"dataframe\">\n",
              "  <thead>\n",
              "    <tr style=\"text-align: right;\">\n",
              "      <th></th>\n",
              "      <th>children</th>\n",
              "      <th>days_employed</th>\n",
              "      <th>dob_years</th>\n",
              "      <th>education</th>\n",
              "      <th>education_id</th>\n",
              "      <th>family_status</th>\n",
              "      <th>family_status_id</th>\n",
              "      <th>gender</th>\n",
              "      <th>income_type</th>\n",
              "      <th>debt</th>\n",
              "      <th>total_income</th>\n",
              "      <th>purpose</th>\n",
              "    </tr>\n",
              "  </thead>\n",
              "  <tbody>\n",
              "    <tr>\n",
              "      <th>0</th>\n",
              "      <td>1</td>\n",
              "      <td>-8437.673028</td>\n",
              "      <td>42</td>\n",
              "      <td>высшее</td>\n",
              "      <td>0</td>\n",
              "      <td>женат / замужем</td>\n",
              "      <td>0</td>\n",
              "      <td>F</td>\n",
              "      <td>сотрудник</td>\n",
              "      <td>0</td>\n",
              "      <td>253875.639453</td>\n",
              "      <td>покупка жилья</td>\n",
              "    </tr>\n",
              "    <tr>\n",
              "      <th>1</th>\n",
              "      <td>1</td>\n",
              "      <td>-4024.803754</td>\n",
              "      <td>36</td>\n",
              "      <td>среднее</td>\n",
              "      <td>1</td>\n",
              "      <td>женат / замужем</td>\n",
              "      <td>0</td>\n",
              "      <td>F</td>\n",
              "      <td>сотрудник</td>\n",
              "      <td>0</td>\n",
              "      <td>112080.014102</td>\n",
              "      <td>приобретение автомобиля</td>\n",
              "    </tr>\n",
              "    <tr>\n",
              "      <th>2</th>\n",
              "      <td>0</td>\n",
              "      <td>-5623.422610</td>\n",
              "      <td>33</td>\n",
              "      <td>Среднее</td>\n",
              "      <td>1</td>\n",
              "      <td>женат / замужем</td>\n",
              "      <td>0</td>\n",
              "      <td>M</td>\n",
              "      <td>сотрудник</td>\n",
              "      <td>0</td>\n",
              "      <td>145885.952297</td>\n",
              "      <td>покупка жилья</td>\n",
              "    </tr>\n",
              "    <tr>\n",
              "      <th>3</th>\n",
              "      <td>3</td>\n",
              "      <td>-4124.747207</td>\n",
              "      <td>32</td>\n",
              "      <td>среднее</td>\n",
              "      <td>1</td>\n",
              "      <td>женат / замужем</td>\n",
              "      <td>0</td>\n",
              "      <td>M</td>\n",
              "      <td>сотрудник</td>\n",
              "      <td>0</td>\n",
              "      <td>267628.550329</td>\n",
              "      <td>дополнительное образование</td>\n",
              "    </tr>\n",
              "    <tr>\n",
              "      <th>4</th>\n",
              "      <td>0</td>\n",
              "      <td>340266.072047</td>\n",
              "      <td>53</td>\n",
              "      <td>среднее</td>\n",
              "      <td>1</td>\n",
              "      <td>гражданский брак</td>\n",
              "      <td>1</td>\n",
              "      <td>F</td>\n",
              "      <td>пенсионер</td>\n",
              "      <td>0</td>\n",
              "      <td>158616.077870</td>\n",
              "      <td>сыграть свадьбу</td>\n",
              "    </tr>\n",
              "  </tbody>\n",
              "</table>\n",
              "</div>"
            ],
            "text/plain": [
              "   children  days_employed  ...   total_income                     purpose\n",
              "0         1   -8437.673028  ...  253875.639453               покупка жилья\n",
              "1         1   -4024.803754  ...  112080.014102     приобретение автомобиля\n",
              "2         0   -5623.422610  ...  145885.952297               покупка жилья\n",
              "3         3   -4124.747207  ...  267628.550329  дополнительное образование\n",
              "4         0  340266.072047  ...  158616.077870             сыграть свадьбу\n",
              "\n",
              "[5 rows x 12 columns]"
            ]
          },
          "metadata": {},
          "execution_count": 40
        }
      ]
    },
    {
      "cell_type": "code",
      "metadata": {
        "id": "seTrQofgVLdo"
      },
      "source": [
        "try: \n",
        "    df = pd.read_csv('rest_data.csv') # \n",
        "\n",
        "except FileNotFoundError:\n",
        "    df = pd.read_csv('/datasets/rest_data.csv' ) #яндексовский путь"
      ],
      "execution_count": null,
      "outputs": []
    },
    {
      "cell_type": "code",
      "metadata": {
        "colab": {
          "base_uri": "https://localhost:8080/"
        },
        "id": "XTmTXrmlww49",
        "outputId": "2502ac95-d34f-4000-d7ea-6e66172bc273"
      },
      "source": [
        "# if a data file is in my Drive\n",
        "# left Colab menu - Files - Mount Drive\n",
        "! ls '/content/drive/My Drive/Colab/' # list all the files in the selected folder"
      ],
      "execution_count": null,
      "outputs": [
        {
          "output_type": "stream",
          "name": "stdout",
          "text": [
            "'A B_testing.ipynb'\n",
            " Automation.ipynb\n",
            "'BA - Assigment 2.xlsx'\n",
            "'Business Analyst Assignment - 1.pdf'\n",
            " codewars_my_katas.ipynb\n",
            "'Copy of bank-data-crash-course.csv'\n",
            "'Copy of da_25_10.ipynb'\n",
            " games.csv\n",
            " Gleb02_da23-scoring.ipynb\n",
            " Gleb_da23-abtest-2.ipynb\n",
            " Gleb_da23_crash_course.ipynb\n",
            " Gleb_da23_probability.ipynb\n",
            " Gleb_da23_real_estate_predict.ipynb\n",
            " Gleb_how-to-make-reports-rus.ipynb\n",
            " Gleb_joins_manual.ipynb\n",
            "'Gleb- \"time-zone-testcase.ipynb\"'\n",
            " gym_churn.csv\n",
            " matplotlib_webinar.ipynb\n",
            " mosgaz-streets.csv\n",
            " mosgaz-streets.gsheet\n",
            " my_project1.ipynb\n",
            " my_project2.ipynb\n",
            " my_project_3.ipynb\n",
            " my_project_4.ipynb\n",
            " my_project_5.ipynb\n",
            " Netquest_Assignment_Elena_Lebedeva.ipynb\n",
            " Netquest_SQL_Exercise1.gdoc\n",
            "'Python notes.gdoc'\n",
            " sprint13_forecasts.ipynb\n",
            " sprint3_yandex_notes.ipynb\n",
            " sprint4_yandex_notes.ipynb\n",
            " sprint5_SQL_RegEx.ipynb\n",
            " Sprint6.ipynb\n",
            " SQL_electiv_Sushkov.ipynb\n",
            " SQL_notes.ipynb\n",
            " statistics_parametric_tests.ipynb\n",
            " StoryTelling_sprint9.ipynb\n",
            " TIPS.ipynb\n",
            " Treatwell_Elena_Lebedeva.ipynb\n",
            "'Исследование рынка общественного питания в Москве.gslides'\n",
            "'Исследование рынка общественного питания в Москве.pdf'\n",
            " Яндекс.Дзен.gslides\n",
            " Яндекс.Дзен.pdf\n"
          ]
        }
      ]
    },
    {
      "cell_type": "code",
      "metadata": {
        "id": "JwIh7eAL0cG7"
      },
      "source": [
        "t = pd.read_csv('/content/drive/MyDrive/Colab/mosgaz-streets.csv') # copy path on the left can be used also"
      ],
      "execution_count": null,
      "outputs": []
    },
    {
      "cell_type": "code",
      "metadata": {
        "colab": {
          "base_uri": "https://localhost:8080/",
          "height": 203
        },
        "id": "7bookG3l0nQy",
        "outputId": "aa310b53-5925-425f-e400-e87e7d6234f3"
      },
      "source": [
        "t.head()"
      ],
      "execution_count": null,
      "outputs": [
        {
          "output_type": "execute_result",
          "data": {
            "text/html": [
              "<div>\n",
              "<style scoped>\n",
              "    .dataframe tbody tr th:only-of-type {\n",
              "        vertical-align: middle;\n",
              "    }\n",
              "\n",
              "    .dataframe tbody tr th {\n",
              "        vertical-align: top;\n",
              "    }\n",
              "\n",
              "    .dataframe thead th {\n",
              "        text-align: right;\n",
              "    }\n",
              "</style>\n",
              "<table border=\"1\" class=\"dataframe\">\n",
              "  <thead>\n",
              "    <tr style=\"text-align: right;\">\n",
              "      <th></th>\n",
              "      <th>streetname</th>\n",
              "      <th>areaid</th>\n",
              "      <th>okrug</th>\n",
              "      <th>area</th>\n",
              "    </tr>\n",
              "  </thead>\n",
              "  <tbody>\n",
              "    <tr>\n",
              "      <th>0</th>\n",
              "      <td>Выставочный переулок</td>\n",
              "      <td>17</td>\n",
              "      <td>ЦАО</td>\n",
              "      <td>Пресненский район</td>\n",
              "    </tr>\n",
              "    <tr>\n",
              "      <th>1</th>\n",
              "      <td>улица Гашека</td>\n",
              "      <td>17</td>\n",
              "      <td>ЦАО</td>\n",
              "      <td>Пресненский район</td>\n",
              "    </tr>\n",
              "    <tr>\n",
              "      <th>2</th>\n",
              "      <td>Большая Никитская улица</td>\n",
              "      <td>17</td>\n",
              "      <td>ЦАО</td>\n",
              "      <td>Пресненский район</td>\n",
              "    </tr>\n",
              "    <tr>\n",
              "      <th>3</th>\n",
              "      <td>Глубокий переулок</td>\n",
              "      <td>17</td>\n",
              "      <td>ЦАО</td>\n",
              "      <td>Пресненский район</td>\n",
              "    </tr>\n",
              "    <tr>\n",
              "      <th>4</th>\n",
              "      <td>Большой Гнездниковский переулок</td>\n",
              "      <td>17</td>\n",
              "      <td>ЦАО</td>\n",
              "      <td>Пресненский район</td>\n",
              "    </tr>\n",
              "  </tbody>\n",
              "</table>\n",
              "</div>"
            ],
            "text/plain": [
              "                        streetname  areaid okrug               area\n",
              "0             Выставочный переулок      17   ЦАО  Пресненский район\n",
              "1                     улица Гашека      17   ЦАО  Пресненский район\n",
              "2          Большая Никитская улица      17   ЦАО  Пресненский район\n",
              "3                Глубокий переулок      17   ЦАО  Пресненский район\n",
              "4  Большой Гнездниковский переулок      17   ЦАО  Пресненский район"
            ]
          },
          "metadata": {},
          "execution_count": 16
        }
      ]
    },
    {
      "cell_type": "code",
      "metadata": {
        "id": "oC9TzRuy1HRT"
      },
      "source": [
        "# if you want to share data file, the most convenient will be go to the file and share it (anyone with the link)\n",
        "# extract id from the path"
      ],
      "execution_count": null,
      "outputs": []
    },
    {
      "cell_type": "code",
      "metadata": {
        "id": "wRe-Pr4U4tG7"
      },
      "source": [
        "# https://drive.google.com/file/d/1xwK1ILtyVgdELAqj2y0YrPTp4pJMHOiy/view?usp=sharing"
      ],
      "execution_count": null,
      "outputs": []
    },
    {
      "cell_type": "code",
      "metadata": {
        "colab": {
          "base_uri": "https://localhost:8080/"
        },
        "id": "75Kk9KoY4ugy",
        "outputId": "7c63f756-0573-416f-8d0b-ed2f41abc244"
      },
      "source": [
        "! gdown --id 1xwK1ILtyVgdELAqj2y0YrPTp4pJMHOiy"
      ],
      "execution_count": null,
      "outputs": [
        {
          "output_type": "stream",
          "name": "stdout",
          "text": [
            "Downloading...\n",
            "From: https://drive.google.com/uc?id=1xwK1ILtyVgdELAqj2y0YrPTp4pJMHOiy\n",
            "To: /content/gym_churn.csv\n",
            "\r  0% 0.00/322k [00:00<?, ?B/s]\r100% 322k/322k [00:00<00:00, 47.4MB/s]\n"
          ]
        }
      ]
    },
    {
      "cell_type": "code",
      "metadata": {
        "id": "p0iaJ5s65oG0"
      },
      "source": [
        "df1 = pd.read_csv('https://drive.google.com/uc?id=1xwK1ILtyVgdELAqj2y0YrPTp4pJMHOiy') # and the complete link"
      ],
      "execution_count": null,
      "outputs": []
    },
    {
      "cell_type": "code",
      "metadata": {
        "colab": {
          "base_uri": "https://localhost:8080/",
          "height": 437
        },
        "id": "1Nn760eL53HK",
        "outputId": "beffd705-acc7-47b1-e590-ef74a2342c23"
      },
      "source": [
        "df1"
      ],
      "execution_count": null,
      "outputs": [
        {
          "output_type": "execute_result",
          "data": {
            "text/html": [
              "<div>\n",
              "<style scoped>\n",
              "    .dataframe tbody tr th:only-of-type {\n",
              "        vertical-align: middle;\n",
              "    }\n",
              "\n",
              "    .dataframe tbody tr th {\n",
              "        vertical-align: top;\n",
              "    }\n",
              "\n",
              "    .dataframe thead th {\n",
              "        text-align: right;\n",
              "    }\n",
              "</style>\n",
              "<table border=\"1\" class=\"dataframe\">\n",
              "  <thead>\n",
              "    <tr style=\"text-align: right;\">\n",
              "      <th></th>\n",
              "      <th>gender</th>\n",
              "      <th>Near_Location</th>\n",
              "      <th>Partner</th>\n",
              "      <th>Promo_friends</th>\n",
              "      <th>Phone</th>\n",
              "      <th>Contract_period</th>\n",
              "      <th>Group_visits</th>\n",
              "      <th>Age</th>\n",
              "      <th>Avg_additional_charges_total</th>\n",
              "      <th>Month_to_end_contract</th>\n",
              "      <th>Lifetime</th>\n",
              "      <th>Avg_class_frequency_total</th>\n",
              "      <th>Avg_class_frequency_current_month</th>\n",
              "      <th>Churn</th>\n",
              "    </tr>\n",
              "  </thead>\n",
              "  <tbody>\n",
              "    <tr>\n",
              "      <th>0</th>\n",
              "      <td>1</td>\n",
              "      <td>1</td>\n",
              "      <td>1</td>\n",
              "      <td>1</td>\n",
              "      <td>0</td>\n",
              "      <td>6</td>\n",
              "      <td>1</td>\n",
              "      <td>29</td>\n",
              "      <td>14.227470</td>\n",
              "      <td>5.0</td>\n",
              "      <td>3</td>\n",
              "      <td>0.020398</td>\n",
              "      <td>0.000000</td>\n",
              "      <td>0</td>\n",
              "    </tr>\n",
              "    <tr>\n",
              "      <th>1</th>\n",
              "      <td>0</td>\n",
              "      <td>1</td>\n",
              "      <td>0</td>\n",
              "      <td>0</td>\n",
              "      <td>1</td>\n",
              "      <td>12</td>\n",
              "      <td>1</td>\n",
              "      <td>31</td>\n",
              "      <td>113.202938</td>\n",
              "      <td>12.0</td>\n",
              "      <td>7</td>\n",
              "      <td>1.922936</td>\n",
              "      <td>1.910244</td>\n",
              "      <td>0</td>\n",
              "    </tr>\n",
              "    <tr>\n",
              "      <th>2</th>\n",
              "      <td>0</td>\n",
              "      <td>1</td>\n",
              "      <td>1</td>\n",
              "      <td>0</td>\n",
              "      <td>1</td>\n",
              "      <td>1</td>\n",
              "      <td>0</td>\n",
              "      <td>28</td>\n",
              "      <td>129.448479</td>\n",
              "      <td>1.0</td>\n",
              "      <td>2</td>\n",
              "      <td>1.859098</td>\n",
              "      <td>1.736502</td>\n",
              "      <td>0</td>\n",
              "    </tr>\n",
              "    <tr>\n",
              "      <th>3</th>\n",
              "      <td>0</td>\n",
              "      <td>1</td>\n",
              "      <td>1</td>\n",
              "      <td>1</td>\n",
              "      <td>1</td>\n",
              "      <td>12</td>\n",
              "      <td>1</td>\n",
              "      <td>33</td>\n",
              "      <td>62.669863</td>\n",
              "      <td>12.0</td>\n",
              "      <td>2</td>\n",
              "      <td>3.205633</td>\n",
              "      <td>3.357215</td>\n",
              "      <td>0</td>\n",
              "    </tr>\n",
              "    <tr>\n",
              "      <th>4</th>\n",
              "      <td>1</td>\n",
              "      <td>1</td>\n",
              "      <td>1</td>\n",
              "      <td>1</td>\n",
              "      <td>1</td>\n",
              "      <td>1</td>\n",
              "      <td>0</td>\n",
              "      <td>26</td>\n",
              "      <td>198.362265</td>\n",
              "      <td>1.0</td>\n",
              "      <td>3</td>\n",
              "      <td>1.113884</td>\n",
              "      <td>1.120078</td>\n",
              "      <td>0</td>\n",
              "    </tr>\n",
              "    <tr>\n",
              "      <th>...</th>\n",
              "      <td>...</td>\n",
              "      <td>...</td>\n",
              "      <td>...</td>\n",
              "      <td>...</td>\n",
              "      <td>...</td>\n",
              "      <td>...</td>\n",
              "      <td>...</td>\n",
              "      <td>...</td>\n",
              "      <td>...</td>\n",
              "      <td>...</td>\n",
              "      <td>...</td>\n",
              "      <td>...</td>\n",
              "      <td>...</td>\n",
              "      <td>...</td>\n",
              "    </tr>\n",
              "    <tr>\n",
              "      <th>3995</th>\n",
              "      <td>1</td>\n",
              "      <td>1</td>\n",
              "      <td>1</td>\n",
              "      <td>0</td>\n",
              "      <td>1</td>\n",
              "      <td>12</td>\n",
              "      <td>0</td>\n",
              "      <td>33</td>\n",
              "      <td>2.406023</td>\n",
              "      <td>12.0</td>\n",
              "      <td>8</td>\n",
              "      <td>2.284497</td>\n",
              "      <td>2.349070</td>\n",
              "      <td>0</td>\n",
              "    </tr>\n",
              "    <tr>\n",
              "      <th>3996</th>\n",
              "      <td>0</td>\n",
              "      <td>1</td>\n",
              "      <td>0</td>\n",
              "      <td>0</td>\n",
              "      <td>1</td>\n",
              "      <td>1</td>\n",
              "      <td>1</td>\n",
              "      <td>29</td>\n",
              "      <td>68.883764</td>\n",
              "      <td>1.0</td>\n",
              "      <td>1</td>\n",
              "      <td>1.277168</td>\n",
              "      <td>0.292859</td>\n",
              "      <td>1</td>\n",
              "    </tr>\n",
              "    <tr>\n",
              "      <th>3997</th>\n",
              "      <td>1</td>\n",
              "      <td>1</td>\n",
              "      <td>1</td>\n",
              "      <td>1</td>\n",
              "      <td>1</td>\n",
              "      <td>12</td>\n",
              "      <td>0</td>\n",
              "      <td>28</td>\n",
              "      <td>78.250542</td>\n",
              "      <td>11.0</td>\n",
              "      <td>2</td>\n",
              "      <td>2.786146</td>\n",
              "      <td>2.831439</td>\n",
              "      <td>0</td>\n",
              "    </tr>\n",
              "    <tr>\n",
              "      <th>3998</th>\n",
              "      <td>0</td>\n",
              "      <td>1</td>\n",
              "      <td>1</td>\n",
              "      <td>1</td>\n",
              "      <td>1</td>\n",
              "      <td>6</td>\n",
              "      <td>0</td>\n",
              "      <td>32</td>\n",
              "      <td>61.912657</td>\n",
              "      <td>5.0</td>\n",
              "      <td>3</td>\n",
              "      <td>1.630108</td>\n",
              "      <td>1.596237</td>\n",
              "      <td>0</td>\n",
              "    </tr>\n",
              "    <tr>\n",
              "      <th>3999</th>\n",
              "      <td>1</td>\n",
              "      <td>0</td>\n",
              "      <td>1</td>\n",
              "      <td>0</td>\n",
              "      <td>0</td>\n",
              "      <td>12</td>\n",
              "      <td>1</td>\n",
              "      <td>30</td>\n",
              "      <td>178.861814</td>\n",
              "      <td>12.0</td>\n",
              "      <td>1</td>\n",
              "      <td>1.101832</td>\n",
              "      <td>1.035270</td>\n",
              "      <td>0</td>\n",
              "    </tr>\n",
              "  </tbody>\n",
              "</table>\n",
              "<p>4000 rows × 14 columns</p>\n",
              "</div>"
            ],
            "text/plain": [
              "      gender  Near_Location  ...  Avg_class_frequency_current_month  Churn\n",
              "0          1              1  ...                           0.000000      0\n",
              "1          0              1  ...                           1.910244      0\n",
              "2          0              1  ...                           1.736502      0\n",
              "3          0              1  ...                           3.357215      0\n",
              "4          1              1  ...                           1.120078      0\n",
              "...      ...            ...  ...                                ...    ...\n",
              "3995       1              1  ...                           2.349070      0\n",
              "3996       0              1  ...                           0.292859      1\n",
              "3997       1              1  ...                           2.831439      0\n",
              "3998       0              1  ...                           1.596237      0\n",
              "3999       1              0  ...                           1.035270      0\n",
              "\n",
              "[4000 rows x 14 columns]"
            ]
          },
          "metadata": {},
          "execution_count": 33
        }
      ]
    },
    {
      "cell_type": "code",
      "metadata": {
        "colab": {
          "base_uri": "https://localhost:8080/",
          "height": 223
        },
        "id": "vgm0ErCp6_hL",
        "outputId": "a0360cf4-2840-431d-a15f-40e5e06c28ec"
      },
      "source": [
        "df1.head()"
      ],
      "execution_count": null,
      "outputs": [
        {
          "output_type": "execute_result",
          "data": {
            "text/html": [
              "<div>\n",
              "<style scoped>\n",
              "    .dataframe tbody tr th:only-of-type {\n",
              "        vertical-align: middle;\n",
              "    }\n",
              "\n",
              "    .dataframe tbody tr th {\n",
              "        vertical-align: top;\n",
              "    }\n",
              "\n",
              "    .dataframe thead th {\n",
              "        text-align: right;\n",
              "    }\n",
              "</style>\n",
              "<table border=\"1\" class=\"dataframe\">\n",
              "  <thead>\n",
              "    <tr style=\"text-align: right;\">\n",
              "      <th></th>\n",
              "      <th>gender</th>\n",
              "      <th>Near_Location</th>\n",
              "      <th>Partner</th>\n",
              "      <th>Promo_friends</th>\n",
              "      <th>Phone</th>\n",
              "      <th>Contract_period</th>\n",
              "      <th>Group_visits</th>\n",
              "      <th>Age</th>\n",
              "      <th>Avg_additional_charges_total</th>\n",
              "      <th>Month_to_end_contract</th>\n",
              "      <th>Lifetime</th>\n",
              "      <th>Avg_class_frequency_total</th>\n",
              "      <th>Avg_class_frequency_current_month</th>\n",
              "      <th>Churn</th>\n",
              "    </tr>\n",
              "  </thead>\n",
              "  <tbody>\n",
              "    <tr>\n",
              "      <th>0</th>\n",
              "      <td>1</td>\n",
              "      <td>1</td>\n",
              "      <td>1</td>\n",
              "      <td>1</td>\n",
              "      <td>0</td>\n",
              "      <td>6</td>\n",
              "      <td>1</td>\n",
              "      <td>29</td>\n",
              "      <td>14.227470</td>\n",
              "      <td>5.0</td>\n",
              "      <td>3</td>\n",
              "      <td>0.020398</td>\n",
              "      <td>0.000000</td>\n",
              "      <td>0</td>\n",
              "    </tr>\n",
              "    <tr>\n",
              "      <th>1</th>\n",
              "      <td>0</td>\n",
              "      <td>1</td>\n",
              "      <td>0</td>\n",
              "      <td>0</td>\n",
              "      <td>1</td>\n",
              "      <td>12</td>\n",
              "      <td>1</td>\n",
              "      <td>31</td>\n",
              "      <td>113.202938</td>\n",
              "      <td>12.0</td>\n",
              "      <td>7</td>\n",
              "      <td>1.922936</td>\n",
              "      <td>1.910244</td>\n",
              "      <td>0</td>\n",
              "    </tr>\n",
              "    <tr>\n",
              "      <th>2</th>\n",
              "      <td>0</td>\n",
              "      <td>1</td>\n",
              "      <td>1</td>\n",
              "      <td>0</td>\n",
              "      <td>1</td>\n",
              "      <td>1</td>\n",
              "      <td>0</td>\n",
              "      <td>28</td>\n",
              "      <td>129.448479</td>\n",
              "      <td>1.0</td>\n",
              "      <td>2</td>\n",
              "      <td>1.859098</td>\n",
              "      <td>1.736502</td>\n",
              "      <td>0</td>\n",
              "    </tr>\n",
              "    <tr>\n",
              "      <th>3</th>\n",
              "      <td>0</td>\n",
              "      <td>1</td>\n",
              "      <td>1</td>\n",
              "      <td>1</td>\n",
              "      <td>1</td>\n",
              "      <td>12</td>\n",
              "      <td>1</td>\n",
              "      <td>33</td>\n",
              "      <td>62.669863</td>\n",
              "      <td>12.0</td>\n",
              "      <td>2</td>\n",
              "      <td>3.205633</td>\n",
              "      <td>3.357215</td>\n",
              "      <td>0</td>\n",
              "    </tr>\n",
              "    <tr>\n",
              "      <th>4</th>\n",
              "      <td>1</td>\n",
              "      <td>1</td>\n",
              "      <td>1</td>\n",
              "      <td>1</td>\n",
              "      <td>1</td>\n",
              "      <td>1</td>\n",
              "      <td>0</td>\n",
              "      <td>26</td>\n",
              "      <td>198.362265</td>\n",
              "      <td>1.0</td>\n",
              "      <td>3</td>\n",
              "      <td>1.113884</td>\n",
              "      <td>1.120078</td>\n",
              "      <td>0</td>\n",
              "    </tr>\n",
              "  </tbody>\n",
              "</table>\n",
              "</div>"
            ],
            "text/plain": [
              "   gender  Near_Location  ...  Avg_class_frequency_current_month  Churn\n",
              "0       1              1  ...                           0.000000      0\n",
              "1       0              1  ...                           1.910244      0\n",
              "2       0              1  ...                           1.736502      0\n",
              "3       0              1  ...                           3.357215      0\n",
              "4       1              1  ...                           1.120078      0\n",
              "\n",
              "[5 rows x 14 columns]"
            ]
          },
          "metadata": {},
          "execution_count": 34
        }
      ]
    },
    {
      "cell_type": "code",
      "metadata": {
        "colab": {
          "base_uri": "https://localhost:8080/"
        },
        "id": "ASyiH4vH7BqD",
        "outputId": "fc378f7a-3774-4379-c8cc-491d655e48db"
      },
      "source": [
        "len(df1)"
      ],
      "execution_count": null,
      "outputs": [
        {
          "output_type": "execute_result",
          "data": {
            "text/plain": [
              "4000"
            ]
          },
          "metadata": {},
          "execution_count": 35
        }
      ]
    },
    {
      "cell_type": "code",
      "metadata": {
        "colab": {
          "base_uri": "https://localhost:8080/",
          "height": 437
        },
        "id": "ihwYtCDS7ZJK",
        "outputId": "93da252a-6195-442f-f13c-8b2422081b0a"
      },
      "source": [
        "df1.sort_values(['Avg_additional_charges_total','Lifetime'],ascending=False) # sort_values"
      ],
      "execution_count": null,
      "outputs": [
        {
          "output_type": "execute_result",
          "data": {
            "text/html": [
              "<div>\n",
              "<style scoped>\n",
              "    .dataframe tbody tr th:only-of-type {\n",
              "        vertical-align: middle;\n",
              "    }\n",
              "\n",
              "    .dataframe tbody tr th {\n",
              "        vertical-align: top;\n",
              "    }\n",
              "\n",
              "    .dataframe thead th {\n",
              "        text-align: right;\n",
              "    }\n",
              "</style>\n",
              "<table border=\"1\" class=\"dataframe\">\n",
              "  <thead>\n",
              "    <tr style=\"text-align: right;\">\n",
              "      <th></th>\n",
              "      <th>gender</th>\n",
              "      <th>Near_Location</th>\n",
              "      <th>Partner</th>\n",
              "      <th>Promo_friends</th>\n",
              "      <th>Phone</th>\n",
              "      <th>Contract_period</th>\n",
              "      <th>Group_visits</th>\n",
              "      <th>Age</th>\n",
              "      <th>Avg_additional_charges_total</th>\n",
              "      <th>Month_to_end_contract</th>\n",
              "      <th>Lifetime</th>\n",
              "      <th>Avg_class_frequency_total</th>\n",
              "      <th>Avg_class_frequency_current_month</th>\n",
              "      <th>Churn</th>\n",
              "    </tr>\n",
              "  </thead>\n",
              "  <tbody>\n",
              "    <tr>\n",
              "      <th>975</th>\n",
              "      <td>0</td>\n",
              "      <td>0</td>\n",
              "      <td>1</td>\n",
              "      <td>0</td>\n",
              "      <td>1</td>\n",
              "      <td>12</td>\n",
              "      <td>1</td>\n",
              "      <td>32</td>\n",
              "      <td>552.590740</td>\n",
              "      <td>12.0</td>\n",
              "      <td>1</td>\n",
              "      <td>0.887859</td>\n",
              "      <td>0.939304</td>\n",
              "      <td>0</td>\n",
              "    </tr>\n",
              "    <tr>\n",
              "      <th>3799</th>\n",
              "      <td>1</td>\n",
              "      <td>0</td>\n",
              "      <td>0</td>\n",
              "      <td>0</td>\n",
              "      <td>1</td>\n",
              "      <td>1</td>\n",
              "      <td>1</td>\n",
              "      <td>31</td>\n",
              "      <td>534.256182</td>\n",
              "      <td>1.0</td>\n",
              "      <td>2</td>\n",
              "      <td>2.325128</td>\n",
              "      <td>2.267241</td>\n",
              "      <td>0</td>\n",
              "    </tr>\n",
              "    <tr>\n",
              "      <th>2394</th>\n",
              "      <td>0</td>\n",
              "      <td>0</td>\n",
              "      <td>0</td>\n",
              "      <td>0</td>\n",
              "      <td>1</td>\n",
              "      <td>6</td>\n",
              "      <td>1</td>\n",
              "      <td>32</td>\n",
              "      <td>515.392606</td>\n",
              "      <td>6.0</td>\n",
              "      <td>4</td>\n",
              "      <td>0.000000</td>\n",
              "      <td>0.000000</td>\n",
              "      <td>0</td>\n",
              "    </tr>\n",
              "    <tr>\n",
              "      <th>1797</th>\n",
              "      <td>0</td>\n",
              "      <td>1</td>\n",
              "      <td>1</td>\n",
              "      <td>0</td>\n",
              "      <td>0</td>\n",
              "      <td>1</td>\n",
              "      <td>0</td>\n",
              "      <td>27</td>\n",
              "      <td>496.172222</td>\n",
              "      <td>1.0</td>\n",
              "      <td>6</td>\n",
              "      <td>1.630830</td>\n",
              "      <td>1.620165</td>\n",
              "      <td>0</td>\n",
              "    </tr>\n",
              "    <tr>\n",
              "      <th>2063</th>\n",
              "      <td>0</td>\n",
              "      <td>1</td>\n",
              "      <td>1</td>\n",
              "      <td>0</td>\n",
              "      <td>1</td>\n",
              "      <td>12</td>\n",
              "      <td>0</td>\n",
              "      <td>32</td>\n",
              "      <td>488.708175</td>\n",
              "      <td>12.0</td>\n",
              "      <td>2</td>\n",
              "      <td>1.073821</td>\n",
              "      <td>1.065885</td>\n",
              "      <td>0</td>\n",
              "    </tr>\n",
              "    <tr>\n",
              "      <th>...</th>\n",
              "      <td>...</td>\n",
              "      <td>...</td>\n",
              "      <td>...</td>\n",
              "      <td>...</td>\n",
              "      <td>...</td>\n",
              "      <td>...</td>\n",
              "      <td>...</td>\n",
              "      <td>...</td>\n",
              "      <td>...</td>\n",
              "      <td>...</td>\n",
              "      <td>...</td>\n",
              "      <td>...</td>\n",
              "      <td>...</td>\n",
              "      <td>...</td>\n",
              "    </tr>\n",
              "    <tr>\n",
              "      <th>3706</th>\n",
              "      <td>1</td>\n",
              "      <td>1</td>\n",
              "      <td>1</td>\n",
              "      <td>1</td>\n",
              "      <td>1</td>\n",
              "      <td>1</td>\n",
              "      <td>0</td>\n",
              "      <td>29</td>\n",
              "      <td>0.362153</td>\n",
              "      <td>1.0</td>\n",
              "      <td>3</td>\n",
              "      <td>2.994457</td>\n",
              "      <td>2.810134</td>\n",
              "      <td>0</td>\n",
              "    </tr>\n",
              "    <tr>\n",
              "      <th>1508</th>\n",
              "      <td>0</td>\n",
              "      <td>1</td>\n",
              "      <td>0</td>\n",
              "      <td>0</td>\n",
              "      <td>1</td>\n",
              "      <td>1</td>\n",
              "      <td>0</td>\n",
              "      <td>25</td>\n",
              "      <td>0.334824</td>\n",
              "      <td>1.0</td>\n",
              "      <td>0</td>\n",
              "      <td>0.735515</td>\n",
              "      <td>0.000000</td>\n",
              "      <td>1</td>\n",
              "    </tr>\n",
              "    <tr>\n",
              "      <th>3130</th>\n",
              "      <td>1</td>\n",
              "      <td>1</td>\n",
              "      <td>0</td>\n",
              "      <td>1</td>\n",
              "      <td>1</td>\n",
              "      <td>12</td>\n",
              "      <td>0</td>\n",
              "      <td>29</td>\n",
              "      <td>0.251606</td>\n",
              "      <td>12.0</td>\n",
              "      <td>7</td>\n",
              "      <td>1.304149</td>\n",
              "      <td>1.226058</td>\n",
              "      <td>0</td>\n",
              "    </tr>\n",
              "    <tr>\n",
              "      <th>3494</th>\n",
              "      <td>0</td>\n",
              "      <td>1</td>\n",
              "      <td>0</td>\n",
              "      <td>0</td>\n",
              "      <td>1</td>\n",
              "      <td>1</td>\n",
              "      <td>1</td>\n",
              "      <td>29</td>\n",
              "      <td>0.171862</td>\n",
              "      <td>1.0</td>\n",
              "      <td>1</td>\n",
              "      <td>2.000838</td>\n",
              "      <td>1.831822</td>\n",
              "      <td>0</td>\n",
              "    </tr>\n",
              "    <tr>\n",
              "      <th>2183</th>\n",
              "      <td>1</td>\n",
              "      <td>1</td>\n",
              "      <td>1</td>\n",
              "      <td>1</td>\n",
              "      <td>1</td>\n",
              "      <td>6</td>\n",
              "      <td>1</td>\n",
              "      <td>27</td>\n",
              "      <td>0.148205</td>\n",
              "      <td>6.0</td>\n",
              "      <td>0</td>\n",
              "      <td>0.260201</td>\n",
              "      <td>0.000000</td>\n",
              "      <td>1</td>\n",
              "    </tr>\n",
              "  </tbody>\n",
              "</table>\n",
              "<p>4000 rows × 14 columns</p>\n",
              "</div>"
            ],
            "text/plain": [
              "      gender  Near_Location  ...  Avg_class_frequency_current_month  Churn\n",
              "975        0              0  ...                           0.939304      0\n",
              "3799       1              0  ...                           2.267241      0\n",
              "2394       0              0  ...                           0.000000      0\n",
              "1797       0              1  ...                           1.620165      0\n",
              "2063       0              1  ...                           1.065885      0\n",
              "...      ...            ...  ...                                ...    ...\n",
              "3706       1              1  ...                           2.810134      0\n",
              "1508       0              1  ...                           0.000000      1\n",
              "3130       1              1  ...                           1.226058      0\n",
              "3494       0              1  ...                           1.831822      0\n",
              "2183       1              1  ...                           0.000000      1\n",
              "\n",
              "[4000 rows x 14 columns]"
            ]
          },
          "metadata": {},
          "execution_count": 36
        }
      ]
    },
    {
      "cell_type": "code",
      "metadata": {
        "colab": {
          "base_uri": "https://localhost:8080/",
          "height": 142
        },
        "id": "0Oia5EQf8lpk",
        "outputId": "df8135d1-b305-4237-ebfb-3cf12963d253"
      },
      "source": [
        "t = pd.DataFrame({'col1':[10,10,20],'col2':['c','b','a']}) # create dataframe\n",
        "t"
      ],
      "execution_count": null,
      "outputs": [
        {
          "output_type": "execute_result",
          "data": {
            "text/html": [
              "<div>\n",
              "<style scoped>\n",
              "    .dataframe tbody tr th:only-of-type {\n",
              "        vertical-align: middle;\n",
              "    }\n",
              "\n",
              "    .dataframe tbody tr th {\n",
              "        vertical-align: top;\n",
              "    }\n",
              "\n",
              "    .dataframe thead th {\n",
              "        text-align: right;\n",
              "    }\n",
              "</style>\n",
              "<table border=\"1\" class=\"dataframe\">\n",
              "  <thead>\n",
              "    <tr style=\"text-align: right;\">\n",
              "      <th></th>\n",
              "      <th>col1</th>\n",
              "      <th>col2</th>\n",
              "    </tr>\n",
              "  </thead>\n",
              "  <tbody>\n",
              "    <tr>\n",
              "      <th>0</th>\n",
              "      <td>10</td>\n",
              "      <td>c</td>\n",
              "    </tr>\n",
              "    <tr>\n",
              "      <th>1</th>\n",
              "      <td>10</td>\n",
              "      <td>b</td>\n",
              "    </tr>\n",
              "    <tr>\n",
              "      <th>2</th>\n",
              "      <td>20</td>\n",
              "      <td>a</td>\n",
              "    </tr>\n",
              "  </tbody>\n",
              "</table>\n",
              "</div>"
            ],
            "text/plain": [
              "   col1 col2\n",
              "0    10    c\n",
              "1    10    b\n",
              "2    20    a"
            ]
          },
          "metadata": {},
          "execution_count": 39
        }
      ]
    },
    {
      "cell_type": "code",
      "metadata": {
        "colab": {
          "base_uri": "https://localhost:8080/",
          "height": 326
        },
        "id": "gQ4f-pYg7Fg7",
        "outputId": "81521e22-4283-4227-f8bc-b1a4e5d71c4b"
      },
      "source": [
        "# groupby\n",
        "df.groupby('children')['debt'].agg(['count','mean']) "
      ],
      "execution_count": null,
      "outputs": [
        {
          "output_type": "execute_result",
          "data": {
            "text/html": [
              "<div>\n",
              "<style scoped>\n",
              "    .dataframe tbody tr th:only-of-type {\n",
              "        vertical-align: middle;\n",
              "    }\n",
              "\n",
              "    .dataframe tbody tr th {\n",
              "        vertical-align: top;\n",
              "    }\n",
              "\n",
              "    .dataframe thead th {\n",
              "        text-align: right;\n",
              "    }\n",
              "</style>\n",
              "<table border=\"1\" class=\"dataframe\">\n",
              "  <thead>\n",
              "    <tr style=\"text-align: right;\">\n",
              "      <th></th>\n",
              "      <th>count</th>\n",
              "      <th>mean</th>\n",
              "    </tr>\n",
              "    <tr>\n",
              "      <th>children</th>\n",
              "      <th></th>\n",
              "      <th></th>\n",
              "    </tr>\n",
              "  </thead>\n",
              "  <tbody>\n",
              "    <tr>\n",
              "      <th>-1</th>\n",
              "      <td>47</td>\n",
              "      <td>0.021277</td>\n",
              "    </tr>\n",
              "    <tr>\n",
              "      <th>0</th>\n",
              "      <td>14149</td>\n",
              "      <td>0.075129</td>\n",
              "    </tr>\n",
              "    <tr>\n",
              "      <th>1</th>\n",
              "      <td>4818</td>\n",
              "      <td>0.092154</td>\n",
              "    </tr>\n",
              "    <tr>\n",
              "      <th>2</th>\n",
              "      <td>2055</td>\n",
              "      <td>0.094404</td>\n",
              "    </tr>\n",
              "    <tr>\n",
              "      <th>3</th>\n",
              "      <td>330</td>\n",
              "      <td>0.081818</td>\n",
              "    </tr>\n",
              "    <tr>\n",
              "      <th>4</th>\n",
              "      <td>41</td>\n",
              "      <td>0.097561</td>\n",
              "    </tr>\n",
              "    <tr>\n",
              "      <th>5</th>\n",
              "      <td>9</td>\n",
              "      <td>0.000000</td>\n",
              "    </tr>\n",
              "    <tr>\n",
              "      <th>20</th>\n",
              "      <td>76</td>\n",
              "      <td>0.105263</td>\n",
              "    </tr>\n",
              "  </tbody>\n",
              "</table>\n",
              "</div>"
            ],
            "text/plain": [
              "          count      mean\n",
              "children                 \n",
              "-1           47  0.021277\n",
              " 0        14149  0.075129\n",
              " 1         4818  0.092154\n",
              " 2         2055  0.094404\n",
              " 3          330  0.081818\n",
              " 4           41  0.097561\n",
              " 5            9  0.000000\n",
              " 20          76  0.105263"
            ]
          },
          "metadata": {},
          "execution_count": 41
        }
      ]
    },
    {
      "cell_type": "code",
      "metadata": {
        "colab": {
          "base_uri": "https://localhost:8080/",
          "height": 357
        },
        "id": "_CqGqERo9qRB",
        "outputId": "2be34969-cf25-4f99-8c52-96b317f1d9b9"
      },
      "source": [
        "t1=df.groupby('children')[['debt','total_income']].agg(['count','mean'])\n",
        "t1"
      ],
      "execution_count": null,
      "outputs": [
        {
          "output_type": "execute_result",
          "data": {
            "text/html": [
              "<div>\n",
              "<style scoped>\n",
              "    .dataframe tbody tr th:only-of-type {\n",
              "        vertical-align: middle;\n",
              "    }\n",
              "\n",
              "    .dataframe tbody tr th {\n",
              "        vertical-align: top;\n",
              "    }\n",
              "\n",
              "    .dataframe thead tr th {\n",
              "        text-align: left;\n",
              "    }\n",
              "\n",
              "    .dataframe thead tr:last-of-type th {\n",
              "        text-align: right;\n",
              "    }\n",
              "</style>\n",
              "<table border=\"1\" class=\"dataframe\">\n",
              "  <thead>\n",
              "    <tr>\n",
              "      <th></th>\n",
              "      <th colspan=\"2\" halign=\"left\">debt</th>\n",
              "      <th colspan=\"2\" halign=\"left\">total_income</th>\n",
              "    </tr>\n",
              "    <tr>\n",
              "      <th></th>\n",
              "      <th>count</th>\n",
              "      <th>mean</th>\n",
              "      <th>count</th>\n",
              "      <th>mean</th>\n",
              "    </tr>\n",
              "    <tr>\n",
              "      <th>children</th>\n",
              "      <th></th>\n",
              "      <th></th>\n",
              "      <th></th>\n",
              "      <th></th>\n",
              "    </tr>\n",
              "  </thead>\n",
              "  <tbody>\n",
              "    <tr>\n",
              "      <th>-1</th>\n",
              "      <td>47</td>\n",
              "      <td>0.021277</td>\n",
              "      <td>44</td>\n",
              "      <td>153863.178346</td>\n",
              "    </tr>\n",
              "    <tr>\n",
              "      <th>0</th>\n",
              "      <td>14149</td>\n",
              "      <td>0.075129</td>\n",
              "      <td>12710</td>\n",
              "      <td>165140.030422</td>\n",
              "    </tr>\n",
              "    <tr>\n",
              "      <th>1</th>\n",
              "      <td>4818</td>\n",
              "      <td>0.092154</td>\n",
              "      <td>4343</td>\n",
              "      <td>171228.087764</td>\n",
              "    </tr>\n",
              "    <tr>\n",
              "      <th>2</th>\n",
              "      <td>2055</td>\n",
              "      <td>0.094404</td>\n",
              "      <td>1851</td>\n",
              "      <td>171852.236814</td>\n",
              "    </tr>\n",
              "    <tr>\n",
              "      <th>3</th>\n",
              "      <td>330</td>\n",
              "      <td>0.081818</td>\n",
              "      <td>294</td>\n",
              "      <td>183266.400040</td>\n",
              "    </tr>\n",
              "    <tr>\n",
              "      <th>4</th>\n",
              "      <td>41</td>\n",
              "      <td>0.097561</td>\n",
              "      <td>34</td>\n",
              "      <td>170561.435135</td>\n",
              "    </tr>\n",
              "    <tr>\n",
              "      <th>5</th>\n",
              "      <td>9</td>\n",
              "      <td>0.000000</td>\n",
              "      <td>8</td>\n",
              "      <td>170430.295564</td>\n",
              "    </tr>\n",
              "    <tr>\n",
              "      <th>20</th>\n",
              "      <td>76</td>\n",
              "      <td>0.105263</td>\n",
              "      <td>67</td>\n",
              "      <td>168720.526180</td>\n",
              "    </tr>\n",
              "  </tbody>\n",
              "</table>\n",
              "</div>"
            ],
            "text/plain": [
              "           debt           total_income               \n",
              "          count      mean        count           mean\n",
              "children                                             \n",
              "-1           47  0.021277           44  153863.178346\n",
              " 0        14149  0.075129        12710  165140.030422\n",
              " 1         4818  0.092154         4343  171228.087764\n",
              " 2         2055  0.094404         1851  171852.236814\n",
              " 3          330  0.081818          294  183266.400040\n",
              " 4           41  0.097561           34  170561.435135\n",
              " 5            9  0.000000            8  170430.295564\n",
              " 20          76  0.105263           67  168720.526180"
            ]
          },
          "metadata": {},
          "execution_count": 51
        }
      ]
    },
    {
      "cell_type": "code",
      "metadata": {
        "colab": {
          "base_uri": "https://localhost:8080/",
          "height": 326
        },
        "id": "c4R-26PkN3oD",
        "outputId": "fb842a98-2e9f-473c-f942-669dc7992348"
      },
      "source": [
        "t1.columns = [' '.join(col).strip() for col in t1.columns.values] # multi index\n",
        "t1"
      ],
      "execution_count": null,
      "outputs": [
        {
          "output_type": "execute_result",
          "data": {
            "text/html": [
              "<div>\n",
              "<style scoped>\n",
              "    .dataframe tbody tr th:only-of-type {\n",
              "        vertical-align: middle;\n",
              "    }\n",
              "\n",
              "    .dataframe tbody tr th {\n",
              "        vertical-align: top;\n",
              "    }\n",
              "\n",
              "    .dataframe thead th {\n",
              "        text-align: right;\n",
              "    }\n",
              "</style>\n",
              "<table border=\"1\" class=\"dataframe\">\n",
              "  <thead>\n",
              "    <tr style=\"text-align: right;\">\n",
              "      <th></th>\n",
              "      <th>debt count</th>\n",
              "      <th>debt mean</th>\n",
              "      <th>total_income count</th>\n",
              "      <th>total_income mean</th>\n",
              "    </tr>\n",
              "    <tr>\n",
              "      <th>children</th>\n",
              "      <th></th>\n",
              "      <th></th>\n",
              "      <th></th>\n",
              "      <th></th>\n",
              "    </tr>\n",
              "  </thead>\n",
              "  <tbody>\n",
              "    <tr>\n",
              "      <th>-1</th>\n",
              "      <td>47</td>\n",
              "      <td>0.021277</td>\n",
              "      <td>44</td>\n",
              "      <td>153863.178346</td>\n",
              "    </tr>\n",
              "    <tr>\n",
              "      <th>0</th>\n",
              "      <td>14149</td>\n",
              "      <td>0.075129</td>\n",
              "      <td>12710</td>\n",
              "      <td>165140.030422</td>\n",
              "    </tr>\n",
              "    <tr>\n",
              "      <th>1</th>\n",
              "      <td>4818</td>\n",
              "      <td>0.092154</td>\n",
              "      <td>4343</td>\n",
              "      <td>171228.087764</td>\n",
              "    </tr>\n",
              "    <tr>\n",
              "      <th>2</th>\n",
              "      <td>2055</td>\n",
              "      <td>0.094404</td>\n",
              "      <td>1851</td>\n",
              "      <td>171852.236814</td>\n",
              "    </tr>\n",
              "    <tr>\n",
              "      <th>3</th>\n",
              "      <td>330</td>\n",
              "      <td>0.081818</td>\n",
              "      <td>294</td>\n",
              "      <td>183266.400040</td>\n",
              "    </tr>\n",
              "    <tr>\n",
              "      <th>4</th>\n",
              "      <td>41</td>\n",
              "      <td>0.097561</td>\n",
              "      <td>34</td>\n",
              "      <td>170561.435135</td>\n",
              "    </tr>\n",
              "    <tr>\n",
              "      <th>5</th>\n",
              "      <td>9</td>\n",
              "      <td>0.000000</td>\n",
              "      <td>8</td>\n",
              "      <td>170430.295564</td>\n",
              "    </tr>\n",
              "    <tr>\n",
              "      <th>20</th>\n",
              "      <td>76</td>\n",
              "      <td>0.105263</td>\n",
              "      <td>67</td>\n",
              "      <td>168720.526180</td>\n",
              "    </tr>\n",
              "  </tbody>\n",
              "</table>\n",
              "</div>"
            ],
            "text/plain": [
              "          debt count  debt mean  total_income count  total_income mean\n",
              "children                                                              \n",
              "-1                47   0.021277                  44      153863.178346\n",
              " 0             14149   0.075129               12710      165140.030422\n",
              " 1              4818   0.092154                4343      171228.087764\n",
              " 2              2055   0.094404                1851      171852.236814\n",
              " 3               330   0.081818                 294      183266.400040\n",
              " 4                41   0.097561                  34      170561.435135\n",
              " 5                 9   0.000000                   8      170430.295564\n",
              " 20               76   0.105263                  67      168720.526180"
            ]
          },
          "metadata": {},
          "execution_count": 52
        }
      ]
    },
    {
      "cell_type": "code",
      "metadata": {
        "id": "TNN_G_IT7MM6"
      },
      "source": [
        "df['education'] = df['education'].str.lower() # lower case"
      ],
      "execution_count": null,
      "outputs": []
    },
    {
      "cell_type": "code",
      "metadata": {
        "id": "NcDX7p2POfUL"
      },
      "source": [
        "df['age_cat'] = pd.qcut(df['dob_years'],5) # cut group into 5"
      ],
      "execution_count": null,
      "outputs": []
    },
    {
      "cell_type": "code",
      "metadata": {
        "colab": {
          "base_uri": "https://localhost:8080/"
        },
        "id": "G-El-KWCPFV6",
        "outputId": "8cf1ae5d-e0b7-4773-c823-87a9ac0c8d1f"
      },
      "source": [
        "df['age_cat']"
      ],
      "execution_count": null,
      "outputs": [
        {
          "output_type": "execute_result",
          "data": {
            "text/plain": [
              "0        (39.0, 47.0]\n",
              "1        (31.0, 39.0]\n",
              "2        (31.0, 39.0]\n",
              "3        (31.0, 39.0]\n",
              "4        (47.0, 56.0]\n",
              "             ...     \n",
              "21520    (39.0, 47.0]\n",
              "21521    (56.0, 75.0]\n",
              "21522    (31.0, 39.0]\n",
              "21523    (31.0, 39.0]\n",
              "21524    (39.0, 47.0]\n",
              "Name: age_cat, Length: 21525, dtype: category\n",
              "Categories (5, interval[float64]): [(-0.001, 31.0] < (31.0, 39.0] < (39.0, 47.0] < (47.0, 56.0] <\n",
              "                                    (56.0, 75.0]]"
            ]
          },
          "metadata": {},
          "execution_count": 59
        }
      ]
    },
    {
      "cell_type": "code",
      "metadata": {
        "colab": {
          "base_uri": "https://localhost:8080/",
          "height": 234
        },
        "id": "AnJ7gX-5Om05",
        "outputId": "a13e13d2-6790-477c-ae37-f25841118961"
      },
      "source": [
        "df.groupby('age_cat')['debt'].agg(['mean','count'])"
      ],
      "execution_count": null,
      "outputs": [
        {
          "output_type": "execute_result",
          "data": {
            "text/html": [
              "<div>\n",
              "<style scoped>\n",
              "    .dataframe tbody tr th:only-of-type {\n",
              "        vertical-align: middle;\n",
              "    }\n",
              "\n",
              "    .dataframe tbody tr th {\n",
              "        vertical-align: top;\n",
              "    }\n",
              "\n",
              "    .dataframe thead th {\n",
              "        text-align: right;\n",
              "    }\n",
              "</style>\n",
              "<table border=\"1\" class=\"dataframe\">\n",
              "  <thead>\n",
              "    <tr style=\"text-align: right;\">\n",
              "      <th></th>\n",
              "      <th>mean</th>\n",
              "      <th>count</th>\n",
              "    </tr>\n",
              "    <tr>\n",
              "      <th>age_cat</th>\n",
              "      <th></th>\n",
              "      <th></th>\n",
              "    </tr>\n",
              "  </thead>\n",
              "  <tbody>\n",
              "    <tr>\n",
              "      <th>(-0.001, 31.0]</th>\n",
              "      <td>0.111086</td>\n",
              "      <td>4384</td>\n",
              "    </tr>\n",
              "    <tr>\n",
              "      <th>(31.0, 39.0]</th>\n",
              "      <td>0.092261</td>\n",
              "      <td>4574</td>\n",
              "    </tr>\n",
              "    <tr>\n",
              "      <th>(39.0, 47.0]</th>\n",
              "      <td>0.078382</td>\n",
              "      <td>4325</td>\n",
              "    </tr>\n",
              "    <tr>\n",
              "      <th>(47.0, 56.0]</th>\n",
              "      <td>0.065596</td>\n",
              "      <td>4360</td>\n",
              "    </tr>\n",
              "    <tr>\n",
              "      <th>(56.0, 75.0]</th>\n",
              "      <td>0.053323</td>\n",
              "      <td>3882</td>\n",
              "    </tr>\n",
              "  </tbody>\n",
              "</table>\n",
              "</div>"
            ],
            "text/plain": [
              "                    mean  count\n",
              "age_cat                        \n",
              "(-0.001, 31.0]  0.111086   4384\n",
              "(31.0, 39.0]    0.092261   4574\n",
              "(39.0, 47.0]    0.078382   4325\n",
              "(47.0, 56.0]    0.065596   4360\n",
              "(56.0, 75.0]    0.053323   3882"
            ]
          },
          "metadata": {},
          "execution_count": 54
        }
      ]
    },
    {
      "cell_type": "code",
      "metadata": {
        "colab": {
          "base_uri": "https://localhost:8080/",
          "height": 297
        },
        "id": "nvX4_cY2OoAJ",
        "outputId": "63d5265c-da7c-4885-8a85-bbb321fc631d"
      },
      "source": [
        "df.groupby('age_cat')['debt'].mean().plot()"
      ],
      "execution_count": null,
      "outputs": [
        {
          "output_type": "execute_result",
          "data": {
            "text/plain": [
              "<matplotlib.axes._subplots.AxesSubplot at 0x7f1effab9550>"
            ]
          },
          "metadata": {},
          "execution_count": 55
        },
        {
          "output_type": "display_data",
          "data": {
            "image/png": "[encoded data removed]",
            "text/plain": [
              "<Figure size 432x288 with 1 Axes>"
            ]
          },
          "metadata": {
            "needs_background": "light"
          }
        }
      ]
    },
    {
      "cell_type": "code",
      "metadata": {
        "colab": {
          "base_uri": "https://localhost:8080/"
        },
        "id": "SRYKmeGRO0kZ",
        "outputId": "097b79e2-6c40-483d-a091-4ce07c3c04fd"
      },
      "source": [
        "df['dob_years'].describe()"
      ],
      "execution_count": null,
      "outputs": [
        {
          "output_type": "execute_result",
          "data": {
            "text/plain": [
              "count    21525.000000\n",
              "mean        43.293380\n",
              "std         12.574584\n",
              "min          0.000000\n",
              "25%         33.000000\n",
              "50%         42.000000\n",
              "75%         53.000000\n",
              "max         75.000000\n",
              "Name: dob_years, dtype: float64"
            ]
          },
          "metadata": {},
          "execution_count": 56
        }
      ]
    },
    {
      "cell_type": "code",
      "metadata": {
        "colab": {
          "base_uri": "https://localhost:8080/"
        },
        "id": "itMmHk8bO2S6",
        "outputId": "8cb5a029-bfc2-4d0f-94b2-31bf4f5a8aa8"
      },
      "source": [
        "df.columns"
      ],
      "execution_count": null,
      "outputs": [
        {
          "output_type": "execute_result",
          "data": {
            "text/plain": [
              "Index(['children', 'days_employed', 'dob_years', 'education', 'education_id',\n",
              "       'family_status', 'family_status_id', 'gender', 'income_type', 'debt',\n",
              "       'total_income', 'purpose', 'age_cat'],\n",
              "      dtype='object')"
            ]
          },
          "metadata": {},
          "execution_count": 57
        }
      ]
    },
    {
      "cell_type": "code",
      "metadata": {
        "id": "m44L_iViPUa5"
      },
      "source": [
        "pd.set_option('display.float_format', lambda x: '%.2f' % x)"
      ],
      "execution_count": null,
      "outputs": []
    },
    {
      "cell_type": "code",
      "metadata": {
        "id": "aSV-ECnqPw6Z"
      },
      "source": [
        "df['total_income'] = df['total_income'].round() # round"
      ],
      "execution_count": null,
      "outputs": []
    },
    {
      "cell_type": "code",
      "metadata": {
        "id": "j_IU2BH2Py4K"
      },
      "source": [
        "df['days_employed'] = df['days_employed'].abs()"
      ],
      "execution_count": null,
      "outputs": []
    },
    {
      "cell_type": "code",
      "metadata": {
        "id": "msNKD4UhQhKq",
        "colab": {
          "base_uri": "https://localhost:8080/",
          "height": 417
        },
        "outputId": "afd55f70-45fb-4226-a59f-9bc781dc6f55"
      },
      "source": [
        "df"
      ],
      "execution_count": null,
      "outputs": [
        {
          "output_type": "execute_result",
          "data": {
            "text/html": [
              "<div>\n",
              "<style scoped>\n",
              "    .dataframe tbody tr th:only-of-type {\n",
              "        vertical-align: middle;\n",
              "    }\n",
              "\n",
              "    .dataframe tbody tr th {\n",
              "        vertical-align: top;\n",
              "    }\n",
              "\n",
              "    .dataframe thead th {\n",
              "        text-align: right;\n",
              "    }\n",
              "</style>\n",
              "<table border=\"1\" class=\"dataframe\">\n",
              "  <thead>\n",
              "    <tr style=\"text-align: right;\">\n",
              "      <th></th>\n",
              "      <th>children</th>\n",
              "      <th>days_employed</th>\n",
              "      <th>dob_years</th>\n",
              "      <th>education</th>\n",
              "      <th>education_id</th>\n",
              "      <th>family_status</th>\n",
              "      <th>family_status_id</th>\n",
              "      <th>gender</th>\n",
              "      <th>income_type</th>\n",
              "      <th>debt</th>\n",
              "      <th>total_income</th>\n",
              "      <th>purpose</th>\n",
              "      <th>age_cat</th>\n",
              "    </tr>\n",
              "  </thead>\n",
              "  <tbody>\n",
              "    <tr>\n",
              "      <th>0</th>\n",
              "      <td>1</td>\n",
              "      <td>8438.00</td>\n",
              "      <td>42</td>\n",
              "      <td>высшее</td>\n",
              "      <td>0</td>\n",
              "      <td>женат / замужем</td>\n",
              "      <td>0</td>\n",
              "      <td>F</td>\n",
              "      <td>сотрудник</td>\n",
              "      <td>0</td>\n",
              "      <td>253876.00</td>\n",
              "      <td>покупка жилья</td>\n",
              "      <td>(39.0, 47.0]</td>\n",
              "    </tr>\n",
              "    <tr>\n",
              "      <th>1</th>\n",
              "      <td>1</td>\n",
              "      <td>4025.00</td>\n",
              "      <td>36</td>\n",
              "      <td>среднее</td>\n",
              "      <td>1</td>\n",
              "      <td>женат / замужем</td>\n",
              "      <td>0</td>\n",
              "      <td>F</td>\n",
              "      <td>сотрудник</td>\n",
              "      <td>0</td>\n",
              "      <td>112080.00</td>\n",
              "      <td>приобретение автомобиля</td>\n",
              "      <td>(31.0, 39.0]</td>\n",
              "    </tr>\n",
              "    <tr>\n",
              "      <th>2</th>\n",
              "      <td>0</td>\n",
              "      <td>5623.00</td>\n",
              "      <td>33</td>\n",
              "      <td>среднее</td>\n",
              "      <td>1</td>\n",
              "      <td>женат / замужем</td>\n",
              "      <td>0</td>\n",
              "      <td>M</td>\n",
              "      <td>сотрудник</td>\n",
              "      <td>0</td>\n",
              "      <td>145886.00</td>\n",
              "      <td>покупка жилья</td>\n",
              "      <td>(31.0, 39.0]</td>\n",
              "    </tr>\n",
              "    <tr>\n",
              "      <th>3</th>\n",
              "      <td>3</td>\n",
              "      <td>4125.00</td>\n",
              "      <td>32</td>\n",
              "      <td>среднее</td>\n",
              "      <td>1</td>\n",
              "      <td>женат / замужем</td>\n",
              "      <td>0</td>\n",
              "      <td>M</td>\n",
              "      <td>сотрудник</td>\n",
              "      <td>0</td>\n",
              "      <td>267629.00</td>\n",
              "      <td>дополнительное образование</td>\n",
              "      <td>(31.0, 39.0]</td>\n",
              "    </tr>\n",
              "    <tr>\n",
              "      <th>4</th>\n",
              "      <td>0</td>\n",
              "      <td>340266.00</td>\n",
              "      <td>53</td>\n",
              "      <td>среднее</td>\n",
              "      <td>1</td>\n",
              "      <td>гражданский брак</td>\n",
              "      <td>1</td>\n",
              "      <td>F</td>\n",
              "      <td>пенсионер</td>\n",
              "      <td>0</td>\n",
              "      <td>158616.00</td>\n",
              "      <td>сыграть свадьбу</td>\n",
              "      <td>(47.0, 56.0]</td>\n",
              "    </tr>\n",
              "    <tr>\n",
              "      <th>...</th>\n",
              "      <td>...</td>\n",
              "      <td>...</td>\n",
              "      <td>...</td>\n",
              "      <td>...</td>\n",
              "      <td>...</td>\n",
              "      <td>...</td>\n",
              "      <td>...</td>\n",
              "      <td>...</td>\n",
              "      <td>...</td>\n",
              "      <td>...</td>\n",
              "      <td>...</td>\n",
              "      <td>...</td>\n",
              "      <td>...</td>\n",
              "    </tr>\n",
              "    <tr>\n",
              "      <th>21520</th>\n",
              "      <td>1</td>\n",
              "      <td>4529.00</td>\n",
              "      <td>43</td>\n",
              "      <td>среднее</td>\n",
              "      <td>1</td>\n",
              "      <td>гражданский брак</td>\n",
              "      <td>1</td>\n",
              "      <td>F</td>\n",
              "      <td>компаньон</td>\n",
              "      <td>0</td>\n",
              "      <td>224792.00</td>\n",
              "      <td>операции с жильем</td>\n",
              "      <td>(39.0, 47.0]</td>\n",
              "    </tr>\n",
              "    <tr>\n",
              "      <th>21521</th>\n",
              "      <td>0</td>\n",
              "      <td>343937.00</td>\n",
              "      <td>67</td>\n",
              "      <td>среднее</td>\n",
              "      <td>1</td>\n",
              "      <td>женат / замужем</td>\n",
              "      <td>0</td>\n",
              "      <td>F</td>\n",
              "      <td>пенсионер</td>\n",
              "      <td>0</td>\n",
              "      <td>156000.00</td>\n",
              "      <td>сделка с автомобилем</td>\n",
              "      <td>(56.0, 75.0]</td>\n",
              "    </tr>\n",
              "    <tr>\n",
              "      <th>21522</th>\n",
              "      <td>1</td>\n",
              "      <td>2113.00</td>\n",
              "      <td>38</td>\n",
              "      <td>среднее</td>\n",
              "      <td>1</td>\n",
              "      <td>гражданский брак</td>\n",
              "      <td>1</td>\n",
              "      <td>M</td>\n",
              "      <td>сотрудник</td>\n",
              "      <td>1</td>\n",
              "      <td>89673.00</td>\n",
              "      <td>недвижимость</td>\n",
              "      <td>(31.0, 39.0]</td>\n",
              "    </tr>\n",
              "    <tr>\n",
              "      <th>21523</th>\n",
              "      <td>3</td>\n",
              "      <td>3112.00</td>\n",
              "      <td>38</td>\n",
              "      <td>среднее</td>\n",
              "      <td>1</td>\n",
              "      <td>женат / замужем</td>\n",
              "      <td>0</td>\n",
              "      <td>M</td>\n",
              "      <td>сотрудник</td>\n",
              "      <td>1</td>\n",
              "      <td>244093.00</td>\n",
              "      <td>на покупку своего автомобиля</td>\n",
              "      <td>(31.0, 39.0]</td>\n",
              "    </tr>\n",
              "    <tr>\n",
              "      <th>21524</th>\n",
              "      <td>2</td>\n",
              "      <td>1985.00</td>\n",
              "      <td>40</td>\n",
              "      <td>среднее</td>\n",
              "      <td>1</td>\n",
              "      <td>женат / замужем</td>\n",
              "      <td>0</td>\n",
              "      <td>F</td>\n",
              "      <td>сотрудник</td>\n",
              "      <td>0</td>\n",
              "      <td>82047.00</td>\n",
              "      <td>на покупку автомобиля</td>\n",
              "      <td>(39.0, 47.0]</td>\n",
              "    </tr>\n",
              "  </tbody>\n",
              "</table>\n",
              "<p>21525 rows × 13 columns</p>\n",
              "</div>"
            ],
            "text/plain": [
              "       children  days_employed  ...                       purpose       age_cat\n",
              "0             1        8438.00  ...                 покупка жилья  (39.0, 47.0]\n",
              "1             1        4025.00  ...       приобретение автомобиля  (31.0, 39.0]\n",
              "2             0        5623.00  ...                 покупка жилья  (31.0, 39.0]\n",
              "3             3        4125.00  ...    дополнительное образование  (31.0, 39.0]\n",
              "4             0      340266.00  ...               сыграть свадьбу  (47.0, 56.0]\n",
              "...         ...            ...  ...                           ...           ...\n",
              "21520         1        4529.00  ...             операции с жильем  (39.0, 47.0]\n",
              "21521         0      343937.00  ...          сделка с автомобилем  (56.0, 75.0]\n",
              "21522         1        2113.00  ...                  недвижимость  (31.0, 39.0]\n",
              "21523         3        3112.00  ...  на покупку своего автомобиля  (31.0, 39.0]\n",
              "21524         2        1985.00  ...         на покупку автомобиля  (39.0, 47.0]\n",
              "\n",
              "[21525 rows x 13 columns]"
            ]
          },
          "metadata": {},
          "execution_count": 68
        }
      ]
    },
    {
      "cell_type": "markdown",
      "metadata": {
        "id": "UNmKwpI26bHd"
      },
      "source": [
        "PROJECT"
      ]
    },
    {
      "cell_type": "code",
      "metadata": {
        "id": "XSBU40tf6c52"
      },
      "source": [
        "import pandas as pd\n",
        "import numpy as np\n",
        "import math as mth\n",
        "import matplotlib.pyplot as plt\n",
        "import scipy.stats as stats\n",
        "import seaborn as sns\n",
        "import datetime as dt\n",
        "\n",
        "pd.options.display.float_format = '{:.2f}'.format\n",
        "plt.style.use('seaborn-deep')"
      ],
      "execution_count": null,
      "outputs": []
    },
    {
      "cell_type": "code",
      "metadata": {
        "id": "hCXyQHFD6hKM"
      },
      "source": [
        "pip install -U seaborn"
      ],
      "execution_count": null,
      "outputs": []
    },
    {
      "cell_type": "code",
      "metadata": {
        "id": "GphfQrGO6j27"
      },
      "source": [
        "try: \n",
        "    df = pd.read_csv('logs_exp.csv', sep='\\t') \n",
        "\n",
        "except FileNotFoundError:\n",
        "    df = pd.read_csv('/datasets/logs_exp.csv', sep='\\t') # яндексовский путь"
      ],
      "execution_count": null,
      "outputs": []
    },
    {
      "cell_type": "code",
      "metadata": {
        "id": "4svjZ_7D6mYb"
      },
      "source": [
        "df.info() # вывод общей информации\n",
        "df.sample(5, random_state=1) # вывод 10 рандомных строк"
      ],
      "execution_count": null,
      "outputs": []
    },
    {
      "cell_type": "code",
      "metadata": {
        "id": "4A2og0Lx543V"
      },
      "source": [
        "df.columns=df.columns.str.lower()"
      ],
      "execution_count": null,
      "outputs": []
    },
    {
      "cell_type": "code",
      "metadata": {
        "id": "GoUDnwV06KBu"
      },
      "source": [
        "df.isna().mean() # вывод среднего количества пропущенных значений"
      ],
      "execution_count": null,
      "outputs": []
    },
    {
      "cell_type": "code",
      "metadata": {
        "id": "Gtu5UBTL6opF"
      },
      "source": [
        "df=df.rename(columns={'eventname': 'event', 'deviceidhash' : 'user_id', 'eventtimestamp':'timestamp', 'expid':'group'})"
      ],
      "execution_count": null,
      "outputs": []
    },
    {
      "cell_type": "code",
      "metadata": {
        "id": "YkhCF3Fo788Y"
      },
      "source": [
        "print('duplicates:', df.duplicated().sum()) # вывод количества дубликатов"
      ],
      "execution_count": null,
      "outputs": []
    },
    {
      "cell_type": "code",
      "metadata": {
        "id": "Ceoaj_DR8KSF"
      },
      "source": [
        "df=df.drop_duplicates() #  удалим дубликаты"
      ],
      "execution_count": null,
      "outputs": []
    },
    {
      "cell_type": "code",
      "metadata": {
        "id": "7D2_3DGh8Mpt"
      },
      "source": [
        "# преобразование данных о времени\n",
        "df['date'] = pd.to_datetime(df['timestamp'],unit=\"s\")\n",
        "\n",
        "df['day']=pd.to_datetime(df['date']).dt.date \n",
        "\n",
        "df['day'] = df['day'].astype('datetime64[D]')"
      ],
      "execution_count": null,
      "outputs": []
    },
    {
      "cell_type": "code",
      "metadata": {
        "id": "9qB3Dm618NOM"
      },
      "source": [
        "df['event'].unique()"
      ],
      "execution_count": null,
      "outputs": []
    },
    {
      "cell_type": "code",
      "metadata": {
        "id": "RvU1WZcbgthV"
      },
      "source": [
        "df.columns = ['A', 'W'] # rename columns without putting old names"
      ],
      "execution_count": null,
      "outputs": []
    },
    {
      "cell_type": "code",
      "metadata": {
        "id": "VORafpNZWF0S"
      },
      "source": [
        "import warnings\n",
        "warnings.filterwarnings(\"ignore\", category=np.VisibleDeprecationWarning) \n",
        "df_actual.boxplot(column=['total_sales'], by='platform',figsize=(8,6))\n",
        "plt.ylabel('продажи')\n",
        "plt.xlabel('платформы')\n",
        "plt.title('Глобальные продажи в зависимости от платформ с 2012 по 2016 годы')\n",
        "plt.suptitle(\"\")\n",
        "plt.show()"
      ],
      "execution_count": null,
      "outputs": []
    },
    {
      "cell_type": "code",
      "metadata": {
        "id": "braoanZWWLbH"
      },
      "source": [
        "# добавим средние и уберем выбросы\n",
        "df_actual.boxplot(column=['total_sales'], by='platform',figsize=(8,5), showmeans=True, showfliers=False )\n",
        "plt.ylabel('продажи')\n",
        "plt.xlabel('платформы')\n",
        "plt.title('Глобальные продажи в зависимости от платформ с 2012 по 2016 годы')\n",
        "plt.suptitle(\"\")\n",
        "plt.show()"
      ],
      "execution_count": null,
      "outputs": []
    },
    {
      "cell_type": "code",
      "metadata": {
        "id": "Xbbw8EF3Xdic"
      },
      "source": [
        "# как траты распределены по времени\n",
        "labels=['дни','недели','месяцы']\n",
        "labels_means=['Cредние траты за день','Cредние траты за неделю','Cредние траты за месяц']\n",
        "titles=['Динамика средних затрат на маркетинг за день','Динамика средних затрат на маркетинг за неделю','Динамика средних затрат на маркетинг за месяц']\n",
        "i=0\n",
        "for period in ['dt','costs_week_number','costs_month_number']:\n",
        "    report_costs = costs.groupby(period).agg({'costs':'sum'}).sort_values(by='costs', ascending=False)\n",
        "    report_costs.plot(grid=True, title=titles[i], legend=False)\n",
        "    plt.xlabel(labels[i])\n",
        "    plt.ylabel('у.е.')\n",
        "    plt.show()\n",
        "    i+=1"
      ],
      "execution_count": null,
      "outputs": []
    },
    {
      "cell_type": "code",
      "metadata": {
        "id": "JqFdJPmwY5je"
      },
      "source": [
        "df['chain']=df['chain'].astype('int')"
      ],
      "execution_count": null,
      "outputs": []
    },
    {
      "cell_type": "code",
      "metadata": {
        "id": "8Le_MhzwiaX_"
      },
      "source": [
        "# create dataframe\n",
        "\n",
        "params = {'Зарплата': [3000, 20000, 15000],\n",
        " 'Есть дом': ['Да', 'Нет', 'Нет'],\n",
        " 'Возраст': [20, 30, 45],\n",
        " 'Образование': ['Среднее', 'Высшее', 'Специальное']}\n",
        "\n",
        " params_df = pd.DataFrame(params)"
      ],
      "execution_count": null,
      "outputs": []
    },
    {
      "cell_type": "code",
      "metadata": {
        "id": "nLoRVUL6igQX"
      },
      "source": [
        "# function for rows\n",
        "def credit_check(row):\n",
        "    if row['Возраст'] >= 30 and (row['Есть дом'] == 'Да' or row['Зарплата'] > 10000):\n",
        "        return 'Выдавать'\n",
        "    return 'Не выдавать'\n",
        "\n",
        "params_df['result'] = params_df.apply(credit_check, axis=1)"
      ],
      "execution_count": null,
      "outputs": []
    },
    {
      "cell_type": "code",
      "metadata": {
        "id": "yTLmiEWM1XFg"
      },
      "source": [
        "# change smth in a column\n",
        "X['Housing'] = X['Housing'].map({'own': 2, 'rent': 1, 'free': 0})"
      ],
      "execution_count": null,
      "outputs": []
    },
    {
      "cell_type": "code",
      "metadata": {
        "id": "kuQUAblY7XWQ"
      },
      "source": [
        "# как траты распределены по времени\n",
        "#labels=['дни','недели','месяцы']\n",
        "#labels_means=['Cредние траты за день','Cредние траты за неделю','Cредние траты за месяц']\n",
        "titles={   \n",
        "'gender':'пол',\n",
        "'near_location' :'проживание или работа в районе, где находится фитнес-центр',\n",
        "'partner' : 'сотрудник компании-партнёра',\n",
        "'promo_friends' : 'факт первоначальной записи в рамках акции «приведи друга»',\n",
        "'phone' : 'наличие контактного телефона',\n",
        "'age' : ' возраст',\n",
        "'lifetime' : 'время с момента первого обращения в фитнес-центр (в месяцах)',\n",
        "'contract_period' : ' длительность текущего действующего абонемента (месяц, 3 месяца, 6 месяцев, год)',\n",
        "'month_to_end_contract' : 'срок до окончания текущего действующего абонемента (в месяцах)',\n",
        "'group_visits' : ' факт посещения групповых занятий',\n",
        "'avg_class_frequency_total' : ' средняя частота посещений в неделю за все время с начала действия абонемента',\n",
        "'avg_class_frequency_current_month' : ' средняя частота посещений в неделю за предыдущий месяц',\n",
        "'avg_additional_charges_total': 'суммарная выручка от других услуг фитнес-центра: кафе, спорт-товары, косметический и массажный салон',\n",
        "'churn': 'факт оттока в текущем месяце',  \n",
        "}"
      ],
      "execution_count": null,
      "outputs": []
    },
    {
      "cell_type": "code",
      "metadata": {
        "colab": {
          "base_uri": "https://localhost:8080/"
        },
        "id": "1CYYVnxH-ge2",
        "outputId": "93973c93-b159-4ece-8ff1-06b887b4bf87"
      },
      "source": [
        "print(titles['lifetime'])"
      ],
      "execution_count": null,
      "outputs": [
        {
          "output_type": "stream",
          "name": "stdout",
          "text": [
            "время с момента первого обращения в фитнес-центр (в месяцах)\n"
          ]
        }
      ]
    },
    {
      "cell_type": "code",
      "metadata": {
        "id": "EArHt8TK86Zn"
      },
      "source": [
        "i=0\n",
        "\n",
        "for period in ['dt','costs_week_number','costs_month_number']:\n",
        "    report_costs = costs.groupby(period).agg({'costs':'sum'}).sort_values(by='costs', ascending=False)\n",
        "    report_costs.plot(grid=True, title=titles[i], legend=False)\n",
        "    plt.xlabel(labels[i])\n",
        "    plt.ylabel('у.е.')\n",
        "    plt.show()\n",
        "    i+=1"
      ],
      "execution_count": null,
      "outputs": []
    },
    {
      "cell_type": "code",
      "metadata": {
        "id": "yWXGc--9Seh3"
      },
      "source": [
        "titles_df = pd.DataFrame.from_dict(titles, orient='index')\n",
        "titles_df      "
      ],
      "execution_count": null,
      "outputs": []
    },
    {
      "cell_type": "code",
      "metadata": {
        "id": "csDzLNSYwn7Q"
      },
      "source": [
        "# Кстати для удобства изучения таблицы мы можем транспонировать расчеты \n",
        "data.describe().T"
      ],
      "execution_count": null,
      "outputs": []
    },
    {
      "cell_type": "markdown",
      "metadata": {
        "id": "NADVRP4Gxstn"
      },
      "source": [
        "**ML comments**"
      ]
    },
    {
      "cell_type": "markdown",
      "metadata": {
        "id": "VD1LjRYtw0vg"
      },
      "source": [
        "Отличный способ визуализации, в том числе можно было бы построить наши графики с помощью метода subplots, например в 2 колонки, для нашего удоства в их изучении.\n",
        "\n",
        "Тут можно посмотреть примеры.\n",
        "\n",
        "matplotlib: https://matplotlib.org/3.3.3/api/_as_gen/matplotlib.pyplot.subplots.html\n",
        "plotly : https://plotly.com/python/subplots/"
      ]
    },
    {
      "cell_type": "markdown",
      "metadata": {
        "id": "4TZlV3gAxJFA"
      },
      "source": [
        "Комментарий ревьюера:\n",
        "В целом выборка разделена верно. Я бы рекомендовал бы ещё использовать атрибут stratify, поместив в него целевую переменную. Он дает нам безопасность сохранения 20% значений равного нужного нам количества классов в целевой переменной.\n",
        "\n",
        "Пример: stratify=y"
      ]
    },
    {
      "cell_type": "markdown",
      "metadata": {
        "id": "vWzYjLC6xqSG"
      },
      "source": [
        ""
      ]
    },
    {
      "cell_type": "markdown",
      "metadata": {
        "id": "IdW0fQyTxqY-"
      },
      "source": [
        "Здорово, что посчитали метрику F1, которая как раз включает в себя основные параметры точности и полноты.\n",
        "\n",
        "В том числе рекомендую смотреть на метрику ROC–AUC с точки зрения визуализации.\n",
        "\n",
        "Ниже статья, в которой есть материалы про метрики и как их визуализировать.\n",
        "\n",
        "https://habr.com/ru/company/ods/blog/328372/\n",
        "\n",
        "Можно также попробовать и сравнить параметр C у логистической регрессии. У случайного леса количество деревьев (n_estimators) и максимальную глубину дерева (max_depth), чтобы осуществить поиск лучшей модели.\n",
        "\n",
        "Кстати для автоматического перебора гиперпараметров мы можем использовать готовый метод GreadSearchCV в библиотеке sklearn."
      ]
    },
    {
      "cell_type": "markdown",
      "metadata": {
        "id": "4GHDffszx53P"
      },
      "source": [
        "В том числе чтобы определить количество кластеров можно использовать метод локтя.\n",
        "\n",
        "Ниже статья с двумя методами, которые можно в том числе использовать для определения количества кластеров.\n",
        "\n",
        "https://habr.com/ru/company/jetinfosystems/blog/467745/"
      ]
    },
    {
      "cell_type": "code",
      "metadata": {
        "id": "jHnYMely_h0n"
      },
      "source": [
        "df1 = pd.read_excel('/content/drive/MyDrive/Colab/BA - Assigment 2.xlsx') "
      ],
      "execution_count": null,
      "outputs": []
    },
    {
      "cell_type": "code",
      "metadata": {
        "id": "FoHJG68c_6g4"
      },
      "source": [
        "pivot2 = df1.pivot_table(index=['Shop'], columns=['Class'], values=('Units'), aggfunc=('sum')).fillna(0)\n",
        "pivot2['Total']=pivot2['Donation']+pivot2['Draws']+pivot2['Gift']"
      ],
      "execution_count": null,
      "outputs": []
    },
    {
      "cell_type": "code",
      "metadata": {
        "colab": {
          "base_uri": "https://localhost:8080/",
          "height": 234
        },
        "id": "eCZNaEi-AN0d",
        "outputId": "0e08b6b4-3da7-48af-c68f-c8ea202e690d"
      },
      "source": [
        "pivot2.head()"
      ],
      "execution_count": null,
      "outputs": [
        {
          "output_type": "execute_result",
          "data": {
            "text/html": [
              "<div>\n",
              "<style scoped>\n",
              "    .dataframe tbody tr th:only-of-type {\n",
              "        vertical-align: middle;\n",
              "    }\n",
              "\n",
              "    .dataframe tbody tr th {\n",
              "        vertical-align: top;\n",
              "    }\n",
              "\n",
              "    .dataframe thead th {\n",
              "        text-align: right;\n",
              "    }\n",
              "</style>\n",
              "<table border=\"1\" class=\"dataframe\">\n",
              "  <thead>\n",
              "    <tr style=\"text-align: right;\">\n",
              "      <th>Class</th>\n",
              "      <th>Donation</th>\n",
              "      <th>Draws</th>\n",
              "      <th>Gift</th>\n",
              "      <th>Total</th>\n",
              "    </tr>\n",
              "    <tr>\n",
              "      <th>Shop</th>\n",
              "      <th></th>\n",
              "      <th></th>\n",
              "      <th></th>\n",
              "      <th></th>\n",
              "    </tr>\n",
              "  </thead>\n",
              "  <tbody>\n",
              "    <tr>\n",
              "      <th>AR</th>\n",
              "      <td>872.0</td>\n",
              "      <td>10298.0</td>\n",
              "      <td>5032.0</td>\n",
              "      <td>16202.0</td>\n",
              "    </tr>\n",
              "    <tr>\n",
              "      <th>BO</th>\n",
              "      <td>0.0</td>\n",
              "      <td>2.0</td>\n",
              "      <td>0.0</td>\n",
              "      <td>2.0</td>\n",
              "    </tr>\n",
              "    <tr>\n",
              "      <th>BR</th>\n",
              "      <td>2445.0</td>\n",
              "      <td>32279.0</td>\n",
              "      <td>13537.0</td>\n",
              "      <td>48261.0</td>\n",
              "    </tr>\n",
              "    <tr>\n",
              "      <th>CL</th>\n",
              "      <td>1543.0</td>\n",
              "      <td>9397.0</td>\n",
              "      <td>10415.0</td>\n",
              "      <td>21355.0</td>\n",
              "    </tr>\n",
              "    <tr>\n",
              "      <th>CO</th>\n",
              "      <td>972.0</td>\n",
              "      <td>13527.0</td>\n",
              "      <td>9358.0</td>\n",
              "      <td>23857.0</td>\n",
              "    </tr>\n",
              "  </tbody>\n",
              "</table>\n",
              "</div>"
            ],
            "text/plain": [
              "Class  Donation    Draws     Gift    Total\n",
              "Shop                                      \n",
              "AR        872.0  10298.0   5032.0  16202.0\n",
              "BO          0.0      2.0      0.0      2.0\n",
              "BR       2445.0  32279.0  13537.0  48261.0\n",
              "CL       1543.0   9397.0  10415.0  21355.0\n",
              "CO        972.0  13527.0   9358.0  23857.0"
            ]
          },
          "metadata": {},
          "execution_count": 11
        }
      ]
    },
    {
      "cell_type": "code",
      "metadata": {
        "colab": {
          "base_uri": "https://localhost:8080/"
        },
        "id": "q_X6zuIvAThG",
        "outputId": "bf227275-ec2c-4a0b-ee5f-91b464bcba0f"
      },
      "source": [
        "df1['Region'].value_counts(normalize=True) \n",
        "# Укажем значение параметра normalize=True, чтобы посмотреть не абсолютные частоты, а относительные."
      ],
      "execution_count": null,
      "outputs": [
        {
          "output_type": "execute_result",
          "data": {
            "text/plain": [
              "Latam           0.784718\n",
              "Europe          0.202797\n",
              "US              0.011551\n",
              "Little Latam    0.000933\n",
              "Name: Region, dtype: float64"
            ]
          },
          "metadata": {},
          "execution_count": 16
        }
      ]
    },
    {
      "cell_type": "code",
      "metadata": {
        "id": "KNLiaSasB1Rn"
      },
      "source": [
        "df.sort_values(by=['Churn', 'Total day charge'], ascending=[True, False]).head()"
      ],
      "execution_count": null,
      "outputs": []
    },
    {
      "cell_type": "code",
      "metadata": {
        "id": "GZhLJy71SxJp"
      },
      "source": [
        "df[df['Churn'] == 1]['Total day minutes'].mean()"
      ],
      "execution_count": null,
      "outputs": []
    },
    {
      "cell_type": "code",
      "metadata": {
        "id": "E-N0Vq1BNJ4I"
      },
      "source": [
        "# Чтобы посмотреть статистику по нечисловым признакам, нужно явно указать интересующие нас типы в параметре include.\n",
        "df.describe(include=['object', 'bool'])"
      ],
      "execution_count": null,
      "outputs": []
    },
    {
      "cell_type": "code",
      "metadata": {
        "id": "CZzdMcHQNMaX"
      },
      "source": [
        "df[(df['Churn'] == 0) & (df['International plan'] == 'No')]['Total intl minutes'].max()"
      ],
      "execution_count": null,
      "outputs": []
    },
    {
      "cell_type": "markdown",
      "metadata": {
        "id": "O3lmP8AyOSh4"
      },
      "source": [
        "Датафреймы можно индексировать как по названию столбца или строки, так и по порядковому номеру. Для индексации по названию используется метод loc, по номеру — iloc.\n",
        "\n",
        "\n",
        "В первом случае мы говорим «передай нам значения для id строк от 0 до 5 и для столбцов от State до Area code», а во втором — «передай нам значения первых пяти строк в первых трёх столбцах»."
      ]
    },
    {
      "cell_type": "code",
      "metadata": {
        "id": "ks3MHbEyN1VT"
      },
      "source": [
        "df.loc[0:5, 'State':'Area code']\n",
        "df.iloc[0:5, 0:3]"
      ],
      "execution_count": null,
      "outputs": []
    },
    {
      "cell_type": "code",
      "metadata": {
        "id": "1VXxoft4QWl9"
      },
      "source": [
        "#Применение функции к каждому столбцу: apply\n",
        "\n",
        "df.apply(np.max) \n",
        "Метод apply можно использовать и для того, чтобы применить функцию к каждой строке. Для этого нужно указать axis=1"
      ],
      "execution_count": null,
      "outputs": []
    },
    {
      "cell_type": "code",
      "metadata": {
        "id": "Q0jKZEURQVn_"
      },
      "source": [
        "#Применение функции к каждой ячейке столбца: map\n",
        "#Например, метод map можно использовать для замены значений в колонке, передав ему в качестве аргумента словарь вида {old_value: new_value}:\n",
        "d = {'No' : False, 'Yes' : True}\n",
        "df['International plan'] = df['International plan'].map(d)\n",
        "df.head()"
      ],
      "execution_count": null,
      "outputs": []
    },
    {
      "cell_type": "code",
      "metadata": {
        "id": "l-O2kkYuQnH9"
      },
      "source": [
        "#Аналогичную операцию можно провернуть с помощью метода replace:\n",
        "df = df.replace({'Voice mail plan': d})\n",
        "df.head()"
      ],
      "execution_count": null,
      "outputs": []
    },
    {
      "cell_type": "code",
      "metadata": {
        "id": "J2Szg7U7QpRe"
      },
      "source": [
        "df.groupby(by=grouping_columns)[columns_to_show].function()"
      ],
      "execution_count": null,
      "outputs": []
    },
    {
      "cell_type": "markdown",
      "metadata": {
        "id": "3OzzEzqjQ8ZN"
      },
      "source": [
        "К датафрейму применяется метод groupby, который разделяет данные по grouping_columns – признаку или набору признаков.\n",
        "Выбираем нужные нам столбцы (columns_to_show).\n",
        "К полученным группам применяется функция или несколько функций."
      ]
    },
    {
      "cell_type": "code",
      "metadata": {
        "id": "Q2unWzwERBu1"
      },
      "source": [
        "columns_to_show = ['Total day minutes', 'Total eve minutes', 'Total night minutes']\n",
        "\n",
        "df.groupby(['Churn'])[columns_to_show].describe(percentiles=[])"
      ],
      "execution_count": null,
      "outputs": []
    },
    {
      "cell_type": "code",
      "metadata": {
        "id": "tlbTieJWQ7JO"
      },
      "source": [
        "columns_to_show = ['Total day minutes', 'Total eve minutes', 'Total night minutes']\n",
        "\n",
        "df.groupby(['Churn'])[columns_to_show].agg([np.mean, np.std, np.min, np.max])"
      ],
      "execution_count": null,
      "outputs": []
    },
    {
      "cell_type": "code",
      "metadata": {
        "id": "wWqalrkSRU6V"
      },
      "source": [
        "# таблицу сопряженности\n",
        "pd.crosstab(df['Churn'], df['International plan'])"
      ],
      "execution_count": null,
      "outputs": []
    },
    {
      "cell_type": "markdown",
      "metadata": {
        "id": "7vNO5KibR2rV"
      },
      "source": [
        "pivot_table, который принимает в качестве параметров:\n",
        "\n",
        "\n",
        "values – список переменных, по которым требуется рассчитать нужные статистики,\n",
        "index – список переменных, по которым нужно сгруппировать данные,\n",
        "aggfunc — то, что нам, собственно, нужно посчитать по группам — сумму, среднее, максимум, минимум или что-то ещё."
      ]
    },
    {
      "cell_type": "code",
      "metadata": {
        "id": "yBa6SeAMR0zI"
      },
      "source": [
        "df.pivot_table(['Total day calls', 'Total eve calls', 'Total night calls'], \n",
        "['Area code'], aggfunc='mean').head(10)"
      ],
      "execution_count": null,
      "outputs": []
    },
    {
      "cell_type": "code",
      "metadata": {
        "id": "CD8bzl_JSVnH"
      },
      "source": [
        "total_calls = df['Total day calls'] + df['Total eve calls'] + \\\n",
        "                  df['Total night calls'] + df['Total intl calls']\n",
        "df.insert(loc=len(df.columns), column='Total calls', value=total_calls) \n",
        "# loc - номер столбца, после которого нужно вставить данный Series\n",
        "# мы указали len(df.columns), чтобы вставить его в самом конце\n",
        "df.head()"
      ],
      "execution_count": null,
      "outputs": []
    },
    {
      "cell_type": "code",
      "metadata": {
        "id": "fOWqNNR6SjDK"
      },
      "source": [
        "# избавляемся от созданных только что столбцов\n",
        "df = df.drop(['Total charge', 'Total calls'], axis=1) \n",
        "\n",
        "df.drop([1, 2]).head() # а вот так можно удалить строчки"
      ],
      "execution_count": null,
      "outputs": []
    },
    {
      "cell_type": "code",
      "metadata": {
        "id": "N1vDxIa_S0AZ"
      },
      "source": [
        "pd.crosstab(df['Churn'], df['International plan'], margins=True)"
      ],
      "execution_count": null,
      "outputs": []
    },
    {
      "cell_type": "code",
      "metadata": {
        "id": "PoOgyI2cTunx"
      },
      "source": [
        "df['Many_service_calls'] = (df['Customer service calls'] > 3).astype('int')\n",
        "\n",
        "pd.crosstab(df['Many_service_calls'], df['Churn'], margins=True)\n"
      ],
      "execution_count": null,
      "outputs": []
    },
    {
      "cell_type": "code",
      "metadata": {
        "id": "QXv_2AyPnyBP"
      },
      "source": [
        "data.groupby(['race','sex'])['age'].describe()\n",
        "df.groupby('children')[['debt','total_income']].agg(['count','mean'])"
      ],
      "execution_count": null,
      "outputs": []
    },
    {
      "cell_type": "code",
      "metadata": {
        "id": "j-ly-YUcNM5m"
      },
      "source": [
        "def red_font_negatives(series):\n",
        "    highlight = 'color: red;'\n",
        "    default = ''\n",
        "    return [highlight if e < 0 else default for e in series]  \n",
        "\n",
        "\n",
        "def bold(series):\n",
        "    highlight = 'font-weight: bold;'\n",
        "    default = ''\n",
        "    return [highlight for e in series]  \n",
        "\n",
        "df_total_result_highlight = df_total_result.style.format('{:.2f}').apply(red_font_negatives, axis=0, subset=['against_target']).apply(\n",
        "    bold, axis=0, subset=['target']). background_gradient(\n",
        "    subset=['against_target' ], cmap='Reds_r', vmax=0)\n",
        "df_total_result_highlight\n",
        "# AHT should be negative"
      ],
      "execution_count": null,
      "outputs": []
    },
    {
      "cell_type": "code",
      "metadata": {
        "id": "lVJN4G5gCeTB"
      },
      "source": [
        "df_tenure_T.drop(['Calls_handled mean', 'AHT mean']).plot(\n",
        "    kind='bar', figsize=(20, 7), rot=0, ylabel='Percentage', title=\"KPIs by tenure\",  cmap=\"plasma_r\", alpha=0.6)\n",
        "plt.legend(loc=(1,0.75));"
      ],
      "execution_count": null,
      "outputs": []
    },
    {
      "cell_type": "code",
      "metadata": {
        "id": "qeHszTtGCfAA"
      },
      "source": [
        "df_tenure_T.loc[['Calls_handled mean', 'AHT mean']].plot(\n",
        "    kind='bar', rot=0, ylabel='Count', title=\"Calls handled and AHT by tenure\", cmap=\"plasma_r\", alpha=0.6)\n",
        "plt.legend(loc=(1,0.5));"
      ],
      "execution_count": null,
      "outputs": []
    },
    {
      "cell_type": "code",
      "metadata": {
        "id": "EdB7vFlxWPG2"
      },
      "source": [
        "#df['Tenure'] = df['Month'].map({'(0) 0 - 15 Days (OJT)': '00_0 - 15 Days (OJT)', '(1) 15 - 45 Days': '01_15 - 45 Days', '(2) 45 - 90 Days': '02_45 - 90 Days', '(3) 3 - 6 Months': '03_3 - 6 Months', '(4) 6 - 12 Months': '04_6 - 12 Months', '(5) 12 - 18 Months': '05_12 - 18 Months', '(6) >18 Months': '06_12 - 18 Months' })\n",
        "#df_tenure_T = df_tenure.T\n",
        "#df_tenure"
      ],
      "execution_count": null,
      "outputs": []
    },
    {
      "cell_type": "code",
      "metadata": {
        "id": "hgRsWACO5zLB"
      },
      "source": [
        "df_monthly=df.groupby(['Month'])[df.columns].agg(['mean'])\n",
        "df_monthly.columns = [' '.join(col).strip() for col in df_monthly.columns.values]\n",
        "df_monthly_graph=df_monthly.drop(\n",
        "    ['AHT mean', 'Calls_handled mean', 'TP Invitation Rate mean', 'TP Answer Rate mean', '% 5* Reviews mean' ], axis=1).plot(\n",
        "    linewidth = 3, figsize=(8, 6), title=\"KPIs by month\")\n",
        "df_monthly_graph.axhline(75, color='grey', linestyle='--', alpha=0.5)\n",
        "df_monthly_graph.axhline(85, color='grey', linestyle='--')\n",
        "plt.legend(loc=(1,0));"
      ],
      "execution_count": null,
      "outputs": []
    },
    {
      "cell_type": "code",
      "metadata": {
        "id": "DEx8xMhz6QMi"
      },
      "source": [
        "df_monthly_tab=df_monthly.T\n",
        "df_monthly_tab.insert(0,'target',[86,85,86,75,100,0,75,575,25,25,25])"
      ],
      "execution_count": null,
      "outputs": []
    },
    {
      "cell_type": "code",
      "metadata": {
        "id": "ClOkA-Fm6lJR"
      },
      "source": [
        "df_monthly_gradient = df_monthly_tab.style.background_gradient(\n",
        "    cmap='Oranges_r', axis=1, subset=['07_JUL', '08_AUG', '09_SEP']).format('{:.2f}')\n",
        "df_monthly_gradient"
      ],
      "execution_count": null,
      "outputs": []
    },
    {
      "cell_type": "code",
      "metadata": {
        "id": "NRz3LfBU6l0r"
      },
      "source": [
        "df_monthly_tab2=df_monthly_tab.insert(1,'target',[86,85,86,75,100,0,75,575,25,25,25])"
      ],
      "execution_count": null,
      "outputs": []
    },
    {
      "cell_type": "code",
      "metadata": {
        "id": "NKcvn3EIniAw"
      },
      "source": [
        "### * Дополнительно: кластеризация пользователей и сравнение результатов с сегментацией\n",
        "- стандартизация данных, дендрограмма, модель кластеризации на основании алгоритма K-Means и прогноз кластеров клиентов\n",
        "- распределения признаков для кластеров, интерпретация результатов кластеризации\n",
        "- сравнение результатов кластеризации и сегменирования"
      ],
      "execution_count": null,
      "outputs": []
    },
    {
      "cell_type": "code",
      "metadata": {
        "id": "ZaINmW3y28dF"
      },
      "source": [
        "cols_ru_name = ['скоринг', 'пол', 'возраст', 'объекты', 'балланс', 'продукты', 'карта', 'активность', 'зарплата', 'отток']\n",
        "portrait=df.describe().drop('userid', axis=1).drop('count')\n",
        "portrait.columns=cols_ru_name\n",
        "portrait"
      ],
      "execution_count": null,
      "outputs": []
    },
    {
      "cell_type": "code",
      "metadata": {
        "id": "IqdPwMJXfEhO"
      },
      "source": [
        ""
      ],
      "execution_count": null,
      "outputs": []
    },
    {
      "cell_type": "markdown",
      "metadata": {
        "id": "Bov0bH-4fJT1"
      },
      "source": [
        "\n",
        "***Заметим, что ожидаемый эффект теста - \"за 14 дней с момента регистрации в системе пользователи покажут улучшение каждой метрики не менее, чем на 10%:\". То есть в таком случае последние зарегистрированные (users['first_date']) должны иметь максимальную дату регистрации за 14 дней до последнего дня, по которому у нас есть данные (а это 30 декабря), то есть до 2020-12-17 23:36:34. "
      ]
    },
    {
      "cell_type": "code",
      "metadata": {
        "id": "4Nd5y722smnB"
      },
      "source": [
        "df[(df['Churn'] == 0) & (df['International plan'] == 'No')]['Total intl minutes'].max()"
      ],
      "execution_count": null,
      "outputs": []
    },
    {
      "cell_type": "code",
      "metadata": {
        "id": "hWOil81AsyI3"
      },
      "source": [
        "df.loc[0:5, 'State':'Area code']"
      ],
      "execution_count": null,
      "outputs": []
    },
    {
      "cell_type": "code",
      "metadata": {
        "id": "lxmHN8ocs9gg"
      },
      "source": [
        "Если нам нужна первая или последняя строчка датафрейма, пользуемся конструкцией df[:1] или df[-1:]:"
      ],
      "execution_count": null,
      "outputs": []
    },
    {
      "cell_type": "code",
      "metadata": {
        "id": "I_ZtDMyms-U3"
      },
      "source": [
        "df_events_A=total[total['group']=='A'].groupby('event_name')['event_name'].agg(['count'])\n",
        "df_events_A['percent']=df_events_A['count']/df_events_A['count'].sum()*100\n",
        "df_events_A.sort_values(by='percent', ascending=False).reset_index()\n",
        "df_events_B=total[total['group']=='B'].groupby('event_name')['event_name'].agg(['count'])\n",
        "df_events_B['percent']=df_events_B['count']/df_events_B['count'].sum()*100\n",
        "df_events_B.sort_values(by='percent', ascending=False).reset_index()\n",
        "df_events_A.merge(df_events_B, how='left', on='event_name', suffixes=('_A', '_B'))"
      ],
      "execution_count": null,
      "outputs": []
    },
    {
      "cell_type": "code",
      "metadata": {
        "id": "GmMm2xwQ0_oI"
      },
      "source": [
        "Процентное распределение типов событий в обеих группах схоже, при этом в группе B чуть больше доля логинов от всех событий, и меньше доля просмотров страницы. Пока не похоже, чтобы там была лучше конверсия. Посмотрим на данные по уникальным пользователям."
      ],
      "execution_count": null,
      "outputs": []
    },
    {
      "cell_type": "code",
      "metadata": {
        "id": "wAsf4pHFZeMu"
      },
      "source": [
        "# минимальная и максимальная дата \n",
        "print('минимальная дата регистрации:', users['first_date'].min())\n",
        "print('максимальная дата регистрации:', users['first_date'].max())"
      ],
      "execution_count": null,
      "outputs": []
    },
    {
      "cell_type": "markdown",
      "metadata": {
        "id": "2_GujFtaZiBt"
      },
      "source": [
        "Данные по пользователям тоже отличаются от тех, что в описании \"пользователи, зарегистрировавшиеся в интернет-магазине в период с 7 по 21 декабря 2020 года\". Также, сказано, что \"Дата остановки набора новых пользователей: 2020-12-21\". Общие данные имеются по пользователям, которые зарегистрировались вплоть до 23 декабря. Проверим эти данные снова, когда будем работать с датасетом для оценки эксперимента."
      ]
    },
    {
      "cell_type": "code",
      "metadata": {
        "id": "laTZvIxx71L5"
      },
      "source": [
        "#Чтобы посмотреть статистику по нечисловым признакам, нужно явно указать интересующие нас типы в параметре include.\n",
        "df.describe(include=['object', 'bool'])"
      ],
      "execution_count": null,
      "outputs": []
    },
    {
      "cell_type": "code",
      "source": [
        "# красивый groupby\n",
        "# nice groupny\n",
        "df.groupby(['gender', 'alco', 'cardio'])['BMI'].median().to_frame()"
      ],
      "metadata": {
        "id": "V1nSMUEfbd_P"
      },
      "execution_count": null,
      "outputs": []
    },
    {
      "cell_type": "code",
      "source": [
        "# astype\n",
        "df['age_years'] = (df['age'] / 365.25).round().astype('int')\n",
        "df[\"User_Score\"] = df[\"User_Score\"].astype(\"float64\")\n",
        "df[\"Year_of_Release\"] = df[\"Year_of_Release\"].astype(\"int64\")"
      ],
      "metadata": {
        "id": "jjtvWI5acQFw"
      },
      "execution_count": null,
      "outputs": []
    },
    {
      "cell_type": "code",
      "source": [
        "df[[x for x in df.columns if \"Sales\" in x] + [\"Year_of_Release\"]].groupby(\n",
        "    \"Year_of_Release\"\n",
        ").sum().plot();"
      ],
      "metadata": {
        "id": "NnDV0g5rcYPA"
      },
      "execution_count": null,
      "outputs": []
    },
    {
      "cell_type": "code",
      "source": [
        "top_platforms = (\n",
        "    df[\"Platform\"].value_counts().sort_values(ascending=False).head(5).index.values\n",
        ")\n",
        "sns.boxplot(\n",
        "    y=\"Platform\",\n",
        "    x=\"Critic_Score\",\n",
        "    data=df[df[\"Platform\"].isin(top_platforms)],\n",
        "    orient=\"h\",\n",
        ");"
      ],
      "metadata": {
        "id": "CkzGoz5zc_C4"
      },
      "execution_count": null,
      "outputs": []
    },
    {
      "cell_type": "code",
      "source": [
        "platform_genre_sales = (\n",
        "    df.pivot_table(\n",
        "        index=\"Platform\", columns=\"Genre\", values=\"Global_Sales\", aggfunc=sum\n",
        "    )\n",
        "    .fillna(0)\n",
        "    .applymap(float)\n",
        ")\n",
        "sns.heatmap(platform_genre_sales, annot=True, fmt=\".1f\", linewidths=0.5);"
      ],
      "metadata": {
        "id": "FP2-esXCdABH"
      },
      "execution_count": null,
      "outputs": []
    },
    {
      "cell_type": "code",
      "source": [
        "# Calculate the correlation matrix\n",
        "df = filtered_df.copy()\n",
        "\n",
        "corr = df.corr(method='pearson')\n",
        "\n",
        "# Create a mask to hide the upper triangle of the correlation matrix (which is symmetric)\n",
        "mask = np.zeros_like(corr, dtype=np.bool)\n",
        "mask[np.triu_indices_from(mask)] = True\n",
        "\n",
        "f, ax = plt.subplots(figsize=(12, 9))\n",
        "\n",
        "sns.heatmap(corr, mask=mask, vmax=1, center=0, annot=True, fmt='.1f',\n",
        "            square=True, linewidths=.5, cbar_kws={\"shrink\": .5});"
      ],
      "metadata": {
        "id": "aqYdBUCZdD7P"
      },
      "execution_count": null,
      "outputs": []
    },
    {
      "cell_type": "code",
      "source": [
        "sns.FacetGrid(df, hue=\"gender\", size=12) \\\n",
        "   .map(sns.kdeplot, \"height\").add_legend();"
      ],
      "metadata": {
        "id": "fNv0UgipdgIf"
      },
      "execution_count": null,
      "outputs": []
    },
    {
      "cell_type": "code",
      "source": [
        "# Calculate the correlation matrix\n",
        "corr = df[['id', 'age', 'height', 'weight', \n",
        "           'ap_hi', 'ap_lo', 'cholesterol', \n",
        "           'gluc']].corr(method='spearman')\n",
        "\n",
        "# Create a mask to hide the upper triangle of the correlation matrix (which is symmetric)\n",
        "mask = np.zeros_like(corr, dtype=np.bool)\n",
        "mask[np.triu_indices_from(mask)] = True\n",
        "\n",
        "f, ax = plt.subplots(figsize=(12, 10))\n",
        "\n",
        "# Plot the heatmap using the mask and correct aspect ratio\n",
        "sns.heatmap(corr, mask=mask, vmax=1, center=0, annot=True, fmt='.2f',\n",
        "            square=True, linewidths=.5, cbar_kws={\"shrink\": .5});"
      ],
      "metadata": {
        "id": "-ypNs2bkeYMY"
      },
      "execution_count": null,
      "outputs": []
    }
  ]
}